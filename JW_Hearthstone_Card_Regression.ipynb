{
 "cells": [
  {
   "cell_type": "markdown",
   "id": "2dd80315",
   "metadata": {},
   "source": [
    "Jasper Wilson\n",
    "6/13/2022\n",
    "Hearthstone Card Analysis\n",
    "\n",
    "This is a small data-science project to demonstrate my abilities with common tools and processes. The aims of this project are to:\n",
    "<ol>\n",
    "    <li> Create a dataframe that includes all Hearthstone Cards and a value that we can associate with their strength</li>\n",
    "    <li> Use https://rapidapi.com/omgvamp/api/hearthstone/ to get the full information for each card </li>\n",
    "    <li> Create and normalize dataframe that includes basic features that could be relevant to a card's strength </li>\n",
    "    <li> Use TensorFlow to create a neural network that can predict the strength of hypothetical cards </li>\n",
    "</ol>\n",
    "This project is unlikely to yield impactful results, since the strength of cards is tied to complex factors like card-specific text that will not be evaluated in this project. The goal of this project is to show my competence with data science tools. "
   ]
  },
  {
   "cell_type": "markdown",
   "id": "db56e5ed",
   "metadata": {},
   "source": [
    "Lets start by importing some necessary libraries for this project."
   ]
  },
  {
   "cell_type": "code",
   "execution_count": 231,
   "id": "15edefc9",
   "metadata": {},
   "outputs": [],
   "source": [
    "#baisic tools\n",
    "import re\n",
    "import requests\n",
    "import time\n",
    "import math\n",
    "import numpy as np\n",
    "import pandas as pd\n",
    "\n",
    "#scraping tools\n",
    "from bs4 import BeautifulSoup\n",
    "from selenium import webdriver\n",
    "from selenium.webdriver.chrome.options import Options\n",
    "from selenium.webdriver.chrome.service import Service\n",
    "from webdriver_manager.chrome import ChromeDriverManager\n",
    "from selenium.webdriver.common.by import By\n",
    "from selenium.webdriver.common.keys import Keys\n",
    "\n",
    "#sklearn for dummy encoding\n",
    "from sklearn.preprocessing import MultiLabelBinarizer\n",
    "\n",
    "#tensorflow for training out network\n",
    "import tensorflow as tf\n",
    "from tensorflow import keras\n",
    "from tensorflow.keras import layers\n",
    "\n",
    "#some minor visualization\n",
    "import matplotlib.pyplot as plt\n",
    "import seaborn as sns"
   ]
  },
  {
   "cell_type": "markdown",
   "id": "8814b3c9",
   "metadata": {},
   "source": [
    "The best indicator for the strength of individual cards is played rate (PR), which is the percentage of decks that contain a given card. This statistic can be found at https://hsreplay.net/cards/#sortBy=includedPopularity&gameType=RANKED_WILD&showSparse=yes. So let's try scraping the information from this website. "
   ]
  },
  {
   "cell_type": "code",
   "execution_count": 2,
   "id": "fdd2b9dd",
   "metadata": {},
   "outputs": [],
   "source": [
    "page = requests.get(\"https://hsreplay.net/cards/#sortBy=includedPopularity&gameType=RANKED_WILD&showSparse=yes&type=MINION\").text\n",
    "soup = BeautifulSoup(page, 'html.parser')"
   ]
  },
  {
   "cell_type": "markdown",
   "id": "3921a873",
   "metadata": {},
   "source": [
    "Now that we have our page let's use BeutifulSoup to get a list of all the card names."
   ]
  },
  {
   "cell_type": "code",
   "execution_count": 3,
   "id": "30f298e4",
   "metadata": {},
   "outputs": [
    {
     "name": "stdout",
     "output_type": "stream",
     "text": [
      "0\n"
     ]
    }
   ],
   "source": [
    "card_names = soup.find_all(class_='card-tile')\n",
    "print(len(card_names))"
   ]
  },
  {
   "cell_type": "markdown",
   "id": "fc275b7b",
   "metadata": {},
   "source": [
    "Well that isn't right. It seems like this page loads the cards with JavaScript, so we need to use Selenium to load the page before we scrape it. "
   ]
  },
  {
   "cell_type": "code",
   "execution_count": 4,
   "id": "b0569ef0",
   "metadata": {},
   "outputs": [
    {
     "name": "stdout",
     "output_type": "stream",
     "text": [
      "\n"
     ]
    },
    {
     "name": "stderr",
     "output_type": "stream",
     "text": [
      "[WDM] - ====== WebDriver manager ======\n",
      "[WDM] - Current google-chrome version is 102.0.5005\n",
      "[WDM] - Get LATEST chromedriver version for 102.0.5005 google-chrome\n",
      "[WDM] - About to download new driver from https://chromedriver.storage.googleapis.com/102.0.5005.61/chromedriver_linux64.zip\n",
      "[WDM] - Driver has been saved in cache [/home/jaspermwilson/.wdm/drivers/chromedriver/linux64/102.0.5005.61]\n"
     ]
    },
    {
     "ename": "WebDriverException",
     "evalue": "Message: unknown error: Chrome failed to start: exited abnormally.\n  (unknown error: DevToolsActivePort file doesn't exist)\n  (The process started from chrome location /usr/bin/google-chrome is no longer running, so ChromeDriver is assuming that Chrome has crashed.)\nStacktrace:\n#0 0x55c9c7cf3f33 <unknown>\n#1 0x55c9c7a3e118 <unknown>\n#2 0x55c9c7a61678 <unknown>\n#3 0x55c9c7a5cd5a <unknown>\n#4 0x55c9c7a97d3a <unknown>\n#5 0x55c9c7a91e63 <unknown>\n#6 0x55c9c7a6782a <unknown>\n#7 0x55c9c7a68985 <unknown>\n#8 0x55c9c7d384cd <unknown>\n#9 0x55c9c7d3c5ec <unknown>\n#10 0x55c9c7d2271e <unknown>\n#11 0x55c9c7d3d238 <unknown>\n#12 0x55c9c7d17870 <unknown>\n#13 0x55c9c7d59608 <unknown>\n#14 0x55c9c7d59788 <unknown>\n#15 0x55c9c7d73f1d <unknown>\n#16 0x7f176f66b609 <unknown>\n",
     "output_type": "error",
     "traceback": [
      "\u001b[0;31m---------------------------------------------------------------------------\u001b[0m",
      "\u001b[0;31mWebDriverException\u001b[0m                        Traceback (most recent call last)",
      "Input \u001b[0;32mIn [4]\u001b[0m, in \u001b[0;36m<cell line: 1>\u001b[0;34m()\u001b[0m\n\u001b[0;32m----> 1\u001b[0m driver \u001b[38;5;241m=\u001b[39m \u001b[43mwebdriver\u001b[49m\u001b[38;5;241;43m.\u001b[39;49m\u001b[43mChrome\u001b[49m\u001b[43m(\u001b[49m\u001b[43mservice\u001b[49m\u001b[38;5;241;43m=\u001b[39;49m\u001b[43mService\u001b[49m\u001b[43m(\u001b[49m\u001b[43mChromeDriverManager\u001b[49m\u001b[43m(\u001b[49m\u001b[43m)\u001b[49m\u001b[38;5;241;43m.\u001b[39;49m\u001b[43minstall\u001b[49m\u001b[43m(\u001b[49m\u001b[43m)\u001b[49m\u001b[43m)\u001b[49m\u001b[43m)\u001b[49m\n\u001b[1;32m      2\u001b[0m driver\u001b[38;5;241m.\u001b[39mget(\u001b[38;5;124m'\u001b[39m\u001b[38;5;124mhttps://hsreplay.net/cards/#sortBy=includedPopularity&gameType=RANKED_WILD&showSparse=yes&type=MINION\u001b[39m\u001b[38;5;124m'\u001b[39m)\n",
      "File \u001b[0;32m~/.pyenv/versions/3.9.6/lib/python3.9/site-packages/selenium/webdriver/chrome/webdriver.py:70\u001b[0m, in \u001b[0;36mWebDriver.__init__\u001b[0;34m(self, executable_path, port, options, service_args, desired_capabilities, service_log_path, chrome_options, service, keep_alive)\u001b[0m\n\u001b[1;32m     67\u001b[0m \u001b[38;5;28;01mif\u001b[39;00m \u001b[38;5;129;01mnot\u001b[39;00m service:\n\u001b[1;32m     68\u001b[0m     service \u001b[38;5;241m=\u001b[39m Service(executable_path, port, service_args, service_log_path)\n\u001b[0;32m---> 70\u001b[0m \u001b[38;5;28;43msuper\u001b[39;49m\u001b[43m(\u001b[49m\u001b[43mWebDriver\u001b[49m\u001b[43m,\u001b[49m\u001b[43m \u001b[49m\u001b[38;5;28;43mself\u001b[39;49m\u001b[43m)\u001b[49m\u001b[38;5;241;43m.\u001b[39;49m\u001b[38;5;21;43m__init__\u001b[39;49m\u001b[43m(\u001b[49m\u001b[43mDesiredCapabilities\u001b[49m\u001b[38;5;241;43m.\u001b[39;49m\u001b[43mCHROME\u001b[49m\u001b[43m[\u001b[49m\u001b[38;5;124;43m'\u001b[39;49m\u001b[38;5;124;43mbrowserName\u001b[39;49m\u001b[38;5;124;43m'\u001b[39;49m\u001b[43m]\u001b[49m\u001b[43m,\u001b[49m\u001b[43m \u001b[49m\u001b[38;5;124;43m\"\u001b[39;49m\u001b[38;5;124;43mgoog\u001b[39;49m\u001b[38;5;124;43m\"\u001b[39;49m\u001b[43m,\u001b[49m\n\u001b[1;32m     71\u001b[0m \u001b[43m                                \u001b[49m\u001b[43mport\u001b[49m\u001b[43m,\u001b[49m\u001b[43m \u001b[49m\u001b[43moptions\u001b[49m\u001b[43m,\u001b[49m\n\u001b[1;32m     72\u001b[0m \u001b[43m                                \u001b[49m\u001b[43mservice_args\u001b[49m\u001b[43m,\u001b[49m\u001b[43m \u001b[49m\u001b[43mdesired_capabilities\u001b[49m\u001b[43m,\u001b[49m\n\u001b[1;32m     73\u001b[0m \u001b[43m                                \u001b[49m\u001b[43mservice_log_path\u001b[49m\u001b[43m,\u001b[49m\u001b[43m \u001b[49m\u001b[43mservice\u001b[49m\u001b[43m,\u001b[49m\u001b[43m \u001b[49m\u001b[43mkeep_alive\u001b[49m\u001b[43m)\u001b[49m\n",
      "File \u001b[0;32m~/.pyenv/versions/3.9.6/lib/python3.9/site-packages/selenium/webdriver/chromium/webdriver.py:92\u001b[0m, in \u001b[0;36mChromiumDriver.__init__\u001b[0;34m(self, browser_name, vendor_prefix, port, options, service_args, desired_capabilities, service_log_path, service, keep_alive)\u001b[0m\n\u001b[1;32m     89\u001b[0m \u001b[38;5;28mself\u001b[39m\u001b[38;5;241m.\u001b[39mservice\u001b[38;5;241m.\u001b[39mstart()\n\u001b[1;32m     91\u001b[0m \u001b[38;5;28;01mtry\u001b[39;00m:\n\u001b[0;32m---> 92\u001b[0m     \u001b[43mRemoteWebDriver\u001b[49m\u001b[38;5;241;43m.\u001b[39;49m\u001b[38;5;21;43m__init__\u001b[39;49m\u001b[43m(\u001b[49m\n\u001b[1;32m     93\u001b[0m \u001b[43m        \u001b[49m\u001b[38;5;28;43mself\u001b[39;49m\u001b[43m,\u001b[49m\n\u001b[1;32m     94\u001b[0m \u001b[43m        \u001b[49m\u001b[43mcommand_executor\u001b[49m\u001b[38;5;241;43m=\u001b[39;49m\u001b[43mChromiumRemoteConnection\u001b[49m\u001b[43m(\u001b[49m\n\u001b[1;32m     95\u001b[0m \u001b[43m            \u001b[49m\u001b[43mremote_server_addr\u001b[49m\u001b[38;5;241;43m=\u001b[39;49m\u001b[38;5;28;43mself\u001b[39;49m\u001b[38;5;241;43m.\u001b[39;49m\u001b[43mservice\u001b[49m\u001b[38;5;241;43m.\u001b[39;49m\u001b[43mservice_url\u001b[49m\u001b[43m,\u001b[49m\n\u001b[1;32m     96\u001b[0m \u001b[43m            \u001b[49m\u001b[43mbrowser_name\u001b[49m\u001b[38;5;241;43m=\u001b[39;49m\u001b[43mbrowser_name\u001b[49m\u001b[43m,\u001b[49m\u001b[43m \u001b[49m\u001b[43mvendor_prefix\u001b[49m\u001b[38;5;241;43m=\u001b[39;49m\u001b[43mvendor_prefix\u001b[49m\u001b[43m,\u001b[49m\n\u001b[1;32m     97\u001b[0m \u001b[43m            \u001b[49m\u001b[43mkeep_alive\u001b[49m\u001b[38;5;241;43m=\u001b[39;49m\u001b[43mkeep_alive\u001b[49m\u001b[43m,\u001b[49m\u001b[43m \u001b[49m\u001b[43mignore_proxy\u001b[49m\u001b[38;5;241;43m=\u001b[39;49m\u001b[43m_ignore_proxy\u001b[49m\u001b[43m)\u001b[49m\u001b[43m,\u001b[49m\n\u001b[1;32m     98\u001b[0m \u001b[43m        \u001b[49m\u001b[43moptions\u001b[49m\u001b[38;5;241;43m=\u001b[39;49m\u001b[43moptions\u001b[49m\u001b[43m)\u001b[49m\n\u001b[1;32m     99\u001b[0m \u001b[38;5;28;01mexcept\u001b[39;00m \u001b[38;5;167;01mException\u001b[39;00m:\n\u001b[1;32m    100\u001b[0m     \u001b[38;5;28mself\u001b[39m\u001b[38;5;241m.\u001b[39mquit()\n",
      "File \u001b[0;32m~/.pyenv/versions/3.9.6/lib/python3.9/site-packages/selenium/webdriver/remote/webdriver.py:275\u001b[0m, in \u001b[0;36mWebDriver.__init__\u001b[0;34m(self, command_executor, desired_capabilities, browser_profile, proxy, keep_alive, file_detector, options)\u001b[0m\n\u001b[1;32m    273\u001b[0m \u001b[38;5;28mself\u001b[39m\u001b[38;5;241m.\u001b[39m_authenticator_id \u001b[38;5;241m=\u001b[39m \u001b[38;5;28;01mNone\u001b[39;00m\n\u001b[1;32m    274\u001b[0m \u001b[38;5;28mself\u001b[39m\u001b[38;5;241m.\u001b[39mstart_client()\n\u001b[0;32m--> 275\u001b[0m \u001b[38;5;28;43mself\u001b[39;49m\u001b[38;5;241;43m.\u001b[39;49m\u001b[43mstart_session\u001b[49m\u001b[43m(\u001b[49m\u001b[43mcapabilities\u001b[49m\u001b[43m,\u001b[49m\u001b[43m \u001b[49m\u001b[43mbrowser_profile\u001b[49m\u001b[43m)\u001b[49m\n",
      "File \u001b[0;32m~/.pyenv/versions/3.9.6/lib/python3.9/site-packages/selenium/webdriver/remote/webdriver.py:365\u001b[0m, in \u001b[0;36mWebDriver.start_session\u001b[0;34m(self, capabilities, browser_profile)\u001b[0m\n\u001b[1;32m    363\u001b[0m w3c_caps \u001b[38;5;241m=\u001b[39m _make_w3c_caps(capabilities)\n\u001b[1;32m    364\u001b[0m parameters \u001b[38;5;241m=\u001b[39m {\u001b[38;5;124m\"\u001b[39m\u001b[38;5;124mcapabilities\u001b[39m\u001b[38;5;124m\"\u001b[39m: w3c_caps}\n\u001b[0;32m--> 365\u001b[0m response \u001b[38;5;241m=\u001b[39m \u001b[38;5;28;43mself\u001b[39;49m\u001b[38;5;241;43m.\u001b[39;49m\u001b[43mexecute\u001b[49m\u001b[43m(\u001b[49m\u001b[43mCommand\u001b[49m\u001b[38;5;241;43m.\u001b[39;49m\u001b[43mNEW_SESSION\u001b[49m\u001b[43m,\u001b[49m\u001b[43m \u001b[49m\u001b[43mparameters\u001b[49m\u001b[43m)\u001b[49m\n\u001b[1;32m    366\u001b[0m \u001b[38;5;28;01mif\u001b[39;00m \u001b[38;5;124m'\u001b[39m\u001b[38;5;124msessionId\u001b[39m\u001b[38;5;124m'\u001b[39m \u001b[38;5;129;01mnot\u001b[39;00m \u001b[38;5;129;01min\u001b[39;00m response:\n\u001b[1;32m    367\u001b[0m     response \u001b[38;5;241m=\u001b[39m response[\u001b[38;5;124m'\u001b[39m\u001b[38;5;124mvalue\u001b[39m\u001b[38;5;124m'\u001b[39m]\n",
      "File \u001b[0;32m~/.pyenv/versions/3.9.6/lib/python3.9/site-packages/selenium/webdriver/remote/webdriver.py:430\u001b[0m, in \u001b[0;36mWebDriver.execute\u001b[0;34m(self, driver_command, params)\u001b[0m\n\u001b[1;32m    428\u001b[0m response \u001b[38;5;241m=\u001b[39m \u001b[38;5;28mself\u001b[39m\u001b[38;5;241m.\u001b[39mcommand_executor\u001b[38;5;241m.\u001b[39mexecute(driver_command, params)\n\u001b[1;32m    429\u001b[0m \u001b[38;5;28;01mif\u001b[39;00m response:\n\u001b[0;32m--> 430\u001b[0m     \u001b[38;5;28;43mself\u001b[39;49m\u001b[38;5;241;43m.\u001b[39;49m\u001b[43merror_handler\u001b[49m\u001b[38;5;241;43m.\u001b[39;49m\u001b[43mcheck_response\u001b[49m\u001b[43m(\u001b[49m\u001b[43mresponse\u001b[49m\u001b[43m)\u001b[49m\n\u001b[1;32m    431\u001b[0m     response[\u001b[38;5;124m'\u001b[39m\u001b[38;5;124mvalue\u001b[39m\u001b[38;5;124m'\u001b[39m] \u001b[38;5;241m=\u001b[39m \u001b[38;5;28mself\u001b[39m\u001b[38;5;241m.\u001b[39m_unwrap_value(\n\u001b[1;32m    432\u001b[0m         response\u001b[38;5;241m.\u001b[39mget(\u001b[38;5;124m'\u001b[39m\u001b[38;5;124mvalue\u001b[39m\u001b[38;5;124m'\u001b[39m, \u001b[38;5;28;01mNone\u001b[39;00m))\n\u001b[1;32m    433\u001b[0m     \u001b[38;5;28;01mreturn\u001b[39;00m response\n",
      "File \u001b[0;32m~/.pyenv/versions/3.9.6/lib/python3.9/site-packages/selenium/webdriver/remote/errorhandler.py:247\u001b[0m, in \u001b[0;36mErrorHandler.check_response\u001b[0;34m(self, response)\u001b[0m\n\u001b[1;32m    245\u001b[0m         alert_text \u001b[38;5;241m=\u001b[39m value[\u001b[38;5;124m'\u001b[39m\u001b[38;5;124malert\u001b[39m\u001b[38;5;124m'\u001b[39m]\u001b[38;5;241m.\u001b[39mget(\u001b[38;5;124m'\u001b[39m\u001b[38;5;124mtext\u001b[39m\u001b[38;5;124m'\u001b[39m)\n\u001b[1;32m    246\u001b[0m     \u001b[38;5;28;01mraise\u001b[39;00m exception_class(message, screen, stacktrace, alert_text)  \u001b[38;5;66;03m# type: ignore[call-arg]  # mypy is not smart enough here\u001b[39;00m\n\u001b[0;32m--> 247\u001b[0m \u001b[38;5;28;01mraise\u001b[39;00m exception_class(message, screen, stacktrace)\n",
      "\u001b[0;31mWebDriverException\u001b[0m: Message: unknown error: Chrome failed to start: exited abnormally.\n  (unknown error: DevToolsActivePort file doesn't exist)\n  (The process started from chrome location /usr/bin/google-chrome is no longer running, so ChromeDriver is assuming that Chrome has crashed.)\nStacktrace:\n#0 0x55c9c7cf3f33 <unknown>\n#1 0x55c9c7a3e118 <unknown>\n#2 0x55c9c7a61678 <unknown>\n#3 0x55c9c7a5cd5a <unknown>\n#4 0x55c9c7a97d3a <unknown>\n#5 0x55c9c7a91e63 <unknown>\n#6 0x55c9c7a6782a <unknown>\n#7 0x55c9c7a68985 <unknown>\n#8 0x55c9c7d384cd <unknown>\n#9 0x55c9c7d3c5ec <unknown>\n#10 0x55c9c7d2271e <unknown>\n#11 0x55c9c7d3d238 <unknown>\n#12 0x55c9c7d17870 <unknown>\n#13 0x55c9c7d59608 <unknown>\n#14 0x55c9c7d59788 <unknown>\n#15 0x55c9c7d73f1d <unknown>\n#16 0x7f176f66b609 <unknown>\n"
     ]
    }
   ],
   "source": [
    "driver = webdriver.Chrome(service=Service(ChromeDriverManager().install()))\n",
    "driver.get('https://hsreplay.net/cards/#sortBy=includedPopularity&gameType=RANKED_WILD&showSparse=yes&type=MINION')"
   ]
  },
  {
   "cell_type": "markdown",
   "id": "d07409f1",
   "metadata": {},
   "source": [
    "That didn't work for me, so let's use the solution from https://stackoverflow.com/questions/53073411/selenium-webdriverexceptionchrome-failed-to-start-crashed-as-google-chrome-is. If the previous block didn't throw an error for you skip the next step."
   ]
  },
  {
   "cell_type": "code",
   "execution_count": null,
   "id": "e8a50690",
   "metadata": {},
   "outputs": [],
   "source": [
    "chrome_options = Options()\n",
    "chrome_options.add_argument('--headless')\n",
    "chrome_options.add_argument('--no-sandbox')\n",
    "chrome_options.add_argument('--disable-dev-shm-usage')\n",
    "\n",
    "driver = webdriver.Chrome('/home/jaspermwilson/hs_deck_completion/chromedriver',chrome_options=chrome_options) #replace path here with path to chromedriver, see full details at https://chromedriver.chromium.org/getting-started\n",
    "driver.get('https://hsreplay.net/cards/#sortBy=includedPopularity&gameType=RANKED_WILD&showSparse=yes&type=MINION')"
   ]
  },
  {
   "cell_type": "markdown",
   "id": "64cbbbae",
   "metadata": {},
   "source": [
    "Alright now that we can read the JavaScript let's see how many cards we have now."
   ]
  },
  {
   "cell_type": "code",
   "execution_count": null,
   "id": "2ab03749",
   "metadata": {},
   "outputs": [],
   "source": [
    "html = driver.page_source\n",
    "soup = BeautifulSoup(html)\n",
    "card_names = soup.find_all(class_='card-tile')\n",
    "print(len(card_names))"
   ]
  },
  {
   "cell_type": "markdown",
   "id": "5ac2235d",
   "metadata": {},
   "source": [
    "That still isn't right. There should be well over 1000 cards on this page. Unfortunately these cards are loaded dynamically after the user scrolls. So let's take a solution from https://stackoverflow.com/questions/20986631/how-can-i-scroll-a-web-page-using-selenium-webdriver-in-python to load all the cards. This code is inconsistent, loading the page may take a variable amount of time or hsreplay.net could refuse connection. Trying different pause times I was able to get all the cards and saved the output in text files."
   ]
  },
  {
   "cell_type": "code",
   "execution_count": null,
   "id": "71d78f1e",
   "metadata": {
    "scrolled": true
   },
   "outputs": [],
   "source": [
    "SCROLL_PAUSE_TIME = 2\n",
    "\n",
    "# Get scroll height\n",
    "last_height = driver.execute_script(\"return document.body.scrollHeight\")\n",
    "\n",
    "#scroll down\n",
    "driver.execute_script(\"window.scrollTo(0, 1000);\")\n",
    "\n",
    "while True:\n",
    "    # Scroll down to bottom\n",
    "    driver.execute_script(\"window.scrollTo(0, document.body.scrollHeight);\")\n",
    "\n",
    "    # Wait to load page\n",
    "    time.sleep(SCROLL_PAUSE_TIME)\n",
    "\n",
    "    # Calculate new scroll height and compare with last scroll height\n",
    "    new_height = driver.execute_script(\"return document.body.scrollHeight\")\n",
    "    if new_height == last_height:\n",
    "        break\n",
    "    last_height = new_height"
   ]
  },
  {
   "cell_type": "markdown",
   "id": "8b4f150f",
   "metadata": {},
   "source": [
    "The following code blocks were used to generate the text-files to use for later use on 6/24/2022. If you want to generate new data un-comment this code, otherwise skip the next block.\n"
   ]
  },
  {
   "cell_type": "code",
   "execution_count": 2,
   "id": "b7be82f7",
   "metadata": {},
   "outputs": [
    {
     "ename": "NameError",
     "evalue": "name 'driver' is not defined",
     "output_type": "error",
     "traceback": [
      "\u001b[0;31m---------------------------------------------------------------------------\u001b[0m",
      "\u001b[0;31mNameError\u001b[0m                                 Traceback (most recent call last)",
      "Input \u001b[0;32mIn [2]\u001b[0m, in \u001b[0;36m<cell line: 1>\u001b[0;34m()\u001b[0m\n\u001b[0;32m----> 1\u001b[0m html \u001b[38;5;241m=\u001b[39m \u001b[43mdriver\u001b[49m\u001b[38;5;241m.\u001b[39mpage_source\n\u001b[1;32m      2\u001b[0m soup \u001b[38;5;241m=\u001b[39m BeautifulSoup(html)\n\u001b[1;32m      4\u001b[0m card_names_soup \u001b[38;5;241m=\u001b[39m soup\u001b[38;5;241m.\u001b[39mfind_all(class_\u001b[38;5;241m=\u001b[39m\u001b[38;5;124m'\u001b[39m\u001b[38;5;124mcard-tile\u001b[39m\u001b[38;5;124m'\u001b[39m)\n",
      "\u001b[0;31mNameError\u001b[0m: name 'driver' is not defined"
     ]
    }
   ],
   "source": [
    "html = driver.page_source\n",
    "soup = BeautifulSoup(html)\n",
    "\n",
    "card_names_soup = soup.find_all(class_='card-tile')\n",
    "card_names_list = []\n",
    "for i in card_names_soup:\n",
    "    card_names_list.append(i['aria-label'])\n",
    "\n",
    "with open('Card_Names.txt', 'w') as f:\n",
    "    for line in card_names_list:\n",
    "        f.write(line)\n",
    "        f.write('\\n')\n",
    "    \n",
    "statistics = soup.find_all('div', {'aria-describedby':re.compile('table1-row\\S+ table1-column0')})\n",
    "played_percent_list = []\n",
    "for i in statistics:\n",
    "    played_percent_list.append(i.text)\n",
    "\n",
    "with open('Card_Played_Rate.txt', 'w') as f:\n",
    "    for line in played_percent_list:\n",
    "        f.write(line)\n",
    "        f.write('\\n')"
   ]
  },
  {
   "cell_type": "markdown",
   "id": "0e6f8fa9",
   "metadata": {},
   "source": [
    "Get data from our text files, and make sure that the length and content looks right."
   ]
  },
  {
   "cell_type": "code",
   "execution_count": 3,
   "id": "661a616b",
   "metadata": {},
   "outputs": [
    {
     "name": "stdout",
     "output_type": "stream",
     "text": [
      "2535\n",
      "Zephrys the Great\n",
      "2535\n",
      "13.0%\n"
     ]
    }
   ],
   "source": [
    "card_names_file = open(\"Card_Names.txt\", \"r\")\n",
    "card_names_data = card_names_file.read()\n",
    "card_names_list = card_names_data.split(\"\\n\")\n",
    "print(len(card_names_list))\n",
    "print(card_names_list[0])\n",
    "\n",
    "played_percent_file = open(\"Card_Played_Rate.txt\", \"r\")\n",
    "played_percent_data = played_percent_file.read()\n",
    "played_percent_list = played_percent_data.split(\"\\n\")\n",
    "print(len(played_percent_list))\n",
    "print(played_percent_list[0])"
   ]
  },
  {
   "cell_type": "markdown",
   "id": "3a97ec1b",
   "metadata": {},
   "source": [
    "These are one card too long since the last split returns an empty line, so we need to remove the last value from each list."
   ]
  },
  {
   "cell_type": "code",
   "execution_count": 4,
   "id": "a4dc5800",
   "metadata": {},
   "outputs": [
    {
     "data": {
      "text/plain": [
       "''"
      ]
     },
     "execution_count": 4,
     "metadata": {},
     "output_type": "execute_result"
    }
   ],
   "source": [
    "card_names_list.pop()\n",
    "played_percent_list.pop()\n"
   ]
  },
  {
   "cell_type": "markdown",
   "id": "9b357687",
   "metadata": {},
   "source": [
    "Now let's make our dataframe."
   ]
  },
  {
   "cell_type": "code",
   "execution_count": 5,
   "id": "a555c92c",
   "metadata": {},
   "outputs": [
    {
     "data": {
      "text/html": [
       "<div>\n",
       "<style scoped>\n",
       "    .dataframe tbody tr th:only-of-type {\n",
       "        vertical-align: middle;\n",
       "    }\n",
       "\n",
       "    .dataframe tbody tr th {\n",
       "        vertical-align: top;\n",
       "    }\n",
       "\n",
       "    .dataframe thead th {\n",
       "        text-align: right;\n",
       "    }\n",
       "</style>\n",
       "<table border=\"1\" class=\"dataframe\">\n",
       "  <thead>\n",
       "    <tr style=\"text-align: right;\">\n",
       "      <th></th>\n",
       "      <th>Name</th>\n",
       "      <th>Inclusion Rate String</th>\n",
       "    </tr>\n",
       "  </thead>\n",
       "  <tbody>\n",
       "    <tr>\n",
       "      <th>0</th>\n",
       "      <td>Zephrys the Great</td>\n",
       "      <td>13.0%</td>\n",
       "    </tr>\n",
       "    <tr>\n",
       "      <th>1</th>\n",
       "      <td>Mutanus the Devourer</td>\n",
       "      <td>12.8%</td>\n",
       "    </tr>\n",
       "    <tr>\n",
       "      <th>2</th>\n",
       "      <td>Dirty Rat</td>\n",
       "      <td>10.9%</td>\n",
       "    </tr>\n",
       "    <tr>\n",
       "      <th>3</th>\n",
       "      <td>Brann Bronzebeard</td>\n",
       "      <td>10.6%</td>\n",
       "    </tr>\n",
       "    <tr>\n",
       "      <th>4</th>\n",
       "      <td>Blademaster Okani</td>\n",
       "      <td>9.6%</td>\n",
       "    </tr>\n",
       "    <tr>\n",
       "      <th>...</th>\n",
       "      <td>...</td>\n",
       "      <td>...</td>\n",
       "    </tr>\n",
       "    <tr>\n",
       "      <th>2529</th>\n",
       "      <td>Am'gam Rager</td>\n",
       "      <td>0%</td>\n",
       "    </tr>\n",
       "    <tr>\n",
       "      <th>2530</th>\n",
       "      <td>Air Elemental</td>\n",
       "      <td>0%</td>\n",
       "    </tr>\n",
       "    <tr>\n",
       "      <th>2531</th>\n",
       "      <td>Acidmaw</td>\n",
       "      <td>0%</td>\n",
       "    </tr>\n",
       "    <tr>\n",
       "      <th>2532</th>\n",
       "      <td>Abominable Bowman</td>\n",
       "      <td>0%</td>\n",
       "    </tr>\n",
       "    <tr>\n",
       "      <th>2533</th>\n",
       "      <td>Aberrant Berserker</td>\n",
       "      <td>0%</td>\n",
       "    </tr>\n",
       "  </tbody>\n",
       "</table>\n",
       "<p>2534 rows × 2 columns</p>\n",
       "</div>"
      ],
      "text/plain": [
       "                      Name Inclusion Rate String\n",
       "0        Zephrys the Great                 13.0%\n",
       "1     Mutanus the Devourer                 12.8%\n",
       "2                Dirty Rat                 10.9%\n",
       "3        Brann Bronzebeard                 10.6%\n",
       "4        Blademaster Okani                  9.6%\n",
       "...                    ...                   ...\n",
       "2529          Am'gam Rager                    0%\n",
       "2530         Air Elemental                    0%\n",
       "2531               Acidmaw                    0%\n",
       "2532     Abominable Bowman                    0%\n",
       "2533    Aberrant Berserker                    0%\n",
       "\n",
       "[2534 rows x 2 columns]"
      ]
     },
     "execution_count": 5,
     "metadata": {},
     "output_type": "execute_result"
    }
   ],
   "source": [
    "df = pd.DataFrame()\n",
    "df['Name'] = card_names_list\n",
    "df['Inclusion Rate String'] = played_percent_list\n",
    "df\n"
   ]
  },
  {
   "cell_type": "markdown",
   "id": "949296de",
   "metadata": {},
   "source": [
    "The inclusion rate is still a string, so let's convert it into a float and drop the string column."
   ]
  },
  {
   "cell_type": "code",
   "execution_count": 6,
   "id": "206224c0",
   "metadata": {},
   "outputs": [
    {
     "data": {
      "text/html": [
       "<div>\n",
       "<style scoped>\n",
       "    .dataframe tbody tr th:only-of-type {\n",
       "        vertical-align: middle;\n",
       "    }\n",
       "\n",
       "    .dataframe tbody tr th {\n",
       "        vertical-align: top;\n",
       "    }\n",
       "\n",
       "    .dataframe thead th {\n",
       "        text-align: right;\n",
       "    }\n",
       "</style>\n",
       "<table border=\"1\" class=\"dataframe\">\n",
       "  <thead>\n",
       "    <tr style=\"text-align: right;\">\n",
       "      <th></th>\n",
       "      <th>Name</th>\n",
       "      <th>Inclusion Rate</th>\n",
       "    </tr>\n",
       "  </thead>\n",
       "  <tbody>\n",
       "    <tr>\n",
       "      <th>0</th>\n",
       "      <td>Zephrys the Great</td>\n",
       "      <td>0.130</td>\n",
       "    </tr>\n",
       "    <tr>\n",
       "      <th>1</th>\n",
       "      <td>Mutanus the Devourer</td>\n",
       "      <td>0.128</td>\n",
       "    </tr>\n",
       "    <tr>\n",
       "      <th>2</th>\n",
       "      <td>Dirty Rat</td>\n",
       "      <td>0.109</td>\n",
       "    </tr>\n",
       "    <tr>\n",
       "      <th>3</th>\n",
       "      <td>Brann Bronzebeard</td>\n",
       "      <td>0.106</td>\n",
       "    </tr>\n",
       "    <tr>\n",
       "      <th>4</th>\n",
       "      <td>Blademaster Okani</td>\n",
       "      <td>0.096</td>\n",
       "    </tr>\n",
       "    <tr>\n",
       "      <th>...</th>\n",
       "      <td>...</td>\n",
       "      <td>...</td>\n",
       "    </tr>\n",
       "    <tr>\n",
       "      <th>2529</th>\n",
       "      <td>Am'gam Rager</td>\n",
       "      <td>0.000</td>\n",
       "    </tr>\n",
       "    <tr>\n",
       "      <th>2530</th>\n",
       "      <td>Air Elemental</td>\n",
       "      <td>0.000</td>\n",
       "    </tr>\n",
       "    <tr>\n",
       "      <th>2531</th>\n",
       "      <td>Acidmaw</td>\n",
       "      <td>0.000</td>\n",
       "    </tr>\n",
       "    <tr>\n",
       "      <th>2532</th>\n",
       "      <td>Abominable Bowman</td>\n",
       "      <td>0.000</td>\n",
       "    </tr>\n",
       "    <tr>\n",
       "      <th>2533</th>\n",
       "      <td>Aberrant Berserker</td>\n",
       "      <td>0.000</td>\n",
       "    </tr>\n",
       "  </tbody>\n",
       "</table>\n",
       "<p>2534 rows × 2 columns</p>\n",
       "</div>"
      ],
      "text/plain": [
       "                      Name  Inclusion Rate\n",
       "0        Zephrys the Great           0.130\n",
       "1     Mutanus the Devourer           0.128\n",
       "2                Dirty Rat           0.109\n",
       "3        Brann Bronzebeard           0.106\n",
       "4        Blademaster Okani           0.096\n",
       "...                    ...             ...\n",
       "2529          Am'gam Rager           0.000\n",
       "2530         Air Elemental           0.000\n",
       "2531               Acidmaw           0.000\n",
       "2532     Abominable Bowman           0.000\n",
       "2533    Aberrant Berserker           0.000\n",
       "\n",
       "[2534 rows x 2 columns]"
      ]
     },
     "execution_count": 6,
     "metadata": {},
     "output_type": "execute_result"
    }
   ],
   "source": [
    "df['Inclusion Rate'] = df['Inclusion Rate String'].str.rstrip('%').astype('float') / 100.0\n",
    "df.drop('Inclusion Rate String', axis=1, inplace = True)\n",
    "df"
   ]
  },
  {
   "cell_type": "markdown",
   "id": "738bc856",
   "metadata": {},
   "source": [
    "Now we need to get the rest of our relevant information. My first attempt was to iterate through the dataframe and get the information, but this takes too long with the 1000+ api requests."
   ]
  },
  {
   "cell_type": "code",
   "execution_count": 58,
   "id": "b9316c39",
   "metadata": {},
   "outputs": [],
   "source": [
    "# def getCardType(card_name):\n",
    "#     print(card_name)\n",
    "#     formatted_name = card_name.replace(' ', '%20')\n",
    "#     url = f\"https://omgvamp-hearthstone-v1.p.rapidapi.com/cards/{formatted_name}\"\n",
    "    \n",
    "#     querystring = {\"collectible\":\"1\"}\n",
    "\n",
    "#     headers = {\n",
    "#         \"X-RapidAPI-Key\": \"64accc3c01msh8386ed44b3b00b7p1766a1jsna7ddde737a91\",\n",
    "#         \"X-RapidAPI-Host\": \"omgvamp-hearthstone-v1.p.rapidapi.com\"\n",
    "#     }\n",
    "\n",
    "#     response = requests.request(\"GET\", url, headers=headers, params=querystring).json()\n",
    "\n",
    "#     #should return a list of length 1\n",
    "#     return(response[0]['type'])\n",
    "\n",
    "# df['type_label'] = df.apply (lambda row: getCardType(row['Name']), axis=1)"
   ]
  },
  {
   "cell_type": "markdown",
   "id": "a545e952",
   "metadata": {},
   "source": [
    "Instead let's just get all the cards and work with the data locally."
   ]
  },
  {
   "cell_type": "code",
   "execution_count": 7,
   "id": "8de67f0c",
   "metadata": {},
   "outputs": [],
   "source": [
    "url = \"https://omgvamp-hearthstone-v1.p.rapidapi.com/cards\"\n",
    "\n",
    "querystring = {\"collectible\":\"1\"}\n",
    "\n",
    "headers = {\n",
    "    \"X-RapidAPI-Key\": \"64accc3c01msh8386ed44b3b00b7p1766a1jsna7ddde737a91\",\n",
    "    \"X-RapidAPI-Host\": \"omgvamp-hearthstone-v1.p.rapidapi.com\"\n",
    "}\n",
    "\n",
    "response = requests.request(\"GET\", url, headers=headers, params=querystring).json()\n"
   ]
  },
  {
   "cell_type": "markdown",
   "id": "d04060f8",
   "metadata": {},
   "source": [
    "Now we have a complex json object that contains all the cards and their information, lets select all the sets we are interested in and combine them into one large dataframe. We can't use all sets because some are outdated and have different versions of the same card."
   ]
  },
  {
   "cell_type": "code",
   "execution_count": 8,
   "id": "f2947468",
   "metadata": {},
   "outputs": [
    {
     "data": {
      "text/html": [
       "<div>\n",
       "<style scoped>\n",
       "    .dataframe tbody tr th:only-of-type {\n",
       "        vertical-align: middle;\n",
       "    }\n",
       "\n",
       "    .dataframe tbody tr th {\n",
       "        vertical-align: top;\n",
       "    }\n",
       "\n",
       "    .dataframe thead th {\n",
       "        text-align: right;\n",
       "    }\n",
       "</style>\n",
       "<table border=\"1\" class=\"dataframe\">\n",
       "  <thead>\n",
       "    <tr style=\"text-align: right;\">\n",
       "      <th></th>\n",
       "      <th>cardId</th>\n",
       "      <th>dbfId</th>\n",
       "      <th>name</th>\n",
       "      <th>cardSet</th>\n",
       "      <th>type</th>\n",
       "      <th>faction</th>\n",
       "      <th>rarity</th>\n",
       "      <th>cost</th>\n",
       "      <th>text</th>\n",
       "      <th>flavor</th>\n",
       "      <th>...</th>\n",
       "      <th>health</th>\n",
       "      <th>race</th>\n",
       "      <th>mechanics</th>\n",
       "      <th>durability</th>\n",
       "      <th>elite</th>\n",
       "      <th>armor</th>\n",
       "      <th>imgGold</th>\n",
       "      <th>multiClassGroup</th>\n",
       "      <th>classes</th>\n",
       "      <th>howToGetDiamond</th>\n",
       "    </tr>\n",
       "  </thead>\n",
       "  <tbody>\n",
       "    <tr>\n",
       "      <th>0</th>\n",
       "      <td>CORE_CS2_072</td>\n",
       "      <td>69521</td>\n",
       "      <td>Backstab</td>\n",
       "      <td>Core</td>\n",
       "      <td>Spell</td>\n",
       "      <td>Neutral</td>\n",
       "      <td>Common</td>\n",
       "      <td>0</td>\n",
       "      <td>Deal $2 damage to an undamaged minion.</td>\n",
       "      <td>It's funny how often yelling \"Look over there!...</td>\n",
       "      <td>...</td>\n",
       "      <td>NaN</td>\n",
       "      <td>NaN</td>\n",
       "      <td>NaN</td>\n",
       "      <td>NaN</td>\n",
       "      <td>NaN</td>\n",
       "      <td>NaN</td>\n",
       "      <td>NaN</td>\n",
       "      <td>NaN</td>\n",
       "      <td>NaN</td>\n",
       "      <td>NaN</td>\n",
       "    </tr>\n",
       "    <tr>\n",
       "      <th>1</th>\n",
       "      <td>CORE_EX1_169</td>\n",
       "      <td>69550</td>\n",
       "      <td>Innervate</td>\n",
       "      <td>Core</td>\n",
       "      <td>Spell</td>\n",
       "      <td>Neutral</td>\n",
       "      <td>Rare</td>\n",
       "      <td>0</td>\n",
       "      <td>Gain 1 Mana Crystal this turn only.</td>\n",
       "      <td>Some druids still have flashbacks from strange...</td>\n",
       "      <td>...</td>\n",
       "      <td>NaN</td>\n",
       "      <td>NaN</td>\n",
       "      <td>NaN</td>\n",
       "      <td>NaN</td>\n",
       "      <td>NaN</td>\n",
       "      <td>NaN</td>\n",
       "      <td>NaN</td>\n",
       "      <td>NaN</td>\n",
       "      <td>NaN</td>\n",
       "      <td>NaN</td>\n",
       "    </tr>\n",
       "    <tr>\n",
       "      <th>2</th>\n",
       "      <td>CORE_LOEA10_3</td>\n",
       "      <td>69723</td>\n",
       "      <td>Murloc Tinyfin</td>\n",
       "      <td>Core</td>\n",
       "      <td>Minion</td>\n",
       "      <td>NaN</td>\n",
       "      <td>Common</td>\n",
       "      <td>0</td>\n",
       "      <td>NaN</td>\n",
       "      <td>High mortality rate, from often being hugged t...</td>\n",
       "      <td>...</td>\n",
       "      <td>1.0</td>\n",
       "      <td>Murloc</td>\n",
       "      <td>NaN</td>\n",
       "      <td>NaN</td>\n",
       "      <td>NaN</td>\n",
       "      <td>NaN</td>\n",
       "      <td>NaN</td>\n",
       "      <td>NaN</td>\n",
       "      <td>NaN</td>\n",
       "      <td>NaN</td>\n",
       "    </tr>\n",
       "    <tr>\n",
       "      <th>3</th>\n",
       "      <td>CORE_TRL_243</td>\n",
       "      <td>69689</td>\n",
       "      <td>Pounce</td>\n",
       "      <td>Core</td>\n",
       "      <td>Spell</td>\n",
       "      <td>NaN</td>\n",
       "      <td>Common</td>\n",
       "      <td>0</td>\n",
       "      <td>Give your hero +2_Attack this turn.</td>\n",
       "      <td>Comes with an overwhelming urge to jump into t...</td>\n",
       "      <td>...</td>\n",
       "      <td>NaN</td>\n",
       "      <td>NaN</td>\n",
       "      <td>NaN</td>\n",
       "      <td>NaN</td>\n",
       "      <td>NaN</td>\n",
       "      <td>NaN</td>\n",
       "      <td>NaN</td>\n",
       "      <td>NaN</td>\n",
       "      <td>NaN</td>\n",
       "      <td>NaN</td>\n",
       "    </tr>\n",
       "    <tr>\n",
       "      <th>4</th>\n",
       "      <td>CORE_EX1_145</td>\n",
       "      <td>69623</td>\n",
       "      <td>Preparation</td>\n",
       "      <td>Core</td>\n",
       "      <td>Spell</td>\n",
       "      <td>Neutral</td>\n",
       "      <td>Epic</td>\n",
       "      <td>0</td>\n",
       "      <td>The next spell you cast this turn costs (2) less.</td>\n",
       "      <td>\"Be Prepared\" - Rogue Motto</td>\n",
       "      <td>...</td>\n",
       "      <td>NaN</td>\n",
       "      <td>NaN</td>\n",
       "      <td>NaN</td>\n",
       "      <td>NaN</td>\n",
       "      <td>NaN</td>\n",
       "      <td>NaN</td>\n",
       "      <td>NaN</td>\n",
       "      <td>NaN</td>\n",
       "      <td>NaN</td>\n",
       "      <td>NaN</td>\n",
       "    </tr>\n",
       "    <tr>\n",
       "      <th>...</th>\n",
       "      <td>...</td>\n",
       "      <td>...</td>\n",
       "      <td>...</td>\n",
       "      <td>...</td>\n",
       "      <td>...</td>\n",
       "      <td>...</td>\n",
       "      <td>...</td>\n",
       "      <td>...</td>\n",
       "      <td>...</td>\n",
       "      <td>...</td>\n",
       "      <td>...</td>\n",
       "      <td>...</td>\n",
       "      <td>...</td>\n",
       "      <td>...</td>\n",
       "      <td>...</td>\n",
       "      <td>...</td>\n",
       "      <td>...</td>\n",
       "      <td>...</td>\n",
       "      <td>...</td>\n",
       "      <td>...</td>\n",
       "      <td>...</td>\n",
       "    </tr>\n",
       "    <tr>\n",
       "      <th>2932</th>\n",
       "      <td>TID_077</td>\n",
       "      <td>76258</td>\n",
       "      <td>Lightray</td>\n",
       "      <td>Voyage to the Sunken City</td>\n",
       "      <td>Minion</td>\n",
       "      <td>NaN</td>\n",
       "      <td>Common</td>\n",
       "      <td>9</td>\n",
       "      <td>&lt;b&gt;Taunt&lt;/b&gt;\\nCosts (1) less for each Paladin ...</td>\n",
       "      <td>Lightrays, much like rays of light, tend to be...</td>\n",
       "      <td>...</td>\n",
       "      <td>5.0</td>\n",
       "      <td>Elemental</td>\n",
       "      <td>[{'name': 'Taunt'}]</td>\n",
       "      <td>NaN</td>\n",
       "      <td>NaN</td>\n",
       "      <td>NaN</td>\n",
       "      <td>NaN</td>\n",
       "      <td>NaN</td>\n",
       "      <td>NaN</td>\n",
       "      <td>NaN</td>\n",
       "    </tr>\n",
       "    <tr>\n",
       "      <th>2933</th>\n",
       "      <td>TSC_659</td>\n",
       "      <td>74672</td>\n",
       "      <td>Trenchstalker</td>\n",
       "      <td>Voyage to the Sunken City</td>\n",
       "      <td>Minion</td>\n",
       "      <td>NaN</td>\n",
       "      <td>Epic</td>\n",
       "      <td>9</td>\n",
       "      <td>&lt;b&gt;Battlecry:&lt;/b&gt; Attack three different rando...</td>\n",
       "      <td>Cooler heads prevail.</td>\n",
       "      <td>...</td>\n",
       "      <td>9.0</td>\n",
       "      <td>Beast</td>\n",
       "      <td>[{'name': 'Battlecry'}]</td>\n",
       "      <td>NaN</td>\n",
       "      <td>NaN</td>\n",
       "      <td>NaN</td>\n",
       "      <td>NaN</td>\n",
       "      <td>NaN</td>\n",
       "      <td>NaN</td>\n",
       "      <td>NaN</td>\n",
       "    </tr>\n",
       "    <tr>\n",
       "      <th>2934</th>\n",
       "      <td>TID_712</td>\n",
       "      <td>75583</td>\n",
       "      <td>Neptulon the Tidehunter</td>\n",
       "      <td>Voyage to the Sunken City</td>\n",
       "      <td>Minion</td>\n",
       "      <td>NaN</td>\n",
       "      <td>Legendary</td>\n",
       "      <td>10</td>\n",
       "      <td>[x]&lt;b&gt;Colossal +2&lt;/b&gt;, &lt;b&gt;Rush&lt;/b&gt;, &lt;b&gt;Windfur...</td>\n",
       "      <td>Neptulon, tired of filling hands, is now throw...</td>\n",
       "      <td>...</td>\n",
       "      <td>7.0</td>\n",
       "      <td>Elemental</td>\n",
       "      <td>[{'name': 'Rush'}, {'name': 'Windfury'}, {'nam...</td>\n",
       "      <td>NaN</td>\n",
       "      <td>True</td>\n",
       "      <td>NaN</td>\n",
       "      <td>NaN</td>\n",
       "      <td>NaN</td>\n",
       "      <td>NaN</td>\n",
       "      <td>NaN</td>\n",
       "    </tr>\n",
       "    <tr>\n",
       "      <th>2935</th>\n",
       "      <td>TSC_061</td>\n",
       "      <td>73434</td>\n",
       "      <td>The Garden's Grace</td>\n",
       "      <td>Voyage to the Sunken City</td>\n",
       "      <td>Spell</td>\n",
       "      <td>NaN</td>\n",
       "      <td>Epic</td>\n",
       "      <td>10</td>\n",
       "      <td>[x]Give a minion +5/+5 and\\n&lt;b&gt;Divine Shield&lt;/...</td>\n",
       "      <td>The perfect place to hold Conchella.</td>\n",
       "      <td>...</td>\n",
       "      <td>NaN</td>\n",
       "      <td>NaN</td>\n",
       "      <td>[{'name': 'Divine Shield'}]</td>\n",
       "      <td>NaN</td>\n",
       "      <td>NaN</td>\n",
       "      <td>NaN</td>\n",
       "      <td>NaN</td>\n",
       "      <td>NaN</td>\n",
       "      <td>NaN</td>\n",
       "      <td>NaN</td>\n",
       "    </tr>\n",
       "    <tr>\n",
       "      <th>2936</th>\n",
       "      <td>TSC_829</td>\n",
       "      <td>71949</td>\n",
       "      <td>Naga Giant</td>\n",
       "      <td>Voyage to the Sunken City</td>\n",
       "      <td>Minion</td>\n",
       "      <td>NaN</td>\n",
       "      <td>Epic</td>\n",
       "      <td>20</td>\n",
       "      <td>Costs (1) less for each Mana you've spent on s...</td>\n",
       "      <td>He might be giant, but he’s still a couple tho...</td>\n",
       "      <td>...</td>\n",
       "      <td>8.0</td>\n",
       "      <td>Naga</td>\n",
       "      <td>NaN</td>\n",
       "      <td>NaN</td>\n",
       "      <td>NaN</td>\n",
       "      <td>NaN</td>\n",
       "      <td>NaN</td>\n",
       "      <td>NaN</td>\n",
       "      <td>NaN</td>\n",
       "      <td>NaN</td>\n",
       "    </tr>\n",
       "  </tbody>\n",
       "</table>\n",
       "<p>2937 rows × 29 columns</p>\n",
       "</div>"
      ],
      "text/plain": [
       "             cardId  dbfId                     name  \\\n",
       "0      CORE_CS2_072  69521                 Backstab   \n",
       "1      CORE_EX1_169  69550                Innervate   \n",
       "2     CORE_LOEA10_3  69723           Murloc Tinyfin   \n",
       "3      CORE_TRL_243  69689                   Pounce   \n",
       "4      CORE_EX1_145  69623              Preparation   \n",
       "...             ...    ...                      ...   \n",
       "2932        TID_077  76258                 Lightray   \n",
       "2933        TSC_659  74672            Trenchstalker   \n",
       "2934        TID_712  75583  Neptulon the Tidehunter   \n",
       "2935        TSC_061  73434       The Garden's Grace   \n",
       "2936        TSC_829  71949               Naga Giant   \n",
       "\n",
       "                        cardSet    type  faction     rarity  cost  \\\n",
       "0                          Core   Spell  Neutral     Common     0   \n",
       "1                          Core   Spell  Neutral       Rare     0   \n",
       "2                          Core  Minion      NaN     Common     0   \n",
       "3                          Core   Spell      NaN     Common     0   \n",
       "4                          Core   Spell  Neutral       Epic     0   \n",
       "...                         ...     ...      ...        ...   ...   \n",
       "2932  Voyage to the Sunken City  Minion      NaN     Common     9   \n",
       "2933  Voyage to the Sunken City  Minion      NaN       Epic     9   \n",
       "2934  Voyage to the Sunken City  Minion      NaN  Legendary    10   \n",
       "2935  Voyage to the Sunken City   Spell      NaN       Epic    10   \n",
       "2936  Voyage to the Sunken City  Minion      NaN       Epic    20   \n",
       "\n",
       "                                                   text  \\\n",
       "0                Deal $2 damage to an undamaged minion.   \n",
       "1                   Gain 1 Mana Crystal this turn only.   \n",
       "2                                                   NaN   \n",
       "3                   Give your hero +2_Attack this turn.   \n",
       "4     The next spell you cast this turn costs (2) less.   \n",
       "...                                                 ...   \n",
       "2932  <b>Taunt</b>\\nCosts (1) less for each Paladin ...   \n",
       "2933  <b>Battlecry:</b> Attack three different rando...   \n",
       "2934  [x]<b>Colossal +2</b>, <b>Rush</b>, <b>Windfur...   \n",
       "2935  [x]Give a minion +5/+5 and\\n<b>Divine Shield</...   \n",
       "2936  Costs (1) less for each Mana you've spent on s...   \n",
       "\n",
       "                                                 flavor  ... health  \\\n",
       "0     It's funny how often yelling \"Look over there!...  ...    NaN   \n",
       "1     Some druids still have flashbacks from strange...  ...    NaN   \n",
       "2     High mortality rate, from often being hugged t...  ...    1.0   \n",
       "3     Comes with an overwhelming urge to jump into t...  ...    NaN   \n",
       "4                           \"Be Prepared\" - Rogue Motto  ...    NaN   \n",
       "...                                                 ...  ...    ...   \n",
       "2932  Lightrays, much like rays of light, tend to be...  ...    5.0   \n",
       "2933                              Cooler heads prevail.  ...    9.0   \n",
       "2934  Neptulon, tired of filling hands, is now throw...  ...    7.0   \n",
       "2935               The perfect place to hold Conchella.  ...    NaN   \n",
       "2936  He might be giant, but he’s still a couple tho...  ...    8.0   \n",
       "\n",
       "           race                                          mechanics durability  \\\n",
       "0           NaN                                                NaN        NaN   \n",
       "1           NaN                                                NaN        NaN   \n",
       "2        Murloc                                                NaN        NaN   \n",
       "3           NaN                                                NaN        NaN   \n",
       "4           NaN                                                NaN        NaN   \n",
       "...         ...                                                ...        ...   \n",
       "2932  Elemental                                [{'name': 'Taunt'}]        NaN   \n",
       "2933      Beast                            [{'name': 'Battlecry'}]        NaN   \n",
       "2934  Elemental  [{'name': 'Rush'}, {'name': 'Windfury'}, {'nam...        NaN   \n",
       "2935        NaN                        [{'name': 'Divine Shield'}]        NaN   \n",
       "2936       Naga                                                NaN        NaN   \n",
       "\n",
       "     elite armor imgGold multiClassGroup  classes  howToGetDiamond  \n",
       "0      NaN   NaN     NaN             NaN      NaN              NaN  \n",
       "1      NaN   NaN     NaN             NaN      NaN              NaN  \n",
       "2      NaN   NaN     NaN             NaN      NaN              NaN  \n",
       "3      NaN   NaN     NaN             NaN      NaN              NaN  \n",
       "4      NaN   NaN     NaN             NaN      NaN              NaN  \n",
       "...    ...   ...     ...             ...      ...              ...  \n",
       "2932   NaN   NaN     NaN             NaN      NaN              NaN  \n",
       "2933   NaN   NaN     NaN             NaN      NaN              NaN  \n",
       "2934  True   NaN     NaN             NaN      NaN              NaN  \n",
       "2935   NaN   NaN     NaN             NaN      NaN              NaN  \n",
       "2936   NaN   NaN     NaN             NaN      NaN              NaN  \n",
       "\n",
       "[2937 rows x 29 columns]"
      ]
     },
     "execution_count": 8,
     "metadata": {},
     "output_type": "execute_result"
    }
   ],
   "source": [
    "listOfSets = ['Core', 'Goblins vs Gnomes', 'The Grand Tournament', 'Whispers of the Old Gods', 'Mean Streets of Gadgetzan', 'Journey to Un\\'Goro', 'Knights of the Frozen Throne', 'Kobolds & Catacombs', 'The Witchwood', 'The Boomsday Project', 'Rastakhan\\'s Rumble', 'Rise of Shadows', 'Saviors of Uldum', 'Descent of Dragons', 'Ashes of Outland', 'Scholomance Academy', 'Forged in the Barrens', 'United in Stormwind', 'Fractured in Alterac Valley', 'Voyage to the Sunken City']\n",
    "allCardsDF = pd.DataFrame()\n",
    "for set in listOfSets:\n",
    "    newDF = pd.DataFrame(response[set])\n",
    "    allCardsDF = pd.concat([allCardsDF,newDF],ignore_index=True)\n",
    "allCardsDF"
   ]
  },
  {
   "cell_type": "markdown",
   "id": "7eee8be4",
   "metadata": {},
   "source": [
    "Looking at this table we can see a lot of NaNs. This is because different types of cards have different traits. All minions have attack and health, but no spells do. Instead of dropping NaNs or some of these features let's focus our analysis on only minions."
   ]
  },
  {
   "cell_type": "code",
   "execution_count": 9,
   "id": "6f5a6d88",
   "metadata": {},
   "outputs": [
    {
     "data": {
      "text/html": [
       "<div>\n",
       "<style scoped>\n",
       "    .dataframe tbody tr th:only-of-type {\n",
       "        vertical-align: middle;\n",
       "    }\n",
       "\n",
       "    .dataframe tbody tr th {\n",
       "        vertical-align: top;\n",
       "    }\n",
       "\n",
       "    .dataframe thead th {\n",
       "        text-align: right;\n",
       "    }\n",
       "</style>\n",
       "<table border=\"1\" class=\"dataframe\">\n",
       "  <thead>\n",
       "    <tr style=\"text-align: right;\">\n",
       "      <th></th>\n",
       "      <th>cardId</th>\n",
       "      <th>dbfId</th>\n",
       "      <th>name</th>\n",
       "      <th>cardSet</th>\n",
       "      <th>type</th>\n",
       "      <th>faction</th>\n",
       "      <th>rarity</th>\n",
       "      <th>cost</th>\n",
       "      <th>text</th>\n",
       "      <th>flavor</th>\n",
       "      <th>...</th>\n",
       "      <th>health</th>\n",
       "      <th>race</th>\n",
       "      <th>mechanics</th>\n",
       "      <th>durability</th>\n",
       "      <th>elite</th>\n",
       "      <th>armor</th>\n",
       "      <th>imgGold</th>\n",
       "      <th>multiClassGroup</th>\n",
       "      <th>classes</th>\n",
       "      <th>howToGetDiamond</th>\n",
       "    </tr>\n",
       "  </thead>\n",
       "  <tbody>\n",
       "    <tr>\n",
       "      <th>2</th>\n",
       "      <td>CORE_LOEA10_3</td>\n",
       "      <td>69723</td>\n",
       "      <td>Murloc Tinyfin</td>\n",
       "      <td>Core</td>\n",
       "      <td>Minion</td>\n",
       "      <td>NaN</td>\n",
       "      <td>Common</td>\n",
       "      <td>0</td>\n",
       "      <td>NaN</td>\n",
       "      <td>High mortality rate, from often being hugged t...</td>\n",
       "      <td>...</td>\n",
       "      <td>1.0</td>\n",
       "      <td>Murloc</td>\n",
       "      <td>NaN</td>\n",
       "      <td>NaN</td>\n",
       "      <td>NaN</td>\n",
       "      <td>NaN</td>\n",
       "      <td>NaN</td>\n",
       "      <td>NaN</td>\n",
       "      <td>NaN</td>\n",
       "      <td>NaN</td>\n",
       "    </tr>\n",
       "    <tr>\n",
       "      <th>6</th>\n",
       "      <td>CORE_CS2_188</td>\n",
       "      <td>69649</td>\n",
       "      <td>Abusive Sergeant</td>\n",
       "      <td>Core</td>\n",
       "      <td>Minion</td>\n",
       "      <td>Alliance</td>\n",
       "      <td>Common</td>\n",
       "      <td>1</td>\n",
       "      <td>&lt;b&gt;Battlecry:&lt;/b&gt; Give a minion +2_Attack this...</td>\n",
       "      <td>ADD ME TO YOUR DECK, MAGGOT!</td>\n",
       "      <td>...</td>\n",
       "      <td>1.0</td>\n",
       "      <td>NaN</td>\n",
       "      <td>[{'name': 'Battlecry'}]</td>\n",
       "      <td>NaN</td>\n",
       "      <td>NaN</td>\n",
       "      <td>NaN</td>\n",
       "      <td>NaN</td>\n",
       "      <td>NaN</td>\n",
       "      <td>NaN</td>\n",
       "      <td>NaN</td>\n",
       "    </tr>\n",
       "    <tr>\n",
       "      <th>9</th>\n",
       "      <td>CORE_KAR_009</td>\n",
       "      <td>69700</td>\n",
       "      <td>Babbling Book</td>\n",
       "      <td>Core</td>\n",
       "      <td>Minion</td>\n",
       "      <td>NaN</td>\n",
       "      <td>Rare</td>\n",
       "      <td>1</td>\n",
       "      <td>&lt;b&gt;Battlecry:&lt;/b&gt; Add a random Mage spell to y...</td>\n",
       "      <td>His idol is the Green Hills of Stranglethorn, ...</td>\n",
       "      <td>...</td>\n",
       "      <td>1.0</td>\n",
       "      <td>NaN</td>\n",
       "      <td>[{'name': 'Battlecry'}]</td>\n",
       "      <td>NaN</td>\n",
       "      <td>NaN</td>\n",
       "      <td>NaN</td>\n",
       "      <td>NaN</td>\n",
       "      <td>NaN</td>\n",
       "      <td>NaN</td>\n",
       "      <td>NaN</td>\n",
       "    </tr>\n",
       "    <tr>\n",
       "      <th>10</th>\n",
       "      <td>CORE_BT_351</td>\n",
       "      <td>69586</td>\n",
       "      <td>Battlefiend</td>\n",
       "      <td>Core</td>\n",
       "      <td>Minion</td>\n",
       "      <td>NaN</td>\n",
       "      <td>Common</td>\n",
       "      <td>1</td>\n",
       "      <td>After your hero attacks, gain +1 Attack.</td>\n",
       "      <td>Say what you like about my hatchet-headed hool...</td>\n",
       "      <td>...</td>\n",
       "      <td>2.0</td>\n",
       "      <td>Demon</td>\n",
       "      <td>NaN</td>\n",
       "      <td>NaN</td>\n",
       "      <td>NaN</td>\n",
       "      <td>NaN</td>\n",
       "      <td>NaN</td>\n",
       "      <td>NaN</td>\n",
       "      <td>NaN</td>\n",
       "      <td>NaN</td>\n",
       "    </tr>\n",
       "    <tr>\n",
       "      <th>11</th>\n",
       "      <td>CORE_ULD_191</td>\n",
       "      <td>76318</td>\n",
       "      <td>Beaming Sidekick</td>\n",
       "      <td>Core</td>\n",
       "      <td>Minion</td>\n",
       "      <td>NaN</td>\n",
       "      <td>Common</td>\n",
       "      <td>1</td>\n",
       "      <td>&lt;b&gt;Battlecry:&lt;/b&gt; Give a friendly minion +2 He...</td>\n",
       "      <td>Sure, I'll carry the water! And the food! And ...</td>\n",
       "      <td>...</td>\n",
       "      <td>2.0</td>\n",
       "      <td>NaN</td>\n",
       "      <td>[{'name': 'Battlecry'}]</td>\n",
       "      <td>NaN</td>\n",
       "      <td>NaN</td>\n",
       "      <td>NaN</td>\n",
       "      <td>NaN</td>\n",
       "      <td>NaN</td>\n",
       "      <td>NaN</td>\n",
       "      <td>NaN</td>\n",
       "    </tr>\n",
       "    <tr>\n",
       "      <th>...</th>\n",
       "      <td>...</td>\n",
       "      <td>...</td>\n",
       "      <td>...</td>\n",
       "      <td>...</td>\n",
       "      <td>...</td>\n",
       "      <td>...</td>\n",
       "      <td>...</td>\n",
       "      <td>...</td>\n",
       "      <td>...</td>\n",
       "      <td>...</td>\n",
       "      <td>...</td>\n",
       "      <td>...</td>\n",
       "      <td>...</td>\n",
       "      <td>...</td>\n",
       "      <td>...</td>\n",
       "      <td>...</td>\n",
       "      <td>...</td>\n",
       "      <td>...</td>\n",
       "      <td>...</td>\n",
       "      <td>...</td>\n",
       "      <td>...</td>\n",
       "    </tr>\n",
       "    <tr>\n",
       "      <th>2929</th>\n",
       "      <td>TID_716</td>\n",
       "      <td>75635</td>\n",
       "      <td>Tidal Revenant</td>\n",
       "      <td>Voyage to the Sunken City</td>\n",
       "      <td>Minion</td>\n",
       "      <td>NaN</td>\n",
       "      <td>Common</td>\n",
       "      <td>8</td>\n",
       "      <td>&lt;b&gt;Battlecry:&lt;/b&gt; Deal 5 damage. Gain 5 Armor.</td>\n",
       "      <td>A big minion that clears the board and gains A...</td>\n",
       "      <td>...</td>\n",
       "      <td>8.0</td>\n",
       "      <td>Elemental</td>\n",
       "      <td>[{'name': 'Battlecry'}]</td>\n",
       "      <td>NaN</td>\n",
       "      <td>NaN</td>\n",
       "      <td>NaN</td>\n",
       "      <td>NaN</td>\n",
       "      <td>NaN</td>\n",
       "      <td>NaN</td>\n",
       "      <td>NaN</td>\n",
       "    </tr>\n",
       "    <tr>\n",
       "      <th>2932</th>\n",
       "      <td>TID_077</td>\n",
       "      <td>76258</td>\n",
       "      <td>Lightray</td>\n",
       "      <td>Voyage to the Sunken City</td>\n",
       "      <td>Minion</td>\n",
       "      <td>NaN</td>\n",
       "      <td>Common</td>\n",
       "      <td>9</td>\n",
       "      <td>&lt;b&gt;Taunt&lt;/b&gt;\\nCosts (1) less for each Paladin ...</td>\n",
       "      <td>Lightrays, much like rays of light, tend to be...</td>\n",
       "      <td>...</td>\n",
       "      <td>5.0</td>\n",
       "      <td>Elemental</td>\n",
       "      <td>[{'name': 'Taunt'}]</td>\n",
       "      <td>NaN</td>\n",
       "      <td>NaN</td>\n",
       "      <td>NaN</td>\n",
       "      <td>NaN</td>\n",
       "      <td>NaN</td>\n",
       "      <td>NaN</td>\n",
       "      <td>NaN</td>\n",
       "    </tr>\n",
       "    <tr>\n",
       "      <th>2933</th>\n",
       "      <td>TSC_659</td>\n",
       "      <td>74672</td>\n",
       "      <td>Trenchstalker</td>\n",
       "      <td>Voyage to the Sunken City</td>\n",
       "      <td>Minion</td>\n",
       "      <td>NaN</td>\n",
       "      <td>Epic</td>\n",
       "      <td>9</td>\n",
       "      <td>&lt;b&gt;Battlecry:&lt;/b&gt; Attack three different rando...</td>\n",
       "      <td>Cooler heads prevail.</td>\n",
       "      <td>...</td>\n",
       "      <td>9.0</td>\n",
       "      <td>Beast</td>\n",
       "      <td>[{'name': 'Battlecry'}]</td>\n",
       "      <td>NaN</td>\n",
       "      <td>NaN</td>\n",
       "      <td>NaN</td>\n",
       "      <td>NaN</td>\n",
       "      <td>NaN</td>\n",
       "      <td>NaN</td>\n",
       "      <td>NaN</td>\n",
       "    </tr>\n",
       "    <tr>\n",
       "      <th>2934</th>\n",
       "      <td>TID_712</td>\n",
       "      <td>75583</td>\n",
       "      <td>Neptulon the Tidehunter</td>\n",
       "      <td>Voyage to the Sunken City</td>\n",
       "      <td>Minion</td>\n",
       "      <td>NaN</td>\n",
       "      <td>Legendary</td>\n",
       "      <td>10</td>\n",
       "      <td>[x]&lt;b&gt;Colossal +2&lt;/b&gt;, &lt;b&gt;Rush&lt;/b&gt;, &lt;b&gt;Windfur...</td>\n",
       "      <td>Neptulon, tired of filling hands, is now throw...</td>\n",
       "      <td>...</td>\n",
       "      <td>7.0</td>\n",
       "      <td>Elemental</td>\n",
       "      <td>[{'name': 'Rush'}, {'name': 'Windfury'}, {'nam...</td>\n",
       "      <td>NaN</td>\n",
       "      <td>True</td>\n",
       "      <td>NaN</td>\n",
       "      <td>NaN</td>\n",
       "      <td>NaN</td>\n",
       "      <td>NaN</td>\n",
       "      <td>NaN</td>\n",
       "    </tr>\n",
       "    <tr>\n",
       "      <th>2936</th>\n",
       "      <td>TSC_829</td>\n",
       "      <td>71949</td>\n",
       "      <td>Naga Giant</td>\n",
       "      <td>Voyage to the Sunken City</td>\n",
       "      <td>Minion</td>\n",
       "      <td>NaN</td>\n",
       "      <td>Epic</td>\n",
       "      <td>20</td>\n",
       "      <td>Costs (1) less for each Mana you've spent on s...</td>\n",
       "      <td>He might be giant, but he’s still a couple tho...</td>\n",
       "      <td>...</td>\n",
       "      <td>8.0</td>\n",
       "      <td>Naga</td>\n",
       "      <td>NaN</td>\n",
       "      <td>NaN</td>\n",
       "      <td>NaN</td>\n",
       "      <td>NaN</td>\n",
       "      <td>NaN</td>\n",
       "      <td>NaN</td>\n",
       "      <td>NaN</td>\n",
       "      <td>NaN</td>\n",
       "    </tr>\n",
       "  </tbody>\n",
       "</table>\n",
       "<p>1987 rows × 29 columns</p>\n",
       "</div>"
      ],
      "text/plain": [
       "             cardId  dbfId                     name  \\\n",
       "2     CORE_LOEA10_3  69723           Murloc Tinyfin   \n",
       "6      CORE_CS2_188  69649         Abusive Sergeant   \n",
       "9      CORE_KAR_009  69700            Babbling Book   \n",
       "10      CORE_BT_351  69586              Battlefiend   \n",
       "11     CORE_ULD_191  76318         Beaming Sidekick   \n",
       "...             ...    ...                      ...   \n",
       "2929        TID_716  75635           Tidal Revenant   \n",
       "2932        TID_077  76258                 Lightray   \n",
       "2933        TSC_659  74672            Trenchstalker   \n",
       "2934        TID_712  75583  Neptulon the Tidehunter   \n",
       "2936        TSC_829  71949               Naga Giant   \n",
       "\n",
       "                        cardSet    type   faction     rarity  cost  \\\n",
       "2                          Core  Minion       NaN     Common     0   \n",
       "6                          Core  Minion  Alliance     Common     1   \n",
       "9                          Core  Minion       NaN       Rare     1   \n",
       "10                         Core  Minion       NaN     Common     1   \n",
       "11                         Core  Minion       NaN     Common     1   \n",
       "...                         ...     ...       ...        ...   ...   \n",
       "2929  Voyage to the Sunken City  Minion       NaN     Common     8   \n",
       "2932  Voyage to the Sunken City  Minion       NaN     Common     9   \n",
       "2933  Voyage to the Sunken City  Minion       NaN       Epic     9   \n",
       "2934  Voyage to the Sunken City  Minion       NaN  Legendary    10   \n",
       "2936  Voyage to the Sunken City  Minion       NaN       Epic    20   \n",
       "\n",
       "                                                   text  \\\n",
       "2                                                   NaN   \n",
       "6     <b>Battlecry:</b> Give a minion +2_Attack this...   \n",
       "9     <b>Battlecry:</b> Add a random Mage spell to y...   \n",
       "10             After your hero attacks, gain +1 Attack.   \n",
       "11    <b>Battlecry:</b> Give a friendly minion +2 He...   \n",
       "...                                                 ...   \n",
       "2929     <b>Battlecry:</b> Deal 5 damage. Gain 5 Armor.   \n",
       "2932  <b>Taunt</b>\\nCosts (1) less for each Paladin ...   \n",
       "2933  <b>Battlecry:</b> Attack three different rando...   \n",
       "2934  [x]<b>Colossal +2</b>, <b>Rush</b>, <b>Windfur...   \n",
       "2936  Costs (1) less for each Mana you've spent on s...   \n",
       "\n",
       "                                                 flavor  ... health  \\\n",
       "2     High mortality rate, from often being hugged t...  ...    1.0   \n",
       "6                          ADD ME TO YOUR DECK, MAGGOT!  ...    1.0   \n",
       "9     His idol is the Green Hills of Stranglethorn, ...  ...    1.0   \n",
       "10    Say what you like about my hatchet-headed hool...  ...    2.0   \n",
       "11    Sure, I'll carry the water! And the food! And ...  ...    2.0   \n",
       "...                                                 ...  ...    ...   \n",
       "2929  A big minion that clears the board and gains A...  ...    8.0   \n",
       "2932  Lightrays, much like rays of light, tend to be...  ...    5.0   \n",
       "2933                              Cooler heads prevail.  ...    9.0   \n",
       "2934  Neptulon, tired of filling hands, is now throw...  ...    7.0   \n",
       "2936  He might be giant, but he’s still a couple tho...  ...    8.0   \n",
       "\n",
       "           race                                          mechanics durability  \\\n",
       "2        Murloc                                                NaN        NaN   \n",
       "6           NaN                            [{'name': 'Battlecry'}]        NaN   \n",
       "9           NaN                            [{'name': 'Battlecry'}]        NaN   \n",
       "10        Demon                                                NaN        NaN   \n",
       "11          NaN                            [{'name': 'Battlecry'}]        NaN   \n",
       "...         ...                                                ...        ...   \n",
       "2929  Elemental                            [{'name': 'Battlecry'}]        NaN   \n",
       "2932  Elemental                                [{'name': 'Taunt'}]        NaN   \n",
       "2933      Beast                            [{'name': 'Battlecry'}]        NaN   \n",
       "2934  Elemental  [{'name': 'Rush'}, {'name': 'Windfury'}, {'nam...        NaN   \n",
       "2936       Naga                                                NaN        NaN   \n",
       "\n",
       "     elite armor imgGold multiClassGroup  classes  howToGetDiamond  \n",
       "2      NaN   NaN     NaN             NaN      NaN              NaN  \n",
       "6      NaN   NaN     NaN             NaN      NaN              NaN  \n",
       "9      NaN   NaN     NaN             NaN      NaN              NaN  \n",
       "10     NaN   NaN     NaN             NaN      NaN              NaN  \n",
       "11     NaN   NaN     NaN             NaN      NaN              NaN  \n",
       "...    ...   ...     ...             ...      ...              ...  \n",
       "2929   NaN   NaN     NaN             NaN      NaN              NaN  \n",
       "2932   NaN   NaN     NaN             NaN      NaN              NaN  \n",
       "2933   NaN   NaN     NaN             NaN      NaN              NaN  \n",
       "2934  True   NaN     NaN             NaN      NaN              NaN  \n",
       "2936   NaN   NaN     NaN             NaN      NaN              NaN  \n",
       "\n",
       "[1987 rows x 29 columns]"
      ]
     },
     "execution_count": 9,
     "metadata": {},
     "output_type": "execute_result"
    }
   ],
   "source": [
    "allMinionsDF = allCardsDF[allCardsDF['type'] == 'Minion']\n",
    "allMinionsDF"
   ]
  },
  {
   "cell_type": "markdown",
   "id": "65e35c77",
   "metadata": {},
   "source": [
    "Now we can do an inner join with our two dataframes to get our list of minions with a full set of features.\n"
   ]
  },
  {
   "cell_type": "code",
   "execution_count": 10,
   "id": "3cbb3c28",
   "metadata": {},
   "outputs": [
    {
     "data": {
      "text/html": [
       "<div>\n",
       "<style scoped>\n",
       "    .dataframe tbody tr th:only-of-type {\n",
       "        vertical-align: middle;\n",
       "    }\n",
       "\n",
       "    .dataframe tbody tr th {\n",
       "        vertical-align: top;\n",
       "    }\n",
       "\n",
       "    .dataframe thead th {\n",
       "        text-align: right;\n",
       "    }\n",
       "</style>\n",
       "<table border=\"1\" class=\"dataframe\">\n",
       "  <thead>\n",
       "    <tr style=\"text-align: right;\">\n",
       "      <th></th>\n",
       "      <th>cardId</th>\n",
       "      <th>dbfId</th>\n",
       "      <th>name</th>\n",
       "      <th>cardSet</th>\n",
       "      <th>type</th>\n",
       "      <th>faction</th>\n",
       "      <th>rarity</th>\n",
       "      <th>cost</th>\n",
       "      <th>text</th>\n",
       "      <th>flavor</th>\n",
       "      <th>...</th>\n",
       "      <th>mechanics</th>\n",
       "      <th>durability</th>\n",
       "      <th>elite</th>\n",
       "      <th>armor</th>\n",
       "      <th>imgGold</th>\n",
       "      <th>multiClassGroup</th>\n",
       "      <th>classes</th>\n",
       "      <th>howToGetDiamond</th>\n",
       "      <th>Name</th>\n",
       "      <th>Inclusion Rate</th>\n",
       "    </tr>\n",
       "  </thead>\n",
       "  <tbody>\n",
       "    <tr>\n",
       "      <th>0</th>\n",
       "      <td>CORE_LOEA10_3</td>\n",
       "      <td>69723</td>\n",
       "      <td>Murloc Tinyfin</td>\n",
       "      <td>Core</td>\n",
       "      <td>Minion</td>\n",
       "      <td>NaN</td>\n",
       "      <td>Common</td>\n",
       "      <td>0</td>\n",
       "      <td>NaN</td>\n",
       "      <td>High mortality rate, from often being hugged t...</td>\n",
       "      <td>...</td>\n",
       "      <td>NaN</td>\n",
       "      <td>NaN</td>\n",
       "      <td>NaN</td>\n",
       "      <td>NaN</td>\n",
       "      <td>NaN</td>\n",
       "      <td>NaN</td>\n",
       "      <td>NaN</td>\n",
       "      <td>NaN</td>\n",
       "      <td>Murloc Tinyfin</td>\n",
       "      <td>0.0090</td>\n",
       "    </tr>\n",
       "    <tr>\n",
       "      <th>1</th>\n",
       "      <td>CORE_LOEA10_3</td>\n",
       "      <td>69723</td>\n",
       "      <td>Murloc Tinyfin</td>\n",
       "      <td>Core</td>\n",
       "      <td>Minion</td>\n",
       "      <td>NaN</td>\n",
       "      <td>Common</td>\n",
       "      <td>0</td>\n",
       "      <td>NaN</td>\n",
       "      <td>High mortality rate, from often being hugged t...</td>\n",
       "      <td>...</td>\n",
       "      <td>NaN</td>\n",
       "      <td>NaN</td>\n",
       "      <td>NaN</td>\n",
       "      <td>NaN</td>\n",
       "      <td>NaN</td>\n",
       "      <td>NaN</td>\n",
       "      <td>NaN</td>\n",
       "      <td>NaN</td>\n",
       "      <td>Murloc Tinyfin</td>\n",
       "      <td>0.0004</td>\n",
       "    </tr>\n",
       "    <tr>\n",
       "      <th>2</th>\n",
       "      <td>CORE_CS2_188</td>\n",
       "      <td>69649</td>\n",
       "      <td>Abusive Sergeant</td>\n",
       "      <td>Core</td>\n",
       "      <td>Minion</td>\n",
       "      <td>Alliance</td>\n",
       "      <td>Common</td>\n",
       "      <td>1</td>\n",
       "      <td>&lt;b&gt;Battlecry:&lt;/b&gt; Give a minion +2_Attack this...</td>\n",
       "      <td>ADD ME TO YOUR DECK, MAGGOT!</td>\n",
       "      <td>...</td>\n",
       "      <td>[{'name': 'Battlecry'}]</td>\n",
       "      <td>NaN</td>\n",
       "      <td>NaN</td>\n",
       "      <td>NaN</td>\n",
       "      <td>NaN</td>\n",
       "      <td>NaN</td>\n",
       "      <td>NaN</td>\n",
       "      <td>NaN</td>\n",
       "      <td>Abusive Sergeant</td>\n",
       "      <td>0.0030</td>\n",
       "    </tr>\n",
       "    <tr>\n",
       "      <th>3</th>\n",
       "      <td>CORE_CS2_188</td>\n",
       "      <td>69649</td>\n",
       "      <td>Abusive Sergeant</td>\n",
       "      <td>Core</td>\n",
       "      <td>Minion</td>\n",
       "      <td>Alliance</td>\n",
       "      <td>Common</td>\n",
       "      <td>1</td>\n",
       "      <td>&lt;b&gt;Battlecry:&lt;/b&gt; Give a minion +2_Attack this...</td>\n",
       "      <td>ADD ME TO YOUR DECK, MAGGOT!</td>\n",
       "      <td>...</td>\n",
       "      <td>[{'name': 'Battlecry'}]</td>\n",
       "      <td>NaN</td>\n",
       "      <td>NaN</td>\n",
       "      <td>NaN</td>\n",
       "      <td>NaN</td>\n",
       "      <td>NaN</td>\n",
       "      <td>NaN</td>\n",
       "      <td>NaN</td>\n",
       "      <td>Abusive Sergeant</td>\n",
       "      <td>0.0007</td>\n",
       "    </tr>\n",
       "    <tr>\n",
       "      <th>4</th>\n",
       "      <td>CORE_KAR_009</td>\n",
       "      <td>69700</td>\n",
       "      <td>Babbling Book</td>\n",
       "      <td>Core</td>\n",
       "      <td>Minion</td>\n",
       "      <td>NaN</td>\n",
       "      <td>Rare</td>\n",
       "      <td>1</td>\n",
       "      <td>&lt;b&gt;Battlecry:&lt;/b&gt; Add a random Mage spell to y...</td>\n",
       "      <td>His idol is the Green Hills of Stranglethorn, ...</td>\n",
       "      <td>...</td>\n",
       "      <td>[{'name': 'Battlecry'}]</td>\n",
       "      <td>NaN</td>\n",
       "      <td>NaN</td>\n",
       "      <td>NaN</td>\n",
       "      <td>NaN</td>\n",
       "      <td>NaN</td>\n",
       "      <td>NaN</td>\n",
       "      <td>NaN</td>\n",
       "      <td>Babbling Book</td>\n",
       "      <td>0.0090</td>\n",
       "    </tr>\n",
       "    <tr>\n",
       "      <th>...</th>\n",
       "      <td>...</td>\n",
       "      <td>...</td>\n",
       "      <td>...</td>\n",
       "      <td>...</td>\n",
       "      <td>...</td>\n",
       "      <td>...</td>\n",
       "      <td>...</td>\n",
       "      <td>...</td>\n",
       "      <td>...</td>\n",
       "      <td>...</td>\n",
       "      <td>...</td>\n",
       "      <td>...</td>\n",
       "      <td>...</td>\n",
       "      <td>...</td>\n",
       "      <td>...</td>\n",
       "      <td>...</td>\n",
       "      <td>...</td>\n",
       "      <td>...</td>\n",
       "      <td>...</td>\n",
       "      <td>...</td>\n",
       "      <td>...</td>\n",
       "    </tr>\n",
       "    <tr>\n",
       "      <th>2178</th>\n",
       "      <td>TID_716</td>\n",
       "      <td>75635</td>\n",
       "      <td>Tidal Revenant</td>\n",
       "      <td>Voyage to the Sunken City</td>\n",
       "      <td>Minion</td>\n",
       "      <td>NaN</td>\n",
       "      <td>Common</td>\n",
       "      <td>8</td>\n",
       "      <td>&lt;b&gt;Battlecry:&lt;/b&gt; Deal 5 damage. Gain 5 Armor.</td>\n",
       "      <td>A big minion that clears the board and gains A...</td>\n",
       "      <td>...</td>\n",
       "      <td>[{'name': 'Battlecry'}]</td>\n",
       "      <td>NaN</td>\n",
       "      <td>NaN</td>\n",
       "      <td>NaN</td>\n",
       "      <td>NaN</td>\n",
       "      <td>NaN</td>\n",
       "      <td>NaN</td>\n",
       "      <td>NaN</td>\n",
       "      <td>Tidal Revenant</td>\n",
       "      <td>0.0020</td>\n",
       "    </tr>\n",
       "    <tr>\n",
       "      <th>2179</th>\n",
       "      <td>TID_077</td>\n",
       "      <td>76258</td>\n",
       "      <td>Lightray</td>\n",
       "      <td>Voyage to the Sunken City</td>\n",
       "      <td>Minion</td>\n",
       "      <td>NaN</td>\n",
       "      <td>Common</td>\n",
       "      <td>9</td>\n",
       "      <td>&lt;b&gt;Taunt&lt;/b&gt;\\nCosts (1) less for each Paladin ...</td>\n",
       "      <td>Lightrays, much like rays of light, tend to be...</td>\n",
       "      <td>...</td>\n",
       "      <td>[{'name': 'Taunt'}]</td>\n",
       "      <td>NaN</td>\n",
       "      <td>NaN</td>\n",
       "      <td>NaN</td>\n",
       "      <td>NaN</td>\n",
       "      <td>NaN</td>\n",
       "      <td>NaN</td>\n",
       "      <td>NaN</td>\n",
       "      <td>Lightray</td>\n",
       "      <td>0.0030</td>\n",
       "    </tr>\n",
       "    <tr>\n",
       "      <th>2180</th>\n",
       "      <td>TSC_659</td>\n",
       "      <td>74672</td>\n",
       "      <td>Trenchstalker</td>\n",
       "      <td>Voyage to the Sunken City</td>\n",
       "      <td>Minion</td>\n",
       "      <td>NaN</td>\n",
       "      <td>Epic</td>\n",
       "      <td>9</td>\n",
       "      <td>&lt;b&gt;Battlecry:&lt;/b&gt; Attack three different rando...</td>\n",
       "      <td>Cooler heads prevail.</td>\n",
       "      <td>...</td>\n",
       "      <td>[{'name': 'Battlecry'}]</td>\n",
       "      <td>NaN</td>\n",
       "      <td>NaN</td>\n",
       "      <td>NaN</td>\n",
       "      <td>NaN</td>\n",
       "      <td>NaN</td>\n",
       "      <td>NaN</td>\n",
       "      <td>NaN</td>\n",
       "      <td>Trenchstalker</td>\n",
       "      <td>0.0008</td>\n",
       "    </tr>\n",
       "    <tr>\n",
       "      <th>2181</th>\n",
       "      <td>TID_712</td>\n",
       "      <td>75583</td>\n",
       "      <td>Neptulon the Tidehunter</td>\n",
       "      <td>Voyage to the Sunken City</td>\n",
       "      <td>Minion</td>\n",
       "      <td>NaN</td>\n",
       "      <td>Legendary</td>\n",
       "      <td>10</td>\n",
       "      <td>[x]&lt;b&gt;Colossal +2&lt;/b&gt;, &lt;b&gt;Rush&lt;/b&gt;, &lt;b&gt;Windfur...</td>\n",
       "      <td>Neptulon, tired of filling hands, is now throw...</td>\n",
       "      <td>...</td>\n",
       "      <td>[{'name': 'Rush'}, {'name': 'Windfury'}, {'nam...</td>\n",
       "      <td>NaN</td>\n",
       "      <td>True</td>\n",
       "      <td>NaN</td>\n",
       "      <td>NaN</td>\n",
       "      <td>NaN</td>\n",
       "      <td>NaN</td>\n",
       "      <td>NaN</td>\n",
       "      <td>Neptulon the Tidehunter</td>\n",
       "      <td>0.0330</td>\n",
       "    </tr>\n",
       "    <tr>\n",
       "      <th>2182</th>\n",
       "      <td>TSC_829</td>\n",
       "      <td>71949</td>\n",
       "      <td>Naga Giant</td>\n",
       "      <td>Voyage to the Sunken City</td>\n",
       "      <td>Minion</td>\n",
       "      <td>NaN</td>\n",
       "      <td>Epic</td>\n",
       "      <td>20</td>\n",
       "      <td>Costs (1) less for each Mana you've spent on s...</td>\n",
       "      <td>He might be giant, but he’s still a couple tho...</td>\n",
       "      <td>...</td>\n",
       "      <td>NaN</td>\n",
       "      <td>NaN</td>\n",
       "      <td>NaN</td>\n",
       "      <td>NaN</td>\n",
       "      <td>NaN</td>\n",
       "      <td>NaN</td>\n",
       "      <td>NaN</td>\n",
       "      <td>NaN</td>\n",
       "      <td>Naga Giant</td>\n",
       "      <td>0.0040</td>\n",
       "    </tr>\n",
       "  </tbody>\n",
       "</table>\n",
       "<p>2183 rows × 31 columns</p>\n",
       "</div>"
      ],
      "text/plain": [
       "             cardId  dbfId                     name  \\\n",
       "0     CORE_LOEA10_3  69723           Murloc Tinyfin   \n",
       "1     CORE_LOEA10_3  69723           Murloc Tinyfin   \n",
       "2      CORE_CS2_188  69649         Abusive Sergeant   \n",
       "3      CORE_CS2_188  69649         Abusive Sergeant   \n",
       "4      CORE_KAR_009  69700            Babbling Book   \n",
       "...             ...    ...                      ...   \n",
       "2178        TID_716  75635           Tidal Revenant   \n",
       "2179        TID_077  76258                 Lightray   \n",
       "2180        TSC_659  74672            Trenchstalker   \n",
       "2181        TID_712  75583  Neptulon the Tidehunter   \n",
       "2182        TSC_829  71949               Naga Giant   \n",
       "\n",
       "                        cardSet    type   faction     rarity  cost  \\\n",
       "0                          Core  Minion       NaN     Common     0   \n",
       "1                          Core  Minion       NaN     Common     0   \n",
       "2                          Core  Minion  Alliance     Common     1   \n",
       "3                          Core  Minion  Alliance     Common     1   \n",
       "4                          Core  Minion       NaN       Rare     1   \n",
       "...                         ...     ...       ...        ...   ...   \n",
       "2178  Voyage to the Sunken City  Minion       NaN     Common     8   \n",
       "2179  Voyage to the Sunken City  Minion       NaN     Common     9   \n",
       "2180  Voyage to the Sunken City  Minion       NaN       Epic     9   \n",
       "2181  Voyage to the Sunken City  Minion       NaN  Legendary    10   \n",
       "2182  Voyage to the Sunken City  Minion       NaN       Epic    20   \n",
       "\n",
       "                                                   text  \\\n",
       "0                                                   NaN   \n",
       "1                                                   NaN   \n",
       "2     <b>Battlecry:</b> Give a minion +2_Attack this...   \n",
       "3     <b>Battlecry:</b> Give a minion +2_Attack this...   \n",
       "4     <b>Battlecry:</b> Add a random Mage spell to y...   \n",
       "...                                                 ...   \n",
       "2178     <b>Battlecry:</b> Deal 5 damage. Gain 5 Armor.   \n",
       "2179  <b>Taunt</b>\\nCosts (1) less for each Paladin ...   \n",
       "2180  <b>Battlecry:</b> Attack three different rando...   \n",
       "2181  [x]<b>Colossal +2</b>, <b>Rush</b>, <b>Windfur...   \n",
       "2182  Costs (1) less for each Mana you've spent on s...   \n",
       "\n",
       "                                                 flavor  ...  \\\n",
       "0     High mortality rate, from often being hugged t...  ...   \n",
       "1     High mortality rate, from often being hugged t...  ...   \n",
       "2                          ADD ME TO YOUR DECK, MAGGOT!  ...   \n",
       "3                          ADD ME TO YOUR DECK, MAGGOT!  ...   \n",
       "4     His idol is the Green Hills of Stranglethorn, ...  ...   \n",
       "...                                                 ...  ...   \n",
       "2178  A big minion that clears the board and gains A...  ...   \n",
       "2179  Lightrays, much like rays of light, tend to be...  ...   \n",
       "2180                              Cooler heads prevail.  ...   \n",
       "2181  Neptulon, tired of filling hands, is now throw...  ...   \n",
       "2182  He might be giant, but he’s still a couple tho...  ...   \n",
       "\n",
       "                                              mechanics  durability elite  \\\n",
       "0                                                   NaN         NaN   NaN   \n",
       "1                                                   NaN         NaN   NaN   \n",
       "2                               [{'name': 'Battlecry'}]         NaN   NaN   \n",
       "3                               [{'name': 'Battlecry'}]         NaN   NaN   \n",
       "4                               [{'name': 'Battlecry'}]         NaN   NaN   \n",
       "...                                                 ...         ...   ...   \n",
       "2178                            [{'name': 'Battlecry'}]         NaN   NaN   \n",
       "2179                                [{'name': 'Taunt'}]         NaN   NaN   \n",
       "2180                            [{'name': 'Battlecry'}]         NaN   NaN   \n",
       "2181  [{'name': 'Rush'}, {'name': 'Windfury'}, {'nam...         NaN  True   \n",
       "2182                                                NaN         NaN   NaN   \n",
       "\n",
       "     armor imgGold multiClassGroup classes howToGetDiamond  \\\n",
       "0      NaN     NaN             NaN     NaN             NaN   \n",
       "1      NaN     NaN             NaN     NaN             NaN   \n",
       "2      NaN     NaN             NaN     NaN             NaN   \n",
       "3      NaN     NaN             NaN     NaN             NaN   \n",
       "4      NaN     NaN             NaN     NaN             NaN   \n",
       "...    ...     ...             ...     ...             ...   \n",
       "2178   NaN     NaN             NaN     NaN             NaN   \n",
       "2179   NaN     NaN             NaN     NaN             NaN   \n",
       "2180   NaN     NaN             NaN     NaN             NaN   \n",
       "2181   NaN     NaN             NaN     NaN             NaN   \n",
       "2182   NaN     NaN             NaN     NaN             NaN   \n",
       "\n",
       "                         Name  Inclusion Rate  \n",
       "0              Murloc Tinyfin          0.0090  \n",
       "1              Murloc Tinyfin          0.0004  \n",
       "2            Abusive Sergeant          0.0030  \n",
       "3            Abusive Sergeant          0.0007  \n",
       "4               Babbling Book          0.0090  \n",
       "...                       ...             ...  \n",
       "2178           Tidal Revenant          0.0020  \n",
       "2179                 Lightray          0.0030  \n",
       "2180            Trenchstalker          0.0008  \n",
       "2181  Neptulon the Tidehunter          0.0330  \n",
       "2182               Naga Giant          0.0040  \n",
       "\n",
       "[2183 rows x 31 columns]"
      ]
     },
     "execution_count": 10,
     "metadata": {},
     "output_type": "execute_result"
    }
   ],
   "source": [
    "joinedDF = pd.merge(allMinionsDF, df, left_on='name', right_on='Name')\n",
    "joinedDF"
   ]
  },
  {
   "cell_type": "markdown",
   "id": "41ed5eb1",
   "metadata": {},
   "source": [
    "Alright we have a lot of features here so let's drop anything that seems irrelevant. This is the kind of decision that requries domain knowledge. None of these features are relevant to a cards PR."
   ]
  },
  {
   "cell_type": "code",
   "execution_count": 11,
   "id": "a1e85129",
   "metadata": {},
   "outputs": [],
   "source": [
    "joinedDF.drop(['name', 'cardId', 'dbfId', 'cardSet', 'type', 'faction', 'text', 'flavor', 'artist', 'collectible',\n",
    "       'howToGet', 'howToGetGold', 'img', 'locale', 'spellSchool', 'classes',\n",
    "        'durability', 'elite', 'armor',\n",
    "       'imgGold', 'multiClassGroup', 'howToGetDiamond', 'Name',], axis=1, inplace=True)"
   ]
  },
  {
   "cell_type": "markdown",
   "id": "f2591347",
   "metadata": {},
   "source": [
    "In our group of remaining features we have 'mechanics' which is relevant, but is unfortunately a list of dictionaries because of how we interpreted our json response. We can fix this with a quick function that we can apply to our dataframe and convert each list of dictionaries into a list of items."
   ]
  },
  {
   "cell_type": "code",
   "execution_count": 12,
   "id": "d1fc6f45",
   "metadata": {},
   "outputs": [
    {
     "data": {
      "text/html": [
       "<div>\n",
       "<style scoped>\n",
       "    .dataframe tbody tr th:only-of-type {\n",
       "        vertical-align: middle;\n",
       "    }\n",
       "\n",
       "    .dataframe tbody tr th {\n",
       "        vertical-align: top;\n",
       "    }\n",
       "\n",
       "    .dataframe thead th {\n",
       "        text-align: right;\n",
       "    }\n",
       "</style>\n",
       "<table border=\"1\" class=\"dataframe\">\n",
       "  <thead>\n",
       "    <tr style=\"text-align: right;\">\n",
       "      <th></th>\n",
       "      <th>rarity</th>\n",
       "      <th>cost</th>\n",
       "      <th>playerClass</th>\n",
       "      <th>attack</th>\n",
       "      <th>health</th>\n",
       "      <th>race</th>\n",
       "      <th>mechanics</th>\n",
       "      <th>Inclusion Rate</th>\n",
       "      <th>mechanics_list</th>\n",
       "    </tr>\n",
       "  </thead>\n",
       "  <tbody>\n",
       "    <tr>\n",
       "      <th>0</th>\n",
       "      <td>Common</td>\n",
       "      <td>0</td>\n",
       "      <td>Neutral</td>\n",
       "      <td>1.0</td>\n",
       "      <td>1.0</td>\n",
       "      <td>Murloc</td>\n",
       "      <td>NaN</td>\n",
       "      <td>0.0090</td>\n",
       "      <td>[]</td>\n",
       "    </tr>\n",
       "    <tr>\n",
       "      <th>1</th>\n",
       "      <td>Common</td>\n",
       "      <td>0</td>\n",
       "      <td>Neutral</td>\n",
       "      <td>1.0</td>\n",
       "      <td>1.0</td>\n",
       "      <td>Murloc</td>\n",
       "      <td>NaN</td>\n",
       "      <td>0.0004</td>\n",
       "      <td>[]</td>\n",
       "    </tr>\n",
       "    <tr>\n",
       "      <th>2</th>\n",
       "      <td>Common</td>\n",
       "      <td>1</td>\n",
       "      <td>Neutral</td>\n",
       "      <td>1.0</td>\n",
       "      <td>1.0</td>\n",
       "      <td>NaN</td>\n",
       "      <td>[{'name': 'Battlecry'}]</td>\n",
       "      <td>0.0030</td>\n",
       "      <td>[Battlecry]</td>\n",
       "    </tr>\n",
       "    <tr>\n",
       "      <th>3</th>\n",
       "      <td>Common</td>\n",
       "      <td>1</td>\n",
       "      <td>Neutral</td>\n",
       "      <td>1.0</td>\n",
       "      <td>1.0</td>\n",
       "      <td>NaN</td>\n",
       "      <td>[{'name': 'Battlecry'}]</td>\n",
       "      <td>0.0007</td>\n",
       "      <td>[Battlecry]</td>\n",
       "    </tr>\n",
       "    <tr>\n",
       "      <th>4</th>\n",
       "      <td>Rare</td>\n",
       "      <td>1</td>\n",
       "      <td>Mage</td>\n",
       "      <td>1.0</td>\n",
       "      <td>1.0</td>\n",
       "      <td>NaN</td>\n",
       "      <td>[{'name': 'Battlecry'}]</td>\n",
       "      <td>0.0090</td>\n",
       "      <td>[Battlecry]</td>\n",
       "    </tr>\n",
       "    <tr>\n",
       "      <th>...</th>\n",
       "      <td>...</td>\n",
       "      <td>...</td>\n",
       "      <td>...</td>\n",
       "      <td>...</td>\n",
       "      <td>...</td>\n",
       "      <td>...</td>\n",
       "      <td>...</td>\n",
       "      <td>...</td>\n",
       "      <td>...</td>\n",
       "    </tr>\n",
       "    <tr>\n",
       "      <th>2178</th>\n",
       "      <td>Common</td>\n",
       "      <td>8</td>\n",
       "      <td>Warrior</td>\n",
       "      <td>5.0</td>\n",
       "      <td>8.0</td>\n",
       "      <td>Elemental</td>\n",
       "      <td>[{'name': 'Battlecry'}]</td>\n",
       "      <td>0.0020</td>\n",
       "      <td>[Battlecry]</td>\n",
       "    </tr>\n",
       "    <tr>\n",
       "      <th>2179</th>\n",
       "      <td>Common</td>\n",
       "      <td>9</td>\n",
       "      <td>Paladin</td>\n",
       "      <td>5.0</td>\n",
       "      <td>5.0</td>\n",
       "      <td>Elemental</td>\n",
       "      <td>[{'name': 'Taunt'}]</td>\n",
       "      <td>0.0030</td>\n",
       "      <td>[Taunt]</td>\n",
       "    </tr>\n",
       "    <tr>\n",
       "      <th>2180</th>\n",
       "      <td>Epic</td>\n",
       "      <td>9</td>\n",
       "      <td>Warrior</td>\n",
       "      <td>8.0</td>\n",
       "      <td>9.0</td>\n",
       "      <td>Beast</td>\n",
       "      <td>[{'name': 'Battlecry'}]</td>\n",
       "      <td>0.0008</td>\n",
       "      <td>[Battlecry]</td>\n",
       "    </tr>\n",
       "    <tr>\n",
       "      <th>2181</th>\n",
       "      <td>Legendary</td>\n",
       "      <td>10</td>\n",
       "      <td>Neutral</td>\n",
       "      <td>7.0</td>\n",
       "      <td>7.0</td>\n",
       "      <td>Elemental</td>\n",
       "      <td>[{'name': 'Rush'}, {'name': 'Windfury'}, {'nam...</td>\n",
       "      <td>0.0330</td>\n",
       "      <td>[Rush, Windfury, Colossal +X]</td>\n",
       "    </tr>\n",
       "    <tr>\n",
       "      <th>2182</th>\n",
       "      <td>Epic</td>\n",
       "      <td>20</td>\n",
       "      <td>Neutral</td>\n",
       "      <td>8.0</td>\n",
       "      <td>8.0</td>\n",
       "      <td>Naga</td>\n",
       "      <td>NaN</td>\n",
       "      <td>0.0040</td>\n",
       "      <td>[]</td>\n",
       "    </tr>\n",
       "  </tbody>\n",
       "</table>\n",
       "<p>2183 rows × 9 columns</p>\n",
       "</div>"
      ],
      "text/plain": [
       "         rarity  cost playerClass  attack  health       race  \\\n",
       "0        Common     0     Neutral     1.0     1.0     Murloc   \n",
       "1        Common     0     Neutral     1.0     1.0     Murloc   \n",
       "2        Common     1     Neutral     1.0     1.0        NaN   \n",
       "3        Common     1     Neutral     1.0     1.0        NaN   \n",
       "4          Rare     1        Mage     1.0     1.0        NaN   \n",
       "...         ...   ...         ...     ...     ...        ...   \n",
       "2178     Common     8     Warrior     5.0     8.0  Elemental   \n",
       "2179     Common     9     Paladin     5.0     5.0  Elemental   \n",
       "2180       Epic     9     Warrior     8.0     9.0      Beast   \n",
       "2181  Legendary    10     Neutral     7.0     7.0  Elemental   \n",
       "2182       Epic    20     Neutral     8.0     8.0       Naga   \n",
       "\n",
       "                                              mechanics  Inclusion Rate  \\\n",
       "0                                                   NaN          0.0090   \n",
       "1                                                   NaN          0.0004   \n",
       "2                               [{'name': 'Battlecry'}]          0.0030   \n",
       "3                               [{'name': 'Battlecry'}]          0.0007   \n",
       "4                               [{'name': 'Battlecry'}]          0.0090   \n",
       "...                                                 ...             ...   \n",
       "2178                            [{'name': 'Battlecry'}]          0.0020   \n",
       "2179                                [{'name': 'Taunt'}]          0.0030   \n",
       "2180                            [{'name': 'Battlecry'}]          0.0008   \n",
       "2181  [{'name': 'Rush'}, {'name': 'Windfury'}, {'nam...          0.0330   \n",
       "2182                                                NaN          0.0040   \n",
       "\n",
       "                     mechanics_list  \n",
       "0                                []  \n",
       "1                                []  \n",
       "2                       [Battlecry]  \n",
       "3                       [Battlecry]  \n",
       "4                       [Battlecry]  \n",
       "...                             ...  \n",
       "2178                    [Battlecry]  \n",
       "2179                        [Taunt]  \n",
       "2180                    [Battlecry]  \n",
       "2181  [Rush, Windfury, Colossal +X]  \n",
       "2182                             []  \n",
       "\n",
       "[2183 rows x 9 columns]"
      ]
     },
     "execution_count": 12,
     "metadata": {},
     "output_type": "execute_result"
    }
   ],
   "source": [
    "def convertDictsToList (row):\n",
    "    newList = []\n",
    "    if(isinstance(row['mechanics'], float)):\n",
    "        return []\n",
    "    for item in row['mechanics']:\n",
    "        newList.append(item.get('name'))  \n",
    "    return newList\n",
    "\n",
    "joinedDF['mechanics_list'] = joinedDF.apply (lambda row: convertDictsToList(row), axis=1)\n",
    "joinedDF"
   ]
  },
  {
   "cell_type": "markdown",
   "id": "05ec6853",
   "metadata": {},
   "source": [
    "Now that we have a list of items we can use dummy coding to convert this into several binary features that indicate whether or not a card has a certain mechanic. "
   ]
  },
  {
   "cell_type": "code",
   "execution_count": 13,
   "id": "b60020b7",
   "metadata": {},
   "outputs": [
    {
     "data": {
      "text/html": [
       "<div>\n",
       "<style scoped>\n",
       "    .dataframe tbody tr th:only-of-type {\n",
       "        vertical-align: middle;\n",
       "    }\n",
       "\n",
       "    .dataframe tbody tr th {\n",
       "        vertical-align: top;\n",
       "    }\n",
       "\n",
       "    .dataframe thead th {\n",
       "        text-align: right;\n",
       "    }\n",
       "</style>\n",
       "<table border=\"1\" class=\"dataframe\">\n",
       "  <thead>\n",
       "    <tr style=\"text-align: right;\">\n",
       "      <th></th>\n",
       "      <th>rarity</th>\n",
       "      <th>cost</th>\n",
       "      <th>playerClass</th>\n",
       "      <th>attack</th>\n",
       "      <th>health</th>\n",
       "      <th>race</th>\n",
       "      <th>mechanics</th>\n",
       "      <th>Inclusion Rate</th>\n",
       "      <th>Adapt</th>\n",
       "      <th>AdjacentBuff</th>\n",
       "      <th>...</th>\n",
       "      <th>Recruit</th>\n",
       "      <th>Rush</th>\n",
       "      <th>Secret</th>\n",
       "      <th>Silence</th>\n",
       "      <th>Spell Damage</th>\n",
       "      <th>Spellburst</th>\n",
       "      <th>Stealth</th>\n",
       "      <th>Taunt</th>\n",
       "      <th>Tradeable</th>\n",
       "      <th>Windfury</th>\n",
       "    </tr>\n",
       "  </thead>\n",
       "  <tbody>\n",
       "    <tr>\n",
       "      <th>0</th>\n",
       "      <td>Common</td>\n",
       "      <td>0</td>\n",
       "      <td>Neutral</td>\n",
       "      <td>1.0</td>\n",
       "      <td>1.0</td>\n",
       "      <td>Murloc</td>\n",
       "      <td>NaN</td>\n",
       "      <td>0.0090</td>\n",
       "      <td>0</td>\n",
       "      <td>0</td>\n",
       "      <td>...</td>\n",
       "      <td>0</td>\n",
       "      <td>0</td>\n",
       "      <td>0</td>\n",
       "      <td>0</td>\n",
       "      <td>0</td>\n",
       "      <td>0</td>\n",
       "      <td>0</td>\n",
       "      <td>0</td>\n",
       "      <td>0</td>\n",
       "      <td>0</td>\n",
       "    </tr>\n",
       "    <tr>\n",
       "      <th>1</th>\n",
       "      <td>Common</td>\n",
       "      <td>0</td>\n",
       "      <td>Neutral</td>\n",
       "      <td>1.0</td>\n",
       "      <td>1.0</td>\n",
       "      <td>Murloc</td>\n",
       "      <td>NaN</td>\n",
       "      <td>0.0004</td>\n",
       "      <td>0</td>\n",
       "      <td>0</td>\n",
       "      <td>...</td>\n",
       "      <td>0</td>\n",
       "      <td>0</td>\n",
       "      <td>0</td>\n",
       "      <td>0</td>\n",
       "      <td>0</td>\n",
       "      <td>0</td>\n",
       "      <td>0</td>\n",
       "      <td>0</td>\n",
       "      <td>0</td>\n",
       "      <td>0</td>\n",
       "    </tr>\n",
       "    <tr>\n",
       "      <th>2</th>\n",
       "      <td>Common</td>\n",
       "      <td>1</td>\n",
       "      <td>Neutral</td>\n",
       "      <td>1.0</td>\n",
       "      <td>1.0</td>\n",
       "      <td>NaN</td>\n",
       "      <td>[{'name': 'Battlecry'}]</td>\n",
       "      <td>0.0030</td>\n",
       "      <td>0</td>\n",
       "      <td>0</td>\n",
       "      <td>...</td>\n",
       "      <td>0</td>\n",
       "      <td>0</td>\n",
       "      <td>0</td>\n",
       "      <td>0</td>\n",
       "      <td>0</td>\n",
       "      <td>0</td>\n",
       "      <td>0</td>\n",
       "      <td>0</td>\n",
       "      <td>0</td>\n",
       "      <td>0</td>\n",
       "    </tr>\n",
       "    <tr>\n",
       "      <th>3</th>\n",
       "      <td>Common</td>\n",
       "      <td>1</td>\n",
       "      <td>Neutral</td>\n",
       "      <td>1.0</td>\n",
       "      <td>1.0</td>\n",
       "      <td>NaN</td>\n",
       "      <td>[{'name': 'Battlecry'}]</td>\n",
       "      <td>0.0007</td>\n",
       "      <td>0</td>\n",
       "      <td>0</td>\n",
       "      <td>...</td>\n",
       "      <td>0</td>\n",
       "      <td>0</td>\n",
       "      <td>0</td>\n",
       "      <td>0</td>\n",
       "      <td>0</td>\n",
       "      <td>0</td>\n",
       "      <td>0</td>\n",
       "      <td>0</td>\n",
       "      <td>0</td>\n",
       "      <td>0</td>\n",
       "    </tr>\n",
       "    <tr>\n",
       "      <th>4</th>\n",
       "      <td>Rare</td>\n",
       "      <td>1</td>\n",
       "      <td>Mage</td>\n",
       "      <td>1.0</td>\n",
       "      <td>1.0</td>\n",
       "      <td>NaN</td>\n",
       "      <td>[{'name': 'Battlecry'}]</td>\n",
       "      <td>0.0090</td>\n",
       "      <td>0</td>\n",
       "      <td>0</td>\n",
       "      <td>...</td>\n",
       "      <td>0</td>\n",
       "      <td>0</td>\n",
       "      <td>0</td>\n",
       "      <td>0</td>\n",
       "      <td>0</td>\n",
       "      <td>0</td>\n",
       "      <td>0</td>\n",
       "      <td>0</td>\n",
       "      <td>0</td>\n",
       "      <td>0</td>\n",
       "    </tr>\n",
       "    <tr>\n",
       "      <th>...</th>\n",
       "      <td>...</td>\n",
       "      <td>...</td>\n",
       "      <td>...</td>\n",
       "      <td>...</td>\n",
       "      <td>...</td>\n",
       "      <td>...</td>\n",
       "      <td>...</td>\n",
       "      <td>...</td>\n",
       "      <td>...</td>\n",
       "      <td>...</td>\n",
       "      <td>...</td>\n",
       "      <td>...</td>\n",
       "      <td>...</td>\n",
       "      <td>...</td>\n",
       "      <td>...</td>\n",
       "      <td>...</td>\n",
       "      <td>...</td>\n",
       "      <td>...</td>\n",
       "      <td>...</td>\n",
       "      <td>...</td>\n",
       "      <td>...</td>\n",
       "    </tr>\n",
       "    <tr>\n",
       "      <th>2178</th>\n",
       "      <td>Common</td>\n",
       "      <td>8</td>\n",
       "      <td>Warrior</td>\n",
       "      <td>5.0</td>\n",
       "      <td>8.0</td>\n",
       "      <td>Elemental</td>\n",
       "      <td>[{'name': 'Battlecry'}]</td>\n",
       "      <td>0.0020</td>\n",
       "      <td>0</td>\n",
       "      <td>0</td>\n",
       "      <td>...</td>\n",
       "      <td>0</td>\n",
       "      <td>0</td>\n",
       "      <td>0</td>\n",
       "      <td>0</td>\n",
       "      <td>0</td>\n",
       "      <td>0</td>\n",
       "      <td>0</td>\n",
       "      <td>0</td>\n",
       "      <td>0</td>\n",
       "      <td>0</td>\n",
       "    </tr>\n",
       "    <tr>\n",
       "      <th>2179</th>\n",
       "      <td>Common</td>\n",
       "      <td>9</td>\n",
       "      <td>Paladin</td>\n",
       "      <td>5.0</td>\n",
       "      <td>5.0</td>\n",
       "      <td>Elemental</td>\n",
       "      <td>[{'name': 'Taunt'}]</td>\n",
       "      <td>0.0030</td>\n",
       "      <td>0</td>\n",
       "      <td>0</td>\n",
       "      <td>...</td>\n",
       "      <td>0</td>\n",
       "      <td>0</td>\n",
       "      <td>0</td>\n",
       "      <td>0</td>\n",
       "      <td>0</td>\n",
       "      <td>0</td>\n",
       "      <td>0</td>\n",
       "      <td>1</td>\n",
       "      <td>0</td>\n",
       "      <td>0</td>\n",
       "    </tr>\n",
       "    <tr>\n",
       "      <th>2180</th>\n",
       "      <td>Epic</td>\n",
       "      <td>9</td>\n",
       "      <td>Warrior</td>\n",
       "      <td>8.0</td>\n",
       "      <td>9.0</td>\n",
       "      <td>Beast</td>\n",
       "      <td>[{'name': 'Battlecry'}]</td>\n",
       "      <td>0.0008</td>\n",
       "      <td>0</td>\n",
       "      <td>0</td>\n",
       "      <td>...</td>\n",
       "      <td>0</td>\n",
       "      <td>0</td>\n",
       "      <td>0</td>\n",
       "      <td>0</td>\n",
       "      <td>0</td>\n",
       "      <td>0</td>\n",
       "      <td>0</td>\n",
       "      <td>0</td>\n",
       "      <td>0</td>\n",
       "      <td>0</td>\n",
       "    </tr>\n",
       "    <tr>\n",
       "      <th>2181</th>\n",
       "      <td>Legendary</td>\n",
       "      <td>10</td>\n",
       "      <td>Neutral</td>\n",
       "      <td>7.0</td>\n",
       "      <td>7.0</td>\n",
       "      <td>Elemental</td>\n",
       "      <td>[{'name': 'Rush'}, {'name': 'Windfury'}, {'nam...</td>\n",
       "      <td>0.0330</td>\n",
       "      <td>0</td>\n",
       "      <td>0</td>\n",
       "      <td>...</td>\n",
       "      <td>0</td>\n",
       "      <td>1</td>\n",
       "      <td>0</td>\n",
       "      <td>0</td>\n",
       "      <td>0</td>\n",
       "      <td>0</td>\n",
       "      <td>0</td>\n",
       "      <td>0</td>\n",
       "      <td>0</td>\n",
       "      <td>1</td>\n",
       "    </tr>\n",
       "    <tr>\n",
       "      <th>2182</th>\n",
       "      <td>Epic</td>\n",
       "      <td>20</td>\n",
       "      <td>Neutral</td>\n",
       "      <td>8.0</td>\n",
       "      <td>8.0</td>\n",
       "      <td>Naga</td>\n",
       "      <td>NaN</td>\n",
       "      <td>0.0040</td>\n",
       "      <td>0</td>\n",
       "      <td>0</td>\n",
       "      <td>...</td>\n",
       "      <td>0</td>\n",
       "      <td>0</td>\n",
       "      <td>0</td>\n",
       "      <td>0</td>\n",
       "      <td>0</td>\n",
       "      <td>0</td>\n",
       "      <td>0</td>\n",
       "      <td>0</td>\n",
       "      <td>0</td>\n",
       "      <td>0</td>\n",
       "    </tr>\n",
       "  </tbody>\n",
       "</table>\n",
       "<p>2183 rows × 48 columns</p>\n",
       "</div>"
      ],
      "text/plain": [
       "         rarity  cost playerClass  attack  health       race  \\\n",
       "0        Common     0     Neutral     1.0     1.0     Murloc   \n",
       "1        Common     0     Neutral     1.0     1.0     Murloc   \n",
       "2        Common     1     Neutral     1.0     1.0        NaN   \n",
       "3        Common     1     Neutral     1.0     1.0        NaN   \n",
       "4          Rare     1        Mage     1.0     1.0        NaN   \n",
       "...         ...   ...         ...     ...     ...        ...   \n",
       "2178     Common     8     Warrior     5.0     8.0  Elemental   \n",
       "2179     Common     9     Paladin     5.0     5.0  Elemental   \n",
       "2180       Epic     9     Warrior     8.0     9.0      Beast   \n",
       "2181  Legendary    10     Neutral     7.0     7.0  Elemental   \n",
       "2182       Epic    20     Neutral     8.0     8.0       Naga   \n",
       "\n",
       "                                              mechanics  Inclusion Rate  \\\n",
       "0                                                   NaN          0.0090   \n",
       "1                                                   NaN          0.0004   \n",
       "2                               [{'name': 'Battlecry'}]          0.0030   \n",
       "3                               [{'name': 'Battlecry'}]          0.0007   \n",
       "4                               [{'name': 'Battlecry'}]          0.0090   \n",
       "...                                                 ...             ...   \n",
       "2178                            [{'name': 'Battlecry'}]          0.0020   \n",
       "2179                                [{'name': 'Taunt'}]          0.0030   \n",
       "2180                            [{'name': 'Battlecry'}]          0.0008   \n",
       "2181  [{'name': 'Rush'}, {'name': 'Windfury'}, {'nam...          0.0330   \n",
       "2182                                                NaN          0.0040   \n",
       "\n",
       "      Adapt  AdjacentBuff  ...  Recruit  Rush  Secret  Silence  Spell Damage  \\\n",
       "0         0             0  ...        0     0       0        0             0   \n",
       "1         0             0  ...        0     0       0        0             0   \n",
       "2         0             0  ...        0     0       0        0             0   \n",
       "3         0             0  ...        0     0       0        0             0   \n",
       "4         0             0  ...        0     0       0        0             0   \n",
       "...     ...           ...  ...      ...   ...     ...      ...           ...   \n",
       "2178      0             0  ...        0     0       0        0             0   \n",
       "2179      0             0  ...        0     0       0        0             0   \n",
       "2180      0             0  ...        0     0       0        0             0   \n",
       "2181      0             0  ...        0     1       0        0             0   \n",
       "2182      0             0  ...        0     0       0        0             0   \n",
       "\n",
       "      Spellburst  Stealth  Taunt  Tradeable  Windfury  \n",
       "0              0        0      0          0         0  \n",
       "1              0        0      0          0         0  \n",
       "2              0        0      0          0         0  \n",
       "3              0        0      0          0         0  \n",
       "4              0        0      0          0         0  \n",
       "...          ...      ...    ...        ...       ...  \n",
       "2178           0        0      0          0         0  \n",
       "2179           0        0      1          0         0  \n",
       "2180           0        0      0          0         0  \n",
       "2181           0        0      0          0         1  \n",
       "2182           0        0      0          0         0  \n",
       "\n",
       "[2183 rows x 48 columns]"
      ]
     },
     "execution_count": 13,
     "metadata": {},
     "output_type": "execute_result"
    }
   ],
   "source": [
    "mlb = MultiLabelBinarizer(sparse_output=True)\n",
    "\n",
    "joinedDF = joinedDF.join(\n",
    "            pd.DataFrame.sparse.from_spmatrix(\n",
    "                mlb.fit_transform(joinedDF.pop('mechanics_list')),\n",
    "                index=joinedDF.index,\n",
    "                columns=mlb.classes_))\n",
    "joinedDF\n"
   ]
  },
  {
   "cell_type": "markdown",
   "id": "45c2aae4",
   "metadata": {},
   "source": [
    "Now lets convert the rest of our categorical variables into dummy encodings so that we can use all of our data for a linear regression. We also need to drop the 'mechanics' column since that isn't done automatically."
   ]
  },
  {
   "cell_type": "code",
   "execution_count": 14,
   "id": "3ad0b4fb",
   "metadata": {},
   "outputs": [],
   "source": [
    "dummyDf = pd.get_dummies(joinedDF, prefix = ['rarity', 'playerClass', 'race'], columns = ['rarity', 'playerClass', 'race'])\n",
    "dummyDf.drop(['mechanics'], axis=1, inplace=True)"
   ]
  },
  {
   "cell_type": "markdown",
   "id": "ac347c6a",
   "metadata": {},
   "source": [
    "Now we need to split our data into test and train data, we will use a standard 80-20 split. We also need to seperate our labels for evaluation."
   ]
  },
  {
   "cell_type": "code",
   "execution_count": 15,
   "id": "d8d62f5d",
   "metadata": {},
   "outputs": [],
   "source": [
    "train_data = dummyDf.sample(frac=0.8, random_state=0)\n",
    "test_data = dummyDf.drop(train_data.index)\n",
    "\n",
    "train_labels = train_data.pop('Inclusion Rate')\n",
    "test_labels = test_data.pop('Inclusion Rate')"
   ]
  },
  {
   "cell_type": "markdown",
   "id": "295aae2d",
   "metadata": {},
   "source": [
    "Now we need to normalize our data, let's use a tensorflow normilization layer."
   ]
  },
  {
   "cell_type": "code",
   "execution_count": 16,
   "id": "2eb04d1a",
   "metadata": {},
   "outputs": [
    {
     "name": "stderr",
     "output_type": "stream",
     "text": [
      "2022-06-27 11:29:31.583205: W tensorflow/stream_executor/platform/default/dso_loader.cc:64] Could not load dynamic library 'libcuda.so.1'; dlerror: libcuda.so.1: cannot open shared object file: No such file or directory\n",
      "2022-06-27 11:29:31.583242: W tensorflow/stream_executor/cuda/cuda_driver.cc:269] failed call to cuInit: UNKNOWN ERROR (303)\n",
      "2022-06-27 11:29:31.583259: I tensorflow/stream_executor/cuda/cuda_diagnostics.cc:156] kernel driver does not appear to be running on this host (DESKTOP-ONVBKQ5): /proc/driver/nvidia/version does not exist\n",
      "2022-06-27 11:29:31.585123: I tensorflow/core/platform/cpu_feature_guard.cc:193] This TensorFlow binary is optimized with oneAPI Deep Neural Network Library (oneDNN) to use the following CPU instructions in performance-critical operations:  AVX2 FMA\n",
      "To enable them in other operations, rebuild TensorFlow with the appropriate compiler flags.\n"
     ]
    }
   ],
   "source": [
    "normalizer = tf.keras.layers.Normalization(axis=-1)\n",
    "normalizer.adapt(train_data)"
   ]
  },
  {
   "cell_type": "markdown",
   "id": "6544ebb4",
   "metadata": {},
   "source": [
    "Now we can make and compile our model with the normilization layer and only one other layer to start with."
   ]
  },
  {
   "cell_type": "code",
   "execution_count": 17,
   "id": "b4a193d8",
   "metadata": {},
   "outputs": [],
   "source": [
    "linear_model = tf.keras.Sequential([\n",
    "    normalizer,\n",
    "    layers.Dense(units=1)\n",
    "])\n",
    "\n",
    "linear_model.compile(\n",
    "    optimizer=tf.optimizers.Adam(learning_rate=0.05),\n",
    "    loss='mean_absolute_error')"
   ]
  },
  {
   "cell_type": "markdown",
   "id": "1921d26f",
   "metadata": {},
   "source": [
    "Now we can fit our model."
   ]
  },
  {
   "cell_type": "code",
   "execution_count": 18,
   "id": "582eaccc",
   "metadata": {},
   "outputs": [
    {
     "name": "stdout",
     "output_type": "stream",
     "text": [
      "CPU times: user 5.98 s, sys: 1.73 s, total: 7.71 s\n",
      "Wall time: 3.81 s\n"
     ]
    }
   ],
   "source": [
    "%%time\n",
    "history = linear_model.fit(\n",
    "    train_data,\n",
    "    train_labels,\n",
    "    epochs=50,\n",
    "    verbose=0,\n",
    "    validation_split = 0.2)"
   ]
  },
  {
   "cell_type": "markdown",
   "id": "0752aa5e",
   "metadata": {},
   "source": [
    "To view how much our model improves over iterations we can use plotly along with history."
   ]
  },
  {
   "cell_type": "code",
   "execution_count": 19,
   "id": "6d36dad8",
   "metadata": {},
   "outputs": [
    {
     "data": {
      "image/png": "[encoded data removed]",
      "text/plain": [
       "<Figure size 432x288 with 1 Axes>"
      ]
     },
     "metadata": {
      "needs_background": "light"
     },
     "output_type": "display_data"
    }
   ],
   "source": [
    "def plot_loss(history):\n",
    "  plt.plot(history.history['loss'], label='loss')\n",
    "  plt.plot(history.history['val_loss'], label='val_loss')\n",
    "  plt.ylim([0, 1])\n",
    "  plt.xlabel('Epoch')\n",
    "  plt.ylabel('Error [Inclusion Rate]')\n",
    "  plt.legend()\n",
    "  plt.grid(True)\n",
    "\n",
    "plot_loss(history)"
   ]
  },
  {
   "cell_type": "markdown",
   "id": "ba578908",
   "metadata": {},
   "source": [
    "This looks bad, there is some decrease in error but it is still high at the end of training. Let's evaluate the total loss of our test data to see how our model performs before we take any more steps."
   ]
  },
  {
   "cell_type": "code",
   "execution_count": 20,
   "id": "a4a24f5d",
   "metadata": {},
   "outputs": [
    {
     "name": "stdout",
     "output_type": "stream",
     "text": [
      "14/14 [==============================] - 0s 1ms/step - loss: 1760.4547\n"
     ]
    },
    {
     "data": {
      "text/plain": [
       "1760.4547119140625"
      ]
     },
     "execution_count": 20,
     "metadata": {},
     "output_type": "execute_result"
    }
   ],
   "source": [
    "linear_model.evaluate(test_data, test_labels)"
   ]
  },
  {
   "cell_type": "markdown",
   "id": "6f3130f3",
   "metadata": {},
   "source": [
    "This loss is super high. Clearly there is something wrong with our model. A likely culprit is overfitting. We have a lot of features, and not very many datapoints. So let's try a simple regression with only the very baisic features."
   ]
  },
  {
   "cell_type": "code",
   "execution_count": 21,
   "id": "cff24218",
   "metadata": {},
   "outputs": [],
   "source": [
    "train_data_underfit = train_data[['cost', 'attack', 'health']]\n",
    "test_data_underfit = test_data[['cost', 'attack', 'health']]\n",
    "\n",
    "normalizer_underfit = tf.keras.layers.Normalization(axis=-1)\n",
    "normalizer_underfit.adapt(train_data_underfit)"
   ]
  },
  {
   "cell_type": "code",
   "execution_count": 22,
   "id": "5b952988",
   "metadata": {},
   "outputs": [],
   "source": [
    "linear_model_underfit = tf.keras.Sequential([\n",
    "    normalizer_underfit,\n",
    "    layers.Dense(units=1)\n",
    "])\n",
    "linear_model_underfit.compile(\n",
    "    optimizer=tf.optimizers.Adam(learning_rate=0.05),\n",
    "    loss='mean_absolute_error')"
   ]
  },
  {
   "cell_type": "code",
   "execution_count": 23,
   "id": "de73f5c6",
   "metadata": {},
   "outputs": [
    {
     "name": "stdout",
     "output_type": "stream",
     "text": [
      "CPU times: user 5.94 s, sys: 1.68 s, total: 7.61 s\n",
      "Wall time: 3.82 s\n"
     ]
    }
   ],
   "source": [
    "%%time\n",
    "history = linear_model_underfit.fit(\n",
    "    train_data_underfit,\n",
    "    train_labels,\n",
    "    epochs=50,\n",
    "    # Suppress logging.\n",
    "    verbose=0,\n",
    "    # Calculate validation results on 20% of the training data.\n",
    "    validation_split = 0.2)"
   ]
  },
  {
   "cell_type": "code",
   "execution_count": 24,
   "id": "a720abac",
   "metadata": {},
   "outputs": [
    {
     "data": {
      "image/png": "[encoded data removed]",
      "text/plain": [
       "<Figure size 432x288 with 1 Axes>"
      ]
     },
     "metadata": {
      "needs_background": "light"
     },
     "output_type": "display_data"
    }
   ],
   "source": [
    "plot_loss(history)"
   ]
  },
  {
   "cell_type": "code",
   "execution_count": 25,
   "id": "87595762",
   "metadata": {},
   "outputs": [
    {
     "name": "stdout",
     "output_type": "stream",
     "text": [
      "14/14 [==============================] - 0s 1ms/step - loss: 0.0106\n"
     ]
    },
    {
     "data": {
      "text/plain": [
       "0.010572249069809914"
      ]
     },
     "execution_count": 25,
     "metadata": {},
     "output_type": "execute_result"
    }
   ],
   "source": [
    "linear_model_underfit.evaluate(test_data_underfit, test_labels)"
   ]
  },
  {
   "cell_type": "markdown",
   "id": "29740486",
   "metadata": {},
   "source": [
    "This simple model is a lot more accurate, but also less interesting. It won't tell us anything that a simple regression or common sense wouldn't. We need to figure out which of the complex features we want to continue to use. Let's get counts for each of our features so we can exclude any that might apply to only a few cards since those cases are most likely to lead to overfitting. For now let's exclude any features that are present fewer than 10 times. This leaves us with 57 features and our label."
   ]
  },
  {
   "cell_type": "code",
   "execution_count": 26,
   "id": "bb2b41cd",
   "metadata": {},
   "outputs": [
    {
     "data": {
      "text/plain": [
       "Index(['cost', 'attack', 'health', 'Inclusion Rate', 'Adapt', 'Aura',\n",
       "       'Battlecry', 'Charge', 'Colossal +X', 'Combo', 'Deathrattle',\n",
       "       'Discover', 'Divine Shield', 'Dormant', 'Dredge', 'Freeze', 'Frenzy',\n",
       "       'Honorable Kill', 'Inspire', 'Lifesteal', 'Magnetic', 'Outcast',\n",
       "       'Overload', 'Poisonous', 'Reborn', 'Rush', 'Secret', 'Silence',\n",
       "       'Spell Damage', 'Spellburst', 'Stealth', 'Taunt', 'Windfury',\n",
       "       'rarity_Common', 'rarity_Epic', 'rarity_Legendary', 'rarity_Rare',\n",
       "       'playerClass_Demon Hunter', 'playerClass_Druid', 'playerClass_Hunter',\n",
       "       'playerClass_Mage', 'playerClass_Neutral', 'playerClass_Paladin',\n",
       "       'playerClass_Priest', 'playerClass_Rogue', 'playerClass_Shaman',\n",
       "       'playerClass_Warlock', 'playerClass_Warrior', 'race_Beast',\n",
       "       'race_Demon', 'race_Dragon', 'race_Elemental', 'race_Mech',\n",
       "       'race_Murloc', 'race_Naga', 'race_Pirate', 'race_Quilboar',\n",
       "       'race_Totem'],\n",
       "      dtype='object')"
      ]
     },
     "execution_count": 26,
     "metadata": {},
     "output_type": "execute_result"
    }
   ],
   "source": [
    "counts = dummyDf.sum(axis=0)\n",
    "slightlySmallerDF = dummyDf.drop(counts[counts < 10.0].index, axis=1)\n",
    "slightlySmallerDF.columns"
   ]
  },
  {
   "cell_type": "markdown",
   "id": "5cab148a",
   "metadata": {},
   "source": [
    "Now let's train a model on this set of features."
   ]
  },
  {
   "cell_type": "code",
   "execution_count": 232,
   "id": "89bc3edf",
   "metadata": {},
   "outputs": [],
   "source": [
    "s_train_data = slightlySmallerDF.sample(frac=0.8, random_state=0)\n",
    "s_test_data = slightlySmallerDF.drop(s_train_data.index)\n",
    "\n",
    "s_train_labels = s_train_data.pop('Inclusion Rate')\n",
    "s_test_labels = s_test_data.pop('Inclusion Rate')"
   ]
  },
  {
   "cell_type": "code",
   "execution_count": 28,
   "id": "f2511c57",
   "metadata": {},
   "outputs": [],
   "source": [
    "s_normalizer = tf.keras.layers.Normalization(axis=-1)\n",
    "s_normalizer.adapt(s_train_data)"
   ]
  },
  {
   "cell_type": "code",
   "execution_count": 29,
   "id": "cb6ddd89",
   "metadata": {},
   "outputs": [],
   "source": [
    "s_linear_model = tf.keras.Sequential([\n",
    "    s_normalizer,\n",
    "    layers.Dense(units=1)\n",
    "])\n",
    "\n",
    "s_linear_model.compile(\n",
    "    optimizer=tf.optimizers.Adam(learning_rate=0.05),\n",
    "    loss='mean_absolute_error')"
   ]
  },
  {
   "cell_type": "code",
   "execution_count": 30,
   "id": "64035bf4",
   "metadata": {},
   "outputs": [
    {
     "name": "stdout",
     "output_type": "stream",
     "text": [
      "CPU times: user 5.97 s, sys: 1.88 s, total: 7.85 s\n",
      "Wall time: 3.75 s\n"
     ]
    }
   ],
   "source": [
    "%%time\n",
    "s_history = s_linear_model.fit(\n",
    "    s_train_data,\n",
    "    s_train_labels,\n",
    "    epochs=50,\n",
    "    verbose=0,\n",
    "    validation_split = 0.2)"
   ]
  },
  {
   "cell_type": "code",
   "execution_count": 31,
   "id": "6ae17482",
   "metadata": {},
   "outputs": [
    {
     "data": {
      "image/png": "[encoded data removed]",
      "text/plain": [
       "<Figure size 432x288 with 1 Axes>"
      ]
     },
     "metadata": {
      "needs_background": "light"
     },
     "output_type": "display_data"
    }
   ],
   "source": [
    "def plot_loss(s_history):\n",
    "  plt.plot(s_history.history['loss'], label='loss')\n",
    "  plt.plot(s_history.history['val_loss'], label='val_loss')\n",
    "  plt.ylim([0, .5])\n",
    "  plt.xlabel('Epoch')\n",
    "  plt.ylabel('Error [Inclusion Rate]')\n",
    "  plt.legend()\n",
    "  plt.grid(True)\n",
    "\n",
    "plot_loss(s_history)"
   ]
  },
  {
   "cell_type": "code",
   "execution_count": 32,
   "id": "527cbed1",
   "metadata": {},
   "outputs": [
    {
     "name": "stdout",
     "output_type": "stream",
     "text": [
      "14/14 [==============================] - 0s 1ms/step - loss: 0.2448\n"
     ]
    },
    {
     "data": {
      "text/plain": [
       "0.24484474956989288"
      ]
     },
     "execution_count": 32,
     "metadata": {},
     "output_type": "execute_result"
    }
   ],
   "source": [
    "s_linear_model.evaluate(s_test_data, s_test_labels)"
   ]
  },
  {
   "cell_type": "markdown",
   "id": "26113882",
   "metadata": {},
   "source": [
    "This model does much better than our model with all the features, so the major source of our loss were the uncommon features. This model is still significantly worse than a model that uses only the most baisic features. Before we do any more feature engineering let's experiment with adding a hidden layer. Lets start by adding a hidden layer to our simple model."
   ]
  },
  {
   "cell_type": "code",
   "execution_count": 35,
   "id": "ede904b8",
   "metadata": {},
   "outputs": [],
   "source": [
    "train_data_underfit = train_data[['cost', 'attack', 'health']]\n",
    "test_data_underfit = test_data[['cost', 'attack', 'health']]\n",
    "\n",
    "normalizer_underfit.adapt(train_data_underfit)\n",
    "\n",
    "linear_model_underfit = tf.keras.Sequential([\n",
    "    normalizer_underfit,\n",
    "    layers.Dense(units=2),\n",
    "    layers.Dense(units=1)\n",
    "])\n",
    "\n",
    "linear_model_underfit.compile(\n",
    "    optimizer=tf.optimizers.Adam(learning_rate=0.05),\n",
    "    loss='mean_absolute_error')"
   ]
  },
  {
   "cell_type": "code",
   "execution_count": 36,
   "id": "bb12cee8",
   "metadata": {},
   "outputs": [
    {
     "name": "stdout",
     "output_type": "stream",
     "text": [
      "CPU times: user 6.67 s, sys: 1.76 s, total: 8.43 s\n",
      "Wall time: 4.2 s\n"
     ]
    },
    {
     "data": {
      "image/png": "[encoded data removed]",
      "text/plain": [
       "<Figure size 432x288 with 1 Axes>"
      ]
     },
     "metadata": {
      "needs_background": "light"
     },
     "output_type": "display_data"
    }
   ],
   "source": [
    "%%time\n",
    "history = linear_model_underfit.fit(\n",
    "    train_data_underfit,\n",
    "    train_labels,\n",
    "    epochs=50,\n",
    "    # Suppress logging.\n",
    "    verbose=0,\n",
    "    # Calculate validation results on 20% of the training data.\n",
    "    validation_split = 0.2)\n",
    "\n",
    "plot_loss(history)"
   ]
  },
  {
   "cell_type": "code",
   "execution_count": 37,
   "id": "ae594c4a",
   "metadata": {},
   "outputs": [
    {
     "name": "stdout",
     "output_type": "stream",
     "text": [
      "14/14 [==============================] - 0s 1ms/step - loss: 0.0073\n"
     ]
    },
    {
     "data": {
      "text/plain": [
       "0.007250058930367231"
      ]
     },
     "execution_count": 37,
     "metadata": {},
     "output_type": "execute_result"
    }
   ],
   "source": [
    "linear_model_underfit.evaluate(test_data_underfit, test_labels)"
   ]
  },
  {
   "cell_type": "markdown",
   "id": "48de8112",
   "metadata": {},
   "source": [
    "This model performs only slightly better than the same model with no hidden layer. This makes sense since this model is primitive. Our model with more features might benifit more from adding hidden layers. Lets start by adding one hidden layer."
   ]
  },
  {
   "cell_type": "code",
   "execution_count": 41,
   "id": "bddedaa8",
   "metadata": {},
   "outputs": [],
   "source": [
    "s_train_data = slightlySmallerDF.sample(frac=0.8, random_state=0)\n",
    "s_test_data = slightlySmallerDF.drop(s_train_data.index)\n",
    "\n",
    "s_train_labels = s_train_data.pop('Inclusion Rate')\n",
    "s_test_labels = s_test_data.pop('Inclusion Rate')\n",
    "\n",
    "s_normalizer.adapt(s_train_data)\n",
    "\n",
    "s_linear_model = tf.keras.Sequential([\n",
    "    s_normalizer,\n",
    "    layers.Dense(units=2),\n",
    "    layers.Dense(units=1)\n",
    "])\n",
    "\n",
    "s_linear_model.compile(\n",
    "    optimizer=tf.optimizers.Adam(learning_rate=0.05),\n",
    "    loss='mean_absolute_error')"
   ]
  },
  {
   "cell_type": "code",
   "execution_count": 42,
   "id": "578dd245",
   "metadata": {},
   "outputs": [
    {
     "name": "stdout",
     "output_type": "stream",
     "text": [
      "CPU times: user 7.21 s, sys: 2.34 s, total: 9.55 s\n",
      "Wall time: 4.39 s\n"
     ]
    },
    {
     "data": {
      "image/png": "[encoded data removed]",
      "text/plain": [
       "<Figure size 432x288 with 1 Axes>"
      ]
     },
     "metadata": {
      "needs_background": "light"
     },
     "output_type": "display_data"
    }
   ],
   "source": [
    "%%time\n",
    "s_history = s_linear_model.fit(\n",
    "    s_train_data,\n",
    "    s_train_labels,\n",
    "    epochs=50,\n",
    "    verbose=0,\n",
    "    validation_split = 0.2)\n",
    "\n",
    "plot_loss(s_history)"
   ]
  },
  {
   "cell_type": "code",
   "execution_count": 43,
   "id": "ebb4848b",
   "metadata": {},
   "outputs": [
    {
     "name": "stdout",
     "output_type": "stream",
     "text": [
      "14/14 [==============================] - 0s 1ms/step - loss: 0.0083\n"
     ]
    },
    {
     "data": {
      "text/plain": [
       "0.008276879787445068"
      ]
     },
     "execution_count": 43,
     "metadata": {},
     "output_type": "execute_result"
    }
   ],
   "source": [
    "s_linear_model.evaluate(s_test_data, s_test_labels)"
   ]
  },
  {
   "cell_type": "markdown",
   "id": "c389c046",
   "metadata": {},
   "source": [
    "After experimenting with different numbers of nodes it seeme like having two on the first hidden layer led to the best performance. This model is approaching the loss of our oversimplified model. Now we can try adding more layers to see if we can do even better. Let's start by adding a second hidden layer."
   ]
  },
  {
   "cell_type": "code",
   "execution_count": 233,
   "id": "a1374654",
   "metadata": {},
   "outputs": [],
   "source": [
    "s_train_data = slightlySmallerDF.sample(frac=0.8, random_state=0)\n",
    "s_test_data = slightlySmallerDF.drop(s_train_data.index)\n",
    "\n",
    "s_train_labels = s_train_data.pop('Inclusion Rate')\n",
    "s_test_labels = s_test_data.pop('Inclusion Rate')\n",
    "\n",
    "s_normalizer.adapt(s_train_data)\n",
    "\n",
    "s_linear_model = tf.keras.Sequential([\n",
    "    s_normalizer,\n",
    "    layers.Dense(units=5),\n",
    "    layers.Dense(units=2),\n",
    "    layers.Dense(units=1)\n",
    "])\n",
    "\n",
    "s_linear_model.compile(\n",
    "    optimizer=tf.optimizers.Adam(learning_rate=0.05),\n",
    "    loss='mean_absolute_error')"
   ]
  },
  {
   "cell_type": "code",
   "execution_count": 234,
   "id": "5f7288e3",
   "metadata": {},
   "outputs": [
    {
     "name": "stdout",
     "output_type": "stream",
     "text": [
      "CPU times: user 24.7 s, sys: 1.88 s, total: 26.6 s\n",
      "Wall time: 20.5 s\n"
     ]
    },
    {
     "data": {
      "image/png": "[encoded data removed]",
      "text/plain": [
       "<Figure size 432x288 with 1 Axes>"
      ]
     },
     "metadata": {
      "needs_background": "light"
     },
     "output_type": "display_data"
    }
   ],
   "source": [
    "%%time\n",
    "s_history = s_linear_model.fit(\n",
    "    s_train_data,\n",
    "    s_train_labels,\n",
    "    epochs=50,\n",
    "    verbose=0,\n",
    "    validation_split = 0.2)\n",
    "\n",
    "plot_loss(s_history)"
   ]
  },
  {
   "cell_type": "code",
   "execution_count": 235,
   "id": "2ca66c0e",
   "metadata": {},
   "outputs": [
    {
     "name": "stdout",
     "output_type": "stream",
     "text": [
      "14/14 [==============================] - 0s 2ms/step - loss: 0.0084\n"
     ]
    },
    {
     "data": {
      "text/plain": [
       "0.008350662887096405"
      ]
     },
     "execution_count": 235,
     "metadata": {},
     "output_type": "execute_result"
    }
   ],
   "source": [
    "s_linear_model.evaluate(s_test_data, s_test_labels)"
   ]
  },
  {
   "cell_type": "markdown",
   "id": "7b2944ae",
   "metadata": {},
   "source": [
    "Adding a second layer consistentl improved performance. It is hard to say exactly how many nodes were optimal in this second layer but generally fewer than ten nodes worked best. Let's try adding a third layer and see if that improves our performance."
   ]
  },
  {
   "cell_type": "code",
   "execution_count": 50,
   "id": "c5f066c4",
   "metadata": {},
   "outputs": [],
   "source": [
    "s_train_data = slightlySmallerDF.sample(frac=0.8, random_state=0)\n",
    "s_test_data = slightlySmallerDF.drop(s_train_data.index)\n",
    "\n",
    "s_train_labels = s_train_data.pop('Inclusion Rate')\n",
    "s_test_labels = s_test_data.pop('Inclusion Rate')\n",
    "\n",
    "s_normalizer.adapt(s_train_data)\n",
    "\n",
    "s_linear_model = tf.keras.Sequential([\n",
    "    s_normalizer,\n",
    "    layers.Dense(units=15),\n",
    "    layers.Dense(units=10),\n",
    "    layers.Dense(units=2),\n",
    "    layers.Dense(units=1)\n",
    "])\n",
    "\n",
    "s_linear_model.compile(\n",
    "    optimizer=tf.optimizers.Adam(learning_rate=0.05),\n",
    "    loss='mean_absolute_error')"
   ]
  },
  {
   "cell_type": "code",
   "execution_count": 51,
   "id": "18e59047",
   "metadata": {},
   "outputs": [
    {
     "name": "stdout",
     "output_type": "stream",
     "text": [
      "CPU times: user 7.73 s, sys: 3.1 s, total: 10.8 s\n",
      "Wall time: 4.77 s\n"
     ]
    },
    {
     "data": {
      "image/png": "[encoded data removed]",
      "text/plain": [
       "<Figure size 432x288 with 1 Axes>"
      ]
     },
     "metadata": {
      "needs_background": "light"
     },
     "output_type": "display_data"
    }
   ],
   "source": [
    "%%time\n",
    "s_history = s_linear_model.fit(\n",
    "    s_train_data,\n",
    "    s_train_labels,\n",
    "    epochs=50,\n",
    "    verbose=0,\n",
    "    validation_split = 0.2)\n",
    "\n",
    "plot_loss(s_history)"
   ]
  },
  {
   "cell_type": "code",
   "execution_count": 52,
   "id": "2c42faf1",
   "metadata": {},
   "outputs": [
    {
     "name": "stdout",
     "output_type": "stream",
     "text": [
      "14/14 [==============================] - 0s 1ms/step - loss: 0.0053\n"
     ]
    },
    {
     "data": {
      "text/plain": [
       "0.005317607894539833"
      ]
     },
     "execution_count": 52,
     "metadata": {},
     "output_type": "execute_result"
    }
   ],
   "source": [
    "s_linear_model.evaluate(s_test_data, s_test_labels)"
   ]
  },
  {
   "cell_type": "markdown",
   "id": "cb44717d",
   "metadata": {},
   "source": [
    "Adding a third hidden layer doesn't seem to make any noticeable improvements, so let's stick with two layers. This finding aligns with contemporary ideas about the ideal number of hidden layers. I referenced this post to help make this decision: https://www.heatonresearch.com/2017/06/01/hidden-layers.html. Before we systematically optimize the number of nodes let's optimize our learning rate. Lets start with a broad spectrum of potential learning rates. Before we do this let's define a function for creating a model that returns it's testing loss."
   ]
  },
  {
   "cell_type": "code",
   "execution_count": 191,
   "id": "0e4f9657",
   "metadata": {},
   "outputs": [],
   "source": [
    "def get_loss(layerOneCount, layerTwoCount, learningRate):\n",
    "    s_train_data = slightlySmallerDF.sample(frac=0.8, random_state=0)\n",
    "    s_test_data = slightlySmallerDF.drop(s_train_data.index)\n",
    "\n",
    "    s_train_labels = s_train_data.pop('Inclusion Rate')\n",
    "    s_test_labels = s_test_data.pop('Inclusion Rate')\n",
    "\n",
    "    s_normalizer.adapt(s_train_data)\n",
    "    \n",
    "    s_linear_model = tf.keras.Sequential([\n",
    "        s_normalizer,\n",
    "        layers.Dense(units=layerTwoCount),\n",
    "        layers.Dense(units=layerOneCount),\n",
    "        layers.Dense(units=1)\n",
    "    ])\n",
    "\n",
    "    s_linear_model.compile(\n",
    "        optimizer=tf.optimizers.Adam(learning_rate=learningRate),\n",
    "        loss='mean_absolute_error')\n",
    "    \n",
    "    s_history = s_linear_model.fit(\n",
    "        s_train_data,\n",
    "        s_train_labels,\n",
    "        epochs=100,\n",
    "        verbose=0,\n",
    "        validation_split = 0.2)\n",
    "    \n",
    "    return s_linear_model.evaluate(s_test_data, s_test_labels)"
   ]
  },
  {
   "cell_type": "markdown",
   "id": "bc20c09a",
   "metadata": {},
   "source": [
    "Now we can iterate model training to get an average loss for each learning rate. During testing I noticed a high variance in loss which is why I train each model configuration 20 times."
   ]
  },
  {
   "cell_type": "code",
   "execution_count": 192,
   "id": "3017c29b",
   "metadata": {},
   "outputs": [
    {
     "name": "stdout",
     "output_type": "stream",
     "text": [
      "14/14 [==============================] - 0s 2ms/step - loss: 0.0058\n",
      "14/14 [==============================] - 0s 2ms/step - loss: 0.0088\n",
      "14/14 [==============================] - 0s 2ms/step - loss: 0.0048\n",
      "14/14 [==============================] - 0s 1ms/step - loss: 0.0055\n",
      "14/14 [==============================] - 0s 2ms/step - loss: 0.0084\n",
      "14/14 [==============================] - 0s 2ms/step - loss: 0.0058\n",
      "14/14 [==============================] - 0s 1ms/step - loss: 0.0086\n",
      "14/14 [==============================] - 0s 2ms/step - loss: 0.0064\n",
      "14/14 [==============================] - 0s 2ms/step - loss: 0.0054\n",
      "14/14 [==============================] - 0s 2ms/step - loss: 0.0057\n",
      "14/14 [==============================] - 0s 2ms/step - loss: 0.0089\n",
      "14/14 [==============================] - 0s 2ms/step - loss: 0.0066\n",
      "14/14 [==============================] - 0s 2ms/step - loss: 0.0079\n",
      "14/14 [==============================] - 0s 2ms/step - loss: 0.0082\n",
      "14/14 [==============================] - 0s 2ms/step - loss: 0.0068\n",
      "14/14 [==============================] - 0s 2ms/step - loss: 0.0082\n",
      "14/14 [==============================] - 0s 2ms/step - loss: 0.0074\n",
      "14/14 [==============================] - 0s 2ms/step - loss: 0.0226\n",
      "14/14 [==============================] - 0s 2ms/step - loss: 0.0077\n",
      "14/14 [==============================] - 0s 2ms/step - loss: 0.0054\n",
      "14/14 [==============================] - 0s 2ms/step - loss: 0.0049\n",
      "14/14 [==============================] - 0s 2ms/step - loss: 0.0047\n",
      "14/14 [==============================] - 0s 2ms/step - loss: 0.0049\n",
      "14/14 [==============================] - 0s 2ms/step - loss: 0.0052\n",
      "14/14 [==============================] - 0s 2ms/step - loss: 0.0048\n",
      "14/14 [==============================] - 0s 2ms/step - loss: 0.0050\n",
      "14/14 [==============================] - 0s 2ms/step - loss: 0.0048\n",
      "14/14 [==============================] - 0s 2ms/step - loss: 0.0048\n",
      "14/14 [==============================] - 0s 2ms/step - loss: 0.0051\n",
      "14/14 [==============================] - 0s 2ms/step - loss: 0.0051\n",
      "14/14 [==============================] - 0s 2ms/step - loss: 0.0049\n",
      "14/14 [==============================] - 0s 2ms/step - loss: 0.0048\n",
      "14/14 [==============================] - 0s 2ms/step - loss: 0.0048\n",
      "14/14 [==============================] - 0s 2ms/step - loss: 0.0048\n",
      "14/14 [==============================] - 0s 2ms/step - loss: 0.0048\n",
      "14/14 [==============================] - 0s 2ms/step - loss: 0.0049\n",
      "14/14 [==============================] - 0s 2ms/step - loss: 0.0047\n",
      "14/14 [==============================] - 0s 2ms/step - loss: 0.0048\n",
      "14/14 [==============================] - 0s 2ms/step - loss: 0.0055\n",
      "14/14 [==============================] - 0s 2ms/step - loss: 0.0047\n",
      "14/14 [==============================] - 0s 2ms/step - loss: 0.0049\n",
      "14/14 [==============================] - 0s 2ms/step - loss: 0.0048\n",
      "14/14 [==============================] - 0s 2ms/step - loss: 0.0048\n",
      "14/14 [==============================] - 0s 2ms/step - loss: 0.0049\n",
      "14/14 [==============================] - 0s 2ms/step - loss: 0.0048\n",
      "14/14 [==============================] - 0s 2ms/step - loss: 0.0057\n",
      "14/14 [==============================] - 0s 2ms/step - loss: 0.0047\n",
      "14/14 [==============================] - 0s 2ms/step - loss: 0.0048\n",
      "14/14 [==============================] - 0s 2ms/step - loss: 0.0056\n",
      "14/14 [==============================] - 0s 2ms/step - loss: 0.0051\n",
      "14/14 [==============================] - 0s 2ms/step - loss: 0.0051\n",
      "14/14 [==============================] - 0s 2ms/step - loss: 0.0049\n",
      "14/14 [==============================] - 0s 3ms/step - loss: 0.0055\n",
      "14/14 [==============================] - 0s 2ms/step - loss: 0.0051\n",
      "14/14 [==============================] - 0s 2ms/step - loss: 0.0048\n",
      "14/14 [==============================] - 0s 2ms/step - loss: 0.0047\n",
      "14/14 [==============================] - 0s 2ms/step - loss: 0.0051\n",
      "14/14 [==============================] - 0s 2ms/step - loss: 0.0058\n",
      "14/14 [==============================] - 0s 2ms/step - loss: 0.0047\n",
      "14/14 [==============================] - 0s 2ms/step - loss: 0.0047\n",
      "14/14 [==============================] - 0s 2ms/step - loss: 0.0054\n",
      "14/14 [==============================] - 0s 2ms/step - loss: 0.0057\n",
      "14/14 [==============================] - 0s 2ms/step - loss: 0.0076\n",
      "14/14 [==============================] - 0s 2ms/step - loss: 0.0054\n",
      "14/14 [==============================] - 0s 2ms/step - loss: 0.0077\n",
      "14/14 [==============================] - 0s 2ms/step - loss: 0.0112\n",
      "14/14 [==============================] - 0s 2ms/step - loss: 0.0048\n",
      "14/14 [==============================] - 0s 2ms/step - loss: 0.0092\n",
      "14/14 [==============================] - 0s 2ms/step - loss: 0.0077\n",
      "14/14 [==============================] - 0s 2ms/step - loss: 0.0082\n",
      "14/14 [==============================] - 0s 2ms/step - loss: 0.0051\n",
      "14/14 [==============================] - 0s 2ms/step - loss: 0.0052\n",
      "14/14 [==============================] - 0s 2ms/step - loss: 0.0057\n",
      "14/14 [==============================] - 0s 2ms/step - loss: 0.0054\n",
      "14/14 [==============================] - 0s 2ms/step - loss: 0.0049\n",
      "14/14 [==============================] - 0s 2ms/step - loss: 0.0073\n",
      "14/14 [==============================] - 0s 2ms/step - loss: 0.0098\n",
      "14/14 [==============================] - 0s 2ms/step - loss: 0.0095\n",
      "14/14 [==============================] - 0s 2ms/step - loss: 0.0059\n",
      "14/14 [==============================] - 0s 2ms/step - loss: 0.0115\n",
      "14/14 [==============================] - 0s 2ms/step - loss: 0.0117\n",
      "14/14 [==============================] - 0s 2ms/step - loss: 0.0069\n",
      "14/14 [==============================] - 0s 2ms/step - loss: 0.0057\n",
      "14/14 [==============================] - 0s 2ms/step - loss: 0.0049\n",
      "14/14 [==============================] - 0s 2ms/step - loss: 0.0055\n",
      "14/14 [==============================] - 0s 2ms/step - loss: 0.0053\n",
      "14/14 [==============================] - 0s 2ms/step - loss: 0.0056\n",
      "14/14 [==============================] - 0s 2ms/step - loss: 0.0080\n",
      "14/14 [==============================] - 0s 2ms/step - loss: 0.0071\n",
      "14/14 [==============================] - 0s 2ms/step - loss: 0.0060\n",
      "14/14 [==============================] - 0s 2ms/step - loss: 0.0066\n",
      "14/14 [==============================] - 0s 2ms/step - loss: 0.0048\n",
      "14/14 [==============================] - 0s 2ms/step - loss: 0.0089\n",
      "14/14 [==============================] - 0s 2ms/step - loss: 0.0074\n",
      "14/14 [==============================] - 0s 2ms/step - loss: 0.0068\n",
      "14/14 [==============================] - 0s 2ms/step - loss: 0.0075\n",
      "14/14 [==============================] - 0s 2ms/step - loss: 0.0088\n",
      "14/14 [==============================] - 0s 2ms/step - loss: 0.0067\n",
      "14/14 [==============================] - 0s 2ms/step - loss: 0.0100\n",
      "14/14 [==============================] - 0s 2ms/step - loss: 0.0058\n",
      "14/14 [==============================] - 0s 2ms/step - loss: 0.0192\n",
      "14/14 [==============================] - 0s 2ms/step - loss: 0.0131\n",
      "14/14 [==============================] - 0s 2ms/step - loss: 0.0123\n",
      "14/14 [==============================] - 0s 2ms/step - loss: 0.0161\n",
      "14/14 [==============================] - 0s 1ms/step - loss: 0.0126\n",
      "14/14 [==============================] - 0s 2ms/step - loss: 0.0054\n",
      "14/14 [==============================] - 0s 2ms/step - loss: 0.0106\n",
      "14/14 [==============================] - 0s 2ms/step - loss: 0.0064\n",
      "14/14 [==============================] - 0s 2ms/step - loss: 0.0063\n",
      "14/14 [==============================] - 0s 2ms/step - loss: 0.0052\n",
      "14/14 [==============================] - 0s 2ms/step - loss: 0.0128\n",
      "14/14 [==============================] - 0s 2ms/step - loss: 0.0048\n",
      "14/14 [==============================] - 0s 2ms/step - loss: 0.0052\n",
      "14/14 [==============================] - 0s 2ms/step - loss: 0.0428\n",
      "14/14 [==============================] - 0s 2ms/step - loss: 0.0105\n",
      "14/14 [==============================] - 0s 2ms/step - loss: 0.0154\n",
      "14/14 [==============================] - 0s 2ms/step - loss: 0.0272\n",
      "14/14 [==============================] - 0s 2ms/step - loss: 0.0415\n",
      "14/14 [==============================] - 0s 2ms/step - loss: 0.0083\n",
      "14/14 [==============================] - 0s 2ms/step - loss: 0.0049\n"
     ]
    },
    {
     "name": "stdout",
     "output_type": "stream",
     "text": [
      "14/14 [==============================] - 0s 2ms/step - loss: 0.1665\n",
      "14/14 [==============================] - 0s 2ms/step - loss: 0.1276\n",
      "14/14 [==============================] - 0s 2ms/step - loss: 0.0475\n",
      "14/14 [==============================] - 0s 2ms/step - loss: 0.0048\n",
      "14/14 [==============================] - 0s 2ms/step - loss: 0.1073\n",
      "14/14 [==============================] - 0s 2ms/step - loss: 0.5303\n",
      "14/14 [==============================] - 0s 2ms/step - loss: 0.0711\n",
      "14/14 [==============================] - 0s 2ms/step - loss: 0.0279\n",
      "14/14 [==============================] - 0s 2ms/step - loss: 0.1632\n",
      "14/14 [==============================] - 0s 2ms/step - loss: 0.1389\n",
      "14/14 [==============================] - 0s 2ms/step - loss: 0.1389\n",
      "14/14 [==============================] - 0s 2ms/step - loss: 0.6503\n",
      "14/14 [==============================] - 0s 2ms/step - loss: 0.2709\n",
      "14/14 [==============================] - 0s 2ms/step - loss: 0.0465\n",
      "14/14 [==============================] - 0s 2ms/step - loss: 0.1128\n",
      "14/14 [==============================] - 0s 2ms/step - loss: 0.1010\n",
      "14/14 [==============================] - 0s 2ms/step - loss: 0.1915\n",
      "14/14 [==============================] - 0s 2ms/step - loss: 0.0236\n",
      "14/14 [==============================] - 0s 2ms/step - loss: 0.0960\n",
      "14/14 [==============================] - 0s 2ms/step - loss: 0.0949\n"
     ]
    }
   ],
   "source": [
    "test_values = [0.05, 0.01, 0.005, 0.001, 0.0005, 0.0001, 0.00005]\n",
    "test_results = []\n",
    "for i in test_values:\n",
    "    total_loss = 0\n",
    "    for k in range(20):\n",
    "        total_loss += get_loss(2,3,i)\n",
    "    test_results.append(total_loss)\n",
    "    "
   ]
  },
  {
   "cell_type": "code",
   "execution_count": 193,
   "id": "d5371a2c",
   "metadata": {},
   "outputs": [
    {
     "data": {
      "text/plain": [
       "[0.1548770978115499,\n",
       " 0.09809745755046606,\n",
       " 0.10062301298603415,\n",
       " 0.1430985634215176,\n",
       " 0.13978274166584015,\n",
       " 0.2805155091919005,\n",
       " 3.11143710790202]"
      ]
     },
     "execution_count": 193,
     "metadata": {},
     "output_type": "execute_result"
    }
   ],
   "source": [
    "test_results"
   ]
  },
  {
   "cell_type": "markdown",
   "id": "db7b2217",
   "metadata": {},
   "source": [
    "It seems like our optimal rate is around 0.01 and 0.005. Lets do one more loop to zoom in on the optimal rate."
   ]
  },
  {
   "cell_type": "code",
   "execution_count": 194,
   "id": "c3196a75",
   "metadata": {},
   "outputs": [
    {
     "name": "stdout",
     "output_type": "stream",
     "text": [
      "14/14 [==============================] - 0s 2ms/step - loss: 0.0073\n",
      "14/14 [==============================] - 0s 2ms/step - loss: 0.0048\n",
      "14/14 [==============================] - 0s 2ms/step - loss: 0.0062\n",
      "14/14 [==============================] - 0s 2ms/step - loss: 0.0070\n",
      "14/14 [==============================] - 0s 2ms/step - loss: 0.0083\n",
      "14/14 [==============================] - 0s 2ms/step - loss: 0.0048\n",
      "14/14 [==============================] - 0s 2ms/step - loss: 0.0062\n",
      "14/14 [==============================] - 0s 2ms/step - loss: 0.0048\n",
      "14/14 [==============================] - 0s 1ms/step - loss: 0.0061\n",
      "14/14 [==============================] - 0s 2ms/step - loss: 0.0057\n",
      "14/14 [==============================] - 0s 2ms/step - loss: 0.0050\n",
      "14/14 [==============================] - 0s 2ms/step - loss: 0.0058\n",
      "14/14 [==============================] - 0s 2ms/step - loss: 0.0050\n",
      "14/14 [==============================] - 0s 2ms/step - loss: 0.0056\n",
      "14/14 [==============================] - 0s 2ms/step - loss: 0.0079\n",
      "14/14 [==============================] - 0s 2ms/step - loss: 0.0062\n",
      "14/14 [==============================] - 0s 2ms/step - loss: 0.0084\n",
      "14/14 [==============================] - 0s 2ms/step - loss: 0.0049\n",
      "14/14 [==============================] - 0s 2ms/step - loss: 0.0053\n",
      "14/14 [==============================] - 0s 2ms/step - loss: 0.0062\n",
      "14/14 [==============================] - 0s 2ms/step - loss: 0.0047\n",
      "14/14 [==============================] - 0s 2ms/step - loss: 0.0052\n",
      "14/14 [==============================] - 0s 2ms/step - loss: 0.0049\n",
      "14/14 [==============================] - 0s 2ms/step - loss: 0.0049\n",
      "14/14 [==============================] - 0s 2ms/step - loss: 0.0051\n",
      "14/14 [==============================] - 0s 2ms/step - loss: 0.0052\n",
      "14/14 [==============================] - 0s 2ms/step - loss: 0.0047\n",
      "14/14 [==============================] - 0s 2ms/step - loss: 0.0049\n",
      "14/14 [==============================] - 0s 2ms/step - loss: 0.0048\n",
      "14/14 [==============================] - 0s 2ms/step - loss: 0.0056\n",
      "14/14 [==============================] - 0s 2ms/step - loss: 0.0048\n",
      "14/14 [==============================] - 0s 2ms/step - loss: 0.0048\n",
      "14/14 [==============================] - 0s 2ms/step - loss: 0.0060\n",
      "14/14 [==============================] - 0s 2ms/step - loss: 0.0048\n",
      "14/14 [==============================] - 0s 2ms/step - loss: 0.0051\n",
      "14/14 [==============================] - 0s 2ms/step - loss: 0.0053\n",
      "14/14 [==============================] - 0s 2ms/step - loss: 0.0049\n",
      "14/14 [==============================] - 0s 2ms/step - loss: 0.0059\n",
      "14/14 [==============================] - 0s 2ms/step - loss: 0.0053\n",
      "14/14 [==============================] - 0s 2ms/step - loss: 0.0047\n",
      "14/14 [==============================] - 0s 2ms/step - loss: 0.0049\n",
      "14/14 [==============================] - 0s 2ms/step - loss: 0.0049\n",
      "14/14 [==============================] - 0s 2ms/step - loss: 0.0048\n",
      "14/14 [==============================] - 0s 2ms/step - loss: 0.0049\n",
      "14/14 [==============================] - 0s 2ms/step - loss: 0.0048\n",
      "14/14 [==============================] - 0s 2ms/step - loss: 0.0058\n",
      "14/14 [==============================] - 0s 2ms/step - loss: 0.0049\n",
      "14/14 [==============================] - 0s 2ms/step - loss: 0.0051\n",
      "14/14 [==============================] - 0s 2ms/step - loss: 0.0047\n",
      "14/14 [==============================] - 0s 2ms/step - loss: 0.0047\n",
      "14/14 [==============================] - 0s 2ms/step - loss: 0.0049\n",
      "14/14 [==============================] - 0s 2ms/step - loss: 0.0048\n",
      "14/14 [==============================] - 0s 2ms/step - loss: 0.0051\n",
      "14/14 [==============================] - 0s 2ms/step - loss: 0.0049\n",
      "14/14 [==============================] - 0s 2ms/step - loss: 0.0048\n",
      "14/14 [==============================] - 0s 1ms/step - loss: 0.0057\n",
      "14/14 [==============================] - 0s 2ms/step - loss: 0.0051\n",
      "14/14 [==============================] - 0s 2ms/step - loss: 0.0052\n",
      "14/14 [==============================] - 0s 2ms/step - loss: 0.0049\n",
      "14/14 [==============================] - 0s 2ms/step - loss: 0.0049\n",
      "14/14 [==============================] - 0s 2ms/step - loss: 0.0053\n",
      "14/14 [==============================] - 0s 2ms/step - loss: 0.0048\n",
      "14/14 [==============================] - 0s 2ms/step - loss: 0.0047\n",
      "14/14 [==============================] - 0s 2ms/step - loss: 0.0046\n",
      "14/14 [==============================] - 0s 2ms/step - loss: 0.0050\n",
      "14/14 [==============================] - 0s 2ms/step - loss: 0.0047\n",
      "14/14 [==============================] - 0s 2ms/step - loss: 0.0054\n",
      "14/14 [==============================] - 0s 2ms/step - loss: 0.0047\n",
      "14/14 [==============================] - 0s 2ms/step - loss: 0.0049\n",
      "14/14 [==============================] - 0s 2ms/step - loss: 0.0052\n",
      "14/14 [==============================] - 0s 2ms/step - loss: 0.0056\n",
      "14/14 [==============================] - 0s 2ms/step - loss: 0.0050\n",
      "14/14 [==============================] - 0s 2ms/step - loss: 0.0051\n",
      "14/14 [==============================] - 0s 2ms/step - loss: 0.0049\n",
      "14/14 [==============================] - 0s 2ms/step - loss: 0.0047\n",
      "14/14 [==============================] - 0s 2ms/step - loss: 0.0051\n",
      "14/14 [==============================] - 0s 2ms/step - loss: 0.0048\n",
      "14/14 [==============================] - 0s 2ms/step - loss: 0.0050\n",
      "14/14 [==============================] - 0s 2ms/step - loss: 0.0050\n",
      "14/14 [==============================] - 0s 2ms/step - loss: 0.0051\n",
      "14/14 [==============================] - 0s 2ms/step - loss: 0.0047\n",
      "14/14 [==============================] - 0s 2ms/step - loss: 0.0053\n",
      "14/14 [==============================] - 0s 2ms/step - loss: 0.0047\n",
      "14/14 [==============================] - 0s 2ms/step - loss: 0.0061\n",
      "14/14 [==============================] - 0s 2ms/step - loss: 0.0058\n",
      "14/14 [==============================] - 0s 2ms/step - loss: 0.0052\n",
      "14/14 [==============================] - 0s 2ms/step - loss: 0.0052\n",
      "14/14 [==============================] - 0s 2ms/step - loss: 0.0049\n",
      "14/14 [==============================] - 0s 2ms/step - loss: 0.0056\n",
      "14/14 [==============================] - 0s 2ms/step - loss: 0.0050\n",
      "14/14 [==============================] - 0s 2ms/step - loss: 0.0048\n",
      "14/14 [==============================] - 0s 2ms/step - loss: 0.0048\n",
      "14/14 [==============================] - 0s 2ms/step - loss: 0.0047\n",
      "14/14 [==============================] - 0s 3ms/step - loss: 0.0047\n",
      "14/14 [==============================] - 0s 2ms/step - loss: 0.0049\n",
      "14/14 [==============================] - 0s 2ms/step - loss: 0.0047\n",
      "14/14 [==============================] - 0s 2ms/step - loss: 0.0048\n",
      "14/14 [==============================] - 0s 2ms/step - loss: 0.0047\n",
      "14/14 [==============================] - 0s 2ms/step - loss: 0.0049\n",
      "14/14 [==============================] - 0s 1ms/step - loss: 0.0053\n"
     ]
    }
   ],
   "source": [
    "test_values = [0.03, 0.01, 0.007, 0.005, 0.003]\n",
    "test_results = []\n",
    "for i in test_values:\n",
    "    total_loss = 0\n",
    "    for k in range(20):\n",
    "        total_loss += get_loss(2,3,i)\n",
    "    test_results.append(total_loss)"
   ]
  },
  {
   "cell_type": "code",
   "execution_count": 195,
   "id": "44e62bcf",
   "metadata": {},
   "outputs": [
    {
     "data": {
      "text/plain": [
       "[0.12150609260424972,\n",
       " 0.10164652997627854,\n",
       " 0.09953085845336318,\n",
       " 0.09952573198825121,\n",
       " 0.10090772015973926]"
      ]
     },
     "execution_count": 195,
     "metadata": {},
     "output_type": "execute_result"
    }
   ],
   "source": [
    "test_results"
   ]
  },
  {
   "cell_type": "markdown",
   "id": "025e2f1d",
   "metadata": {},
   "source": [
    "So our optimal learning rate is 0.01. Now we need to optimize the number of nodes we want in each of our hidden layers. Based on my own observations the first later should have between 1-3 nodes. The second layer has a wider range of possible optimal values. This model doesn't take very much time to learn so let's try each value between 1-5."
   ]
  },
  {
   "cell_type": "code",
   "execution_count": 196,
   "id": "a447a41c",
   "metadata": {},
   "outputs": [
    {
     "name": "stdout",
     "output_type": "stream",
     "text": [
      "14/14 [==============================] - 0s 2ms/step - loss: 0.0047\n",
      "14/14 [==============================] - 0s 2ms/step - loss: 0.0047\n",
      "14/14 [==============================] - 0s 2ms/step - loss: 0.0048\n",
      "14/14 [==============================] - 0s 2ms/step - loss: 0.0050\n",
      "14/14 [==============================] - 0s 2ms/step - loss: 0.0047\n",
      "14/14 [==============================] - 0s 2ms/step - loss: 0.0051\n",
      "14/14 [==============================] - 0s 2ms/step - loss: 0.0049\n",
      "14/14 [==============================] - 0s 2ms/step - loss: 0.0047\n",
      "14/14 [==============================] - 0s 2ms/step - loss: 0.0047\n",
      "14/14 [==============================] - 0s 2ms/step - loss: 0.0048\n",
      "14/14 [==============================] - 0s 2ms/step - loss: 0.0051\n",
      "14/14 [==============================] - 0s 2ms/step - loss: 0.0057\n",
      "14/14 [==============================] - 0s 2ms/step - loss: 0.0047\n",
      "14/14 [==============================] - 0s 2ms/step - loss: 0.0047\n",
      "14/14 [==============================] - 0s 2ms/step - loss: 0.0047\n",
      "14/14 [==============================] - 0s 2ms/step - loss: 0.0049\n",
      "14/14 [==============================] - 0s 2ms/step - loss: 0.0047\n",
      "14/14 [==============================] - 0s 2ms/step - loss: 0.0050\n",
      "14/14 [==============================] - 0s 2ms/step - loss: 0.0047\n",
      "14/14 [==============================] - 0s 2ms/step - loss: 0.0048\n",
      "14/14 [==============================] - 0s 2ms/step - loss: 0.0048\n",
      "14/14 [==============================] - 0s 2ms/step - loss: 0.0051\n",
      "14/14 [==============================] - 0s 2ms/step - loss: 0.0046\n",
      "14/14 [==============================] - 0s 2ms/step - loss: 0.0047\n",
      "14/14 [==============================] - 0s 2ms/step - loss: 0.0048\n",
      "14/14 [==============================] - 0s 2ms/step - loss: 0.0051\n",
      "14/14 [==============================] - 0s 2ms/step - loss: 0.0048\n",
      "14/14 [==============================] - 0s 2ms/step - loss: 0.0050\n",
      "14/14 [==============================] - 0s 2ms/step - loss: 0.0048\n",
      "14/14 [==============================] - 0s 2ms/step - loss: 0.0049\n",
      "14/14 [==============================] - 0s 2ms/step - loss: 0.0049\n",
      "14/14 [==============================] - 0s 2ms/step - loss: 0.0050\n",
      "14/14 [==============================] - 0s 2ms/step - loss: 0.0048\n",
      "14/14 [==============================] - 0s 2ms/step - loss: 0.0047\n",
      "14/14 [==============================] - 0s 2ms/step - loss: 0.0047\n",
      "14/14 [==============================] - 0s 2ms/step - loss: 0.0048\n",
      "14/14 [==============================] - 0s 2ms/step - loss: 0.0048\n",
      "14/14 [==============================] - 0s 2ms/step - loss: 0.0049\n",
      "14/14 [==============================] - 0s 2ms/step - loss: 0.0048\n",
      "14/14 [==============================] - 0s 2ms/step - loss: 0.0047\n",
      "14/14 [==============================] - 0s 2ms/step - loss: 0.0047\n",
      "14/14 [==============================] - 0s 2ms/step - loss: 0.0047\n",
      "14/14 [==============================] - 0s 2ms/step - loss: 0.0047\n",
      "14/14 [==============================] - 0s 2ms/step - loss: 0.0048\n",
      "14/14 [==============================] - 0s 2ms/step - loss: 0.0051\n",
      "14/14 [==============================] - 0s 2ms/step - loss: 0.0047\n",
      "14/14 [==============================] - 0s 2ms/step - loss: 0.0052\n",
      "14/14 [==============================] - 0s 2ms/step - loss: 0.0047\n",
      "14/14 [==============================] - 0s 2ms/step - loss: 0.0048\n",
      "14/14 [==============================] - 0s 2ms/step - loss: 0.0047\n",
      "14/14 [==============================] - 0s 2ms/step - loss: 0.0048\n",
      "14/14 [==============================] - 0s 1ms/step - loss: 0.0051\n",
      "14/14 [==============================] - 0s 2ms/step - loss: 0.0048\n",
      "14/14 [==============================] - 0s 2ms/step - loss: 0.0051\n",
      "14/14 [==============================] - 0s 2ms/step - loss: 0.0047\n",
      "14/14 [==============================] - 0s 2ms/step - loss: 0.0047\n",
      "14/14 [==============================] - 0s 2ms/step - loss: 0.0048\n",
      "14/14 [==============================] - 0s 2ms/step - loss: 0.0052\n",
      "14/14 [==============================] - 0s 2ms/step - loss: 0.0047\n",
      "14/14 [==============================] - 0s 2ms/step - loss: 0.0048\n",
      "14/14 [==============================] - 0s 2ms/step - loss: 0.0047\n",
      "14/14 [==============================] - 0s 2ms/step - loss: 0.0049\n",
      "14/14 [==============================] - 0s 2ms/step - loss: 0.0048\n",
      "14/14 [==============================] - 0s 1ms/step - loss: 0.0050\n",
      "14/14 [==============================] - 0s 2ms/step - loss: 0.0047\n",
      "14/14 [==============================] - 0s 2ms/step - loss: 0.0054\n",
      "14/14 [==============================] - 0s 2ms/step - loss: 0.0049\n",
      "14/14 [==============================] - 0s 2ms/step - loss: 0.0050\n",
      "14/14 [==============================] - 0s 2ms/step - loss: 0.0047\n",
      "14/14 [==============================] - 0s 2ms/step - loss: 0.0047\n",
      "14/14 [==============================] - 0s 2ms/step - loss: 0.0047\n",
      "14/14 [==============================] - 0s 2ms/step - loss: 0.0049\n",
      "14/14 [==============================] - 0s 2ms/step - loss: 0.0047\n",
      "14/14 [==============================] - 0s 2ms/step - loss: 0.0048\n",
      "14/14 [==============================] - 0s 2ms/step - loss: 0.0047\n",
      "14/14 [==============================] - 0s 2ms/step - loss: 0.0049\n",
      "14/14 [==============================] - 0s 1ms/step - loss: 0.0047\n",
      "14/14 [==============================] - 0s 2ms/step - loss: 0.0047\n",
      "14/14 [==============================] - 0s 2ms/step - loss: 0.0047\n",
      "14/14 [==============================] - 0s 1ms/step - loss: 0.0049\n",
      "14/14 [==============================] - 0s 2ms/step - loss: 0.0047\n",
      "14/14 [==============================] - 0s 2ms/step - loss: 0.0047\n",
      "14/14 [==============================] - 0s 1ms/step - loss: 0.0048\n",
      "14/14 [==============================] - 0s 2ms/step - loss: 0.0051\n",
      "14/14 [==============================] - 0s 2ms/step - loss: 0.0048\n",
      "14/14 [==============================] - 0s 2ms/step - loss: 0.0049\n",
      "14/14 [==============================] - 0s 2ms/step - loss: 0.0050\n",
      "14/14 [==============================] - 0s 2ms/step - loss: 0.0048\n",
      "14/14 [==============================] - 0s 2ms/step - loss: 0.0047\n",
      "14/14 [==============================] - 0s 2ms/step - loss: 0.0047\n",
      "14/14 [==============================] - 0s 2ms/step - loss: 0.0047\n",
      "14/14 [==============================] - 0s 2ms/step - loss: 0.0047\n",
      "14/14 [==============================] - 0s 2ms/step - loss: 0.0048\n",
      "14/14 [==============================] - 0s 2ms/step - loss: 0.0047\n",
      "14/14 [==============================] - 0s 2ms/step - loss: 0.0050\n",
      "14/14 [==============================] - 0s 2ms/step - loss: 0.0048\n",
      "14/14 [==============================] - 0s 2ms/step - loss: 0.0047\n",
      "14/14 [==============================] - 0s 2ms/step - loss: 0.0047\n",
      "14/14 [==============================] - 0s 2ms/step - loss: 0.0047\n",
      "14/14 [==============================] - 0s 2ms/step - loss: 0.0046\n",
      "14/14 [==============================] - 0s 2ms/step - loss: 0.0048\n",
      "14/14 [==============================] - 0s 2ms/step - loss: 0.0047\n",
      "14/14 [==============================] - 0s 2ms/step - loss: 0.0049\n",
      "14/14 [==============================] - 0s 2ms/step - loss: 0.0053\n",
      "14/14 [==============================] - 0s 1ms/step - loss: 0.0048\n",
      "14/14 [==============================] - 0s 2ms/step - loss: 0.0048\n",
      "14/14 [==============================] - 0s 2ms/step - loss: 0.0052\n",
      "14/14 [==============================] - 0s 2ms/step - loss: 0.0051\n",
      "14/14 [==============================] - 0s 2ms/step - loss: 0.0053\n",
      "14/14 [==============================] - 0s 2ms/step - loss: 0.0050\n",
      "14/14 [==============================] - 0s 2ms/step - loss: 0.0048\n",
      "14/14 [==============================] - 0s 2ms/step - loss: 0.0051\n",
      "14/14 [==============================] - 0s 2ms/step - loss: 0.0049\n",
      "14/14 [==============================] - 0s 2ms/step - loss: 0.0049\n",
      "14/14 [==============================] - 0s 2ms/step - loss: 0.0048\n",
      "14/14 [==============================] - 0s 2ms/step - loss: 0.0051\n",
      "14/14 [==============================] - 0s 2ms/step - loss: 0.0052\n",
      "14/14 [==============================] - 0s 2ms/step - loss: 0.0048\n",
      "14/14 [==============================] - 0s 2ms/step - loss: 0.0048\n",
      "14/14 [==============================] - 0s 2ms/step - loss: 0.0047\n"
     ]
    },
    {
     "name": "stdout",
     "output_type": "stream",
     "text": [
      "14/14 [==============================] - 0s 2ms/step - loss: 0.0049\n",
      "14/14 [==============================] - 0s 2ms/step - loss: 0.0052\n",
      "14/14 [==============================] - 0s 2ms/step - loss: 0.0050\n",
      "14/14 [==============================] - 0s 2ms/step - loss: 0.0052\n",
      "14/14 [==============================] - 0s 2ms/step - loss: 0.0048\n",
      "14/14 [==============================] - 0s 2ms/step - loss: 0.0048\n",
      "14/14 [==============================] - 0s 2ms/step - loss: 0.0052\n",
      "14/14 [==============================] - 0s 2ms/step - loss: 0.0048\n",
      "14/14 [==============================] - 0s 2ms/step - loss: 0.0052\n",
      "14/14 [==============================] - 0s 2ms/step - loss: 0.0056\n",
      "14/14 [==============================] - 0s 2ms/step - loss: 0.0048\n",
      "14/14 [==============================] - 0s 2ms/step - loss: 0.0049\n",
      "14/14 [==============================] - 0s 2ms/step - loss: 0.0052\n",
      "14/14 [==============================] - 0s 2ms/step - loss: 0.0047\n",
      "14/14 [==============================] - 0s 2ms/step - loss: 0.0051\n",
      "14/14 [==============================] - 0s 2ms/step - loss: 0.0051\n",
      "14/14 [==============================] - 0s 2ms/step - loss: 0.0053\n",
      "14/14 [==============================] - 0s 2ms/step - loss: 0.0047\n",
      "14/14 [==============================] - 0s 2ms/step - loss: 0.0050\n",
      "14/14 [==============================] - 0s 2ms/step - loss: 0.0053\n",
      "14/14 [==============================] - 0s 2ms/step - loss: 0.0052\n",
      "14/14 [==============================] - 0s 2ms/step - loss: 0.0054\n",
      "14/14 [==============================] - 0s 2ms/step - loss: 0.0050\n",
      "14/14 [==============================] - 0s 2ms/step - loss: 0.0049\n",
      "14/14 [==============================] - 0s 2ms/step - loss: 0.0047\n",
      "14/14 [==============================] - 0s 2ms/step - loss: 0.0048\n",
      "14/14 [==============================] - 0s 2ms/step - loss: 0.0048\n",
      "14/14 [==============================] - 0s 2ms/step - loss: 0.0053\n",
      "14/14 [==============================] - 0s 2ms/step - loss: 0.0050\n",
      "14/14 [==============================] - 0s 2ms/step - loss: 0.0048\n",
      "14/14 [==============================] - 0s 2ms/step - loss: 0.0049\n",
      "14/14 [==============================] - 0s 2ms/step - loss: 0.0050\n",
      "14/14 [==============================] - 0s 2ms/step - loss: 0.0048\n",
      "14/14 [==============================] - 0s 2ms/step - loss: 0.0048\n",
      "14/14 [==============================] - 0s 2ms/step - loss: 0.0048\n",
      "14/14 [==============================] - 0s 2ms/step - loss: 0.0052\n",
      "14/14 [==============================] - 0s 2ms/step - loss: 0.0047\n",
      "14/14 [==============================] - 0s 2ms/step - loss: 0.0048\n",
      "14/14 [==============================] - 0s 2ms/step - loss: 0.0050\n",
      "14/14 [==============================] - 0s 2ms/step - loss: 0.0049\n",
      "14/14 [==============================] - 0s 2ms/step - loss: 0.0047\n",
      "14/14 [==============================] - 0s 2ms/step - loss: 0.0054\n",
      "14/14 [==============================] - 0s 2ms/step - loss: 0.0047\n",
      "14/14 [==============================] - 0s 2ms/step - loss: 0.0055\n",
      "14/14 [==============================] - 0s 2ms/step - loss: 0.0049\n",
      "14/14 [==============================] - 0s 2ms/step - loss: 0.0048\n",
      "14/14 [==============================] - 0s 2ms/step - loss: 0.0048\n",
      "14/14 [==============================] - 0s 2ms/step - loss: 0.0050\n",
      "14/14 [==============================] - 0s 2ms/step - loss: 0.0048\n",
      "14/14 [==============================] - 0s 2ms/step - loss: 0.0054\n",
      "14/14 [==============================] - 0s 2ms/step - loss: 0.0050\n",
      "14/14 [==============================] - 0s 2ms/step - loss: 0.0050\n",
      "14/14 [==============================] - 0s 2ms/step - loss: 0.0047\n",
      "14/14 [==============================] - 0s 2ms/step - loss: 0.0047\n",
      "14/14 [==============================] - 0s 2ms/step - loss: 0.0049\n",
      "14/14 [==============================] - 0s 2ms/step - loss: 0.0057\n",
      "14/14 [==============================] - 0s 2ms/step - loss: 0.0053\n",
      "14/14 [==============================] - 0s 2ms/step - loss: 0.0047\n",
      "14/14 [==============================] - 0s 3ms/step - loss: 0.0049\n",
      "14/14 [==============================] - 0s 2ms/step - loss: 0.0047\n",
      "14/14 [==============================] - 0s 2ms/step - loss: 0.0048\n",
      "14/14 [==============================] - 0s 2ms/step - loss: 0.0047\n",
      "14/14 [==============================] - 0s 2ms/step - loss: 0.0048\n",
      "14/14 [==============================] - 0s 2ms/step - loss: 0.0053\n",
      "14/14 [==============================] - 0s 2ms/step - loss: 0.0048\n",
      "14/14 [==============================] - 0s 2ms/step - loss: 0.0050\n",
      "14/14 [==============================] - 0s 2ms/step - loss: 0.0047\n",
      "14/14 [==============================] - 0s 2ms/step - loss: 0.0050\n",
      "14/14 [==============================] - 0s 2ms/step - loss: 0.0047\n",
      "14/14 [==============================] - 0s 2ms/step - loss: 0.0049\n",
      "14/14 [==============================] - 0s 2ms/step - loss: 0.0047\n",
      "14/14 [==============================] - 0s 2ms/step - loss: 0.0047\n",
      "14/14 [==============================] - 0s 2ms/step - loss: 0.0047\n",
      "14/14 [==============================] - 0s 2ms/step - loss: 0.0054\n",
      "14/14 [==============================] - 0s 2ms/step - loss: 0.0048\n",
      "14/14 [==============================] - 0s 2ms/step - loss: 0.0047\n",
      "14/14 [==============================] - 0s 2ms/step - loss: 0.0051\n",
      "14/14 [==============================] - 0s 2ms/step - loss: 0.0049\n",
      "14/14 [==============================] - 0s 2ms/step - loss: 0.0065\n",
      "14/14 [==============================] - 0s 2ms/step - loss: 0.0050\n",
      "14/14 [==============================] - 0s 2ms/step - loss: 0.0053\n",
      "14/14 [==============================] - 0s 2ms/step - loss: 0.0051\n",
      "14/14 [==============================] - 0s 2ms/step - loss: 0.0053\n",
      "14/14 [==============================] - 0s 2ms/step - loss: 0.0048\n",
      "14/14 [==============================] - 0s 2ms/step - loss: 0.0047\n",
      "14/14 [==============================] - 0s 2ms/step - loss: 0.0056\n",
      "14/14 [==============================] - 0s 2ms/step - loss: 0.0048\n",
      "14/14 [==============================] - 0s 2ms/step - loss: 0.0047\n",
      "14/14 [==============================] - 0s 2ms/step - loss: 0.0049\n",
      "14/14 [==============================] - 0s 2ms/step - loss: 0.0068\n",
      "14/14 [==============================] - 0s 2ms/step - loss: 0.0048\n",
      "14/14 [==============================] - 0s 2ms/step - loss: 0.0053\n",
      "14/14 [==============================] - 0s 2ms/step - loss: 0.0048\n",
      "14/14 [==============================] - 0s 2ms/step - loss: 0.0049\n",
      "14/14 [==============================] - 0s 2ms/step - loss: 0.0053\n",
      "14/14 [==============================] - 0s 2ms/step - loss: 0.0048\n",
      "14/14 [==============================] - 0s 2ms/step - loss: 0.0065\n",
      "14/14 [==============================] - 0s 2ms/step - loss: 0.0048\n",
      "14/14 [==============================] - 0s 2ms/step - loss: 0.0049\n",
      "14/14 [==============================] - 0s 2ms/step - loss: 0.0054\n",
      "14/14 [==============================] - 0s 2ms/step - loss: 0.0057\n",
      "14/14 [==============================] - 0s 2ms/step - loss: 0.0049\n",
      "14/14 [==============================] - 0s 2ms/step - loss: 0.0052\n",
      "14/14 [==============================] - 0s 2ms/step - loss: 0.0047\n",
      "14/14 [==============================] - 0s 2ms/step - loss: 0.0048\n",
      "14/14 [==============================] - 0s 2ms/step - loss: 0.0048\n",
      "14/14 [==============================] - 0s 2ms/step - loss: 0.0050\n",
      "14/14 [==============================] - 0s 2ms/step - loss: 0.0053\n",
      "14/14 [==============================] - 0s 2ms/step - loss: 0.0050\n",
      "14/14 [==============================] - 0s 2ms/step - loss: 0.0057\n",
      "14/14 [==============================] - 0s 2ms/step - loss: 0.0063\n",
      "14/14 [==============================] - 0s 2ms/step - loss: 0.0050\n",
      "14/14 [==============================] - 0s 2ms/step - loss: 0.0051\n",
      "14/14 [==============================] - 0s 2ms/step - loss: 0.0048\n",
      "14/14 [==============================] - 0s 2ms/step - loss: 0.0047\n",
      "14/14 [==============================] - 0s 2ms/step - loss: 0.0052\n",
      "14/14 [==============================] - 0s 2ms/step - loss: 0.0070\n",
      "14/14 [==============================] - 0s 2ms/step - loss: 0.0051\n",
      "14/14 [==============================] - 0s 2ms/step - loss: 0.0049\n",
      "14/14 [==============================] - 0s 2ms/step - loss: 0.0047\n"
     ]
    },
    {
     "name": "stdout",
     "output_type": "stream",
     "text": [
      "14/14 [==============================] - 0s 2ms/step - loss: 0.0053\n",
      "14/14 [==============================] - 0s 2ms/step - loss: 0.0053\n",
      "14/14 [==============================] - 0s 2ms/step - loss: 0.0049\n",
      "14/14 [==============================] - 0s 2ms/step - loss: 0.0048\n",
      "14/14 [==============================] - 0s 2ms/step - loss: 0.0061\n",
      "14/14 [==============================] - 0s 2ms/step - loss: 0.0047\n",
      "14/14 [==============================] - 0s 2ms/step - loss: 0.0049\n",
      "14/14 [==============================] - 0s 2ms/step - loss: 0.0047\n",
      "14/14 [==============================] - 0s 2ms/step - loss: 0.0048\n",
      "14/14 [==============================] - 0s 2ms/step - loss: 0.0047\n",
      "14/14 [==============================] - 0s 2ms/step - loss: 0.0048\n",
      "14/14 [==============================] - 0s 2ms/step - loss: 0.0048\n",
      "14/14 [==============================] - 0s 2ms/step - loss: 0.0049\n",
      "14/14 [==============================] - 0s 2ms/step - loss: 0.0047\n",
      "14/14 [==============================] - 0s 3ms/step - loss: 0.0048\n",
      "14/14 [==============================] - 0s 2ms/step - loss: 0.0049\n",
      "14/14 [==============================] - 0s 2ms/step - loss: 0.0054\n",
      "14/14 [==============================] - 0s 2ms/step - loss: 0.0048\n",
      "14/14 [==============================] - 0s 2ms/step - loss: 0.0051\n",
      "14/14 [==============================] - 0s 2ms/step - loss: 0.0050\n",
      "14/14 [==============================] - 0s 2ms/step - loss: 0.0048\n",
      "14/14 [==============================] - 0s 2ms/step - loss: 0.0053\n",
      "14/14 [==============================] - 0s 2ms/step - loss: 0.0072\n",
      "14/14 [==============================] - 0s 2ms/step - loss: 0.0052\n",
      "14/14 [==============================] - 0s 2ms/step - loss: 0.0051\n",
      "14/14 [==============================] - 0s 2ms/step - loss: 0.0047\n",
      "14/14 [==============================] - 0s 2ms/step - loss: 0.0050\n",
      "14/14 [==============================] - 0s 2ms/step - loss: 0.0048\n",
      "14/14 [==============================] - 0s 2ms/step - loss: 0.0047\n",
      "14/14 [==============================] - 0s 2ms/step - loss: 0.0053\n",
      "14/14 [==============================] - 0s 2ms/step - loss: 0.0064\n",
      "14/14 [==============================] - 0s 2ms/step - loss: 0.0055\n",
      "14/14 [==============================] - 0s 2ms/step - loss: 0.0049\n",
      "14/14 [==============================] - 0s 2ms/step - loss: 0.0052\n",
      "14/14 [==============================] - 0s 1ms/step - loss: 0.0050\n",
      "14/14 [==============================] - 0s 2ms/step - loss: 0.0050\n",
      "14/14 [==============================] - 0s 2ms/step - loss: 0.0058\n",
      "14/14 [==============================] - 0s 2ms/step - loss: 0.0051\n",
      "14/14 [==============================] - 0s 2ms/step - loss: 0.0060\n",
      "14/14 [==============================] - 0s 2ms/step - loss: 0.0048\n",
      "14/14 [==============================] - 0s 2ms/step - loss: 0.0050\n",
      "14/14 [==============================] - 0s 2ms/step - loss: 0.0051\n",
      "14/14 [==============================] - 0s 2ms/step - loss: 0.0050\n",
      "14/14 [==============================] - 0s 2ms/step - loss: 0.0061\n",
      "14/14 [==============================] - 0s 2ms/step - loss: 0.0049\n",
      "14/14 [==============================] - 0s 2ms/step - loss: 0.0060\n",
      "14/14 [==============================] - 0s 2ms/step - loss: 0.0053\n",
      "14/14 [==============================] - 0s 2ms/step - loss: 0.0049\n",
      "14/14 [==============================] - 0s 2ms/step - loss: 0.0048\n",
      "14/14 [==============================] - 0s 2ms/step - loss: 0.0053\n",
      "14/14 [==============================] - 0s 2ms/step - loss: 0.0049\n",
      "14/14 [==============================] - 0s 2ms/step - loss: 0.0054\n",
      "14/14 [==============================] - 0s 2ms/step - loss: 0.0057\n",
      "14/14 [==============================] - 0s 2ms/step - loss: 0.0051\n",
      "14/14 [==============================] - 0s 2ms/step - loss: 0.0047\n",
      "14/14 [==============================] - 0s 2ms/step - loss: 0.0047\n",
      "14/14 [==============================] - 0s 2ms/step - loss: 0.0049\n",
      "14/14 [==============================] - 0s 2ms/step - loss: 0.0048\n",
      "14/14 [==============================] - 0s 2ms/step - loss: 0.0049\n",
      "14/14 [==============================] - 0s 3ms/step - loss: 0.0052\n"
     ]
    }
   ],
   "source": [
    "results_df = pd.DataFrame(index=['1','2','3','4','5'], columns=['1','2','3'])\n",
    "for i in range(3):\n",
    "    for j in range(5):\n",
    "        total_loss = 0\n",
    "        for k in range(20):\n",
    "            total_loss += get_loss(i+1, j+1, 0.005)\n",
    "        results_df.iloc[j,i] = total_loss"
   ]
  },
  {
   "cell_type": "code",
   "execution_count": 197,
   "id": "5125e82a",
   "metadata": {},
   "outputs": [
    {
     "data": {
      "text/html": [
       "<div>\n",
       "<style scoped>\n",
       "    .dataframe tbody tr th:only-of-type {\n",
       "        vertical-align: middle;\n",
       "    }\n",
       "\n",
       "    .dataframe tbody tr th {\n",
       "        vertical-align: top;\n",
       "    }\n",
       "\n",
       "    .dataframe thead th {\n",
       "        text-align: right;\n",
       "    }\n",
       "</style>\n",
       "<table border=\"1\" class=\"dataframe\">\n",
       "  <thead>\n",
       "    <tr style=\"text-align: right;\">\n",
       "      <th></th>\n",
       "      <th>1</th>\n",
       "      <th>2</th>\n",
       "      <th>3</th>\n",
       "    </tr>\n",
       "  </thead>\n",
       "  <tbody>\n",
       "    <tr>\n",
       "      <th>1</th>\n",
       "      <td>0.09707</td>\n",
       "      <td>0.099113</td>\n",
       "      <td>0.103263</td>\n",
       "    </tr>\n",
       "    <tr>\n",
       "      <th>2</th>\n",
       "      <td>0.096317</td>\n",
       "      <td>0.100731</td>\n",
       "      <td>0.103853</td>\n",
       "    </tr>\n",
       "    <tr>\n",
       "      <th>3</th>\n",
       "      <td>0.096703</td>\n",
       "      <td>0.098627</td>\n",
       "      <td>0.099315</td>\n",
       "    </tr>\n",
       "    <tr>\n",
       "      <th>4</th>\n",
       "      <td>0.096517</td>\n",
       "      <td>0.099546</td>\n",
       "      <td>0.105452</td>\n",
       "    </tr>\n",
       "    <tr>\n",
       "      <th>5</th>\n",
       "      <td>0.095784</td>\n",
       "      <td>0.099244</td>\n",
       "      <td>0.102791</td>\n",
       "    </tr>\n",
       "  </tbody>\n",
       "</table>\n",
       "</div>"
      ],
      "text/plain": [
       "          1         2         3\n",
       "1   0.09707  0.099113  0.103263\n",
       "2  0.096317  0.100731  0.103853\n",
       "3  0.096703  0.098627  0.099315\n",
       "4  0.096517  0.099546  0.105452\n",
       "5  0.095784  0.099244  0.102791"
      ]
     },
     "execution_count": 197,
     "metadata": {},
     "output_type": "execute_result"
    }
   ],
   "source": [
    "results_df"
   ]
  },
  {
   "cell_type": "markdown",
   "id": "17826ea6",
   "metadata": {},
   "source": [
    "Let's use a heatmap to make trend in our results more obvious."
   ]
  },
  {
   "cell_type": "code",
   "execution_count": 198,
   "id": "2b3b41b1",
   "metadata": {},
   "outputs": [
    {
     "data": {
      "text/plain": [
       "<AxesSubplot:>"
      ]
     },
     "execution_count": 198,
     "metadata": {},
     "output_type": "execute_result"
    },
    {
     "data": {
      "image/png": "[encoded data removed]",
      "text/plain": [
       "<Figure size 432x288 with 2 Axes>"
      ]
     },
     "metadata": {
      "needs_background": "light"
     },
     "output_type": "display_data"
    }
   ],
   "source": [
    "df = results_df.astype(float)\n",
    "\n",
    "sns.heatmap(df, annot=True)\n"
   ]
  },
  {
   "cell_type": "markdown",
   "id": "25443ffd",
   "metadata": {},
   "source": [
    "The results are close but the best performing configuration was 1,5 nodes in each hidden layer. So let's train a model with this configuration and make some predictions.\n",
    "note: in other iterations I tested more than five nodes in the second layer and they performed worse. A subsequent iteration was run with the range between 1-5 so that I could train each model 20 times."
   ]
  },
  {
   "cell_type": "code",
   "execution_count": 199,
   "id": "e2c7949b",
   "metadata": {},
   "outputs": [],
   "source": [
    "s_train_data_final = slightlySmallerDF.sample(frac=0.8, random_state=0)\n",
    "s_test_data_final = slightlySmallerDF.drop(s_train_data_final.index)\n",
    "\n",
    "s_train_labels_final = s_train_data_final.pop('Inclusion Rate')\n",
    "s_test_labels_final = s_test_data_final.pop('Inclusion Rate')\n",
    "\n",
    "s_normalizer.adapt(s_train_data_final)\n",
    "\n",
    "s_linear_model_final = tf.keras.Sequential([\n",
    "    s_normalizer,\n",
    "    layers.Dense(units=1),\n",
    "    layers.Dense(units=5),\n",
    "    layers.Dense(units=1)\n",
    "])\n",
    "\n",
    "s_linear_model_final.compile(\n",
    "    optimizer=tf.optimizers.Adam(learning_rate=0.01),\n",
    "    loss='mean_absolute_error')"
   ]
  },
  {
   "cell_type": "code",
   "execution_count": 200,
   "id": "39e8333b",
   "metadata": {},
   "outputs": [
    {
     "data": {
      "image/png": "[encoded data removed]",
      "text/plain": [
       "<Figure size 432x288 with 1 Axes>"
      ]
     },
     "metadata": {
      "needs_background": "light"
     },
     "output_type": "display_data"
    }
   ],
   "source": [
    "s_history_final = s_linear_model_final.fit(\n",
    "    s_train_data_final,\n",
    "    s_train_labels_final,\n",
    "    epochs=50,\n",
    "    verbose=0,\n",
    "    validation_split = 0.2)\n",
    "\n",
    "plot_loss(s_history_final)"
   ]
  },
  {
   "cell_type": "markdown",
   "id": "0a30bc67",
   "metadata": {},
   "source": [
    "This plot is a bit zoomed out so let's make another one with a smaller y limit."
   ]
  },
  {
   "cell_type": "code",
   "execution_count": 201,
   "id": "feeb141c",
   "metadata": {},
   "outputs": [
    {
     "data": {
      "image/png": "[encoded data removed]",
      "text/plain": [
       "<Figure size 432x288 with 1 Axes>"
      ]
     },
     "metadata": {
      "needs_background": "light"
     },
     "output_type": "display_data"
    }
   ],
   "source": [
    "def plot_loss_mini(s_history):\n",
    "  plt.plot(s_history.history['loss'], label='loss')\n",
    "  plt.plot(s_history.history['val_loss'], label='val_loss')\n",
    "  plt.ylim([0, .1])\n",
    "  plt.xlabel('Epoch')\n",
    "  plt.ylabel('Error [Inclusion Rate]')\n",
    "  plt.legend()\n",
    "  plt.grid(True)\n",
    "\n",
    "plot_loss_mini(s_history_final)"
   ]
  },
  {
   "cell_type": "code",
   "execution_count": 202,
   "id": "65331065",
   "metadata": {},
   "outputs": [
    {
     "name": "stdout",
     "output_type": "stream",
     "text": [
      "14/14 [==============================] - 0s 1ms/step - loss: 0.0056\n"
     ]
    },
    {
     "data": {
      "text/plain": [
       "0.005636945832520723"
      ]
     },
     "execution_count": 202,
     "metadata": {},
     "output_type": "execute_result"
    }
   ],
   "source": [
    "s_linear_model_final.evaluate(s_test_data_final, s_test_labels_final)"
   ]
  },
  {
   "cell_type": "markdown",
   "id": "179d6314",
   "metadata": {},
   "source": [
    "Loss around .005 seems about right. This model looks good so let's try some hypothetical cards. Before we use any of our more complex features let's use our baisic features, the stats and cost of each card. Ideally a card has a high stats to cost ratio so let's try three examples and see if our model correctly asseses these cards. In adition to stats the only thing a card needs is a rarity so lets use the standard 'Rare' rarity just to be sure that all these examples could be real cards. See above for a full list of features in order."
   ]
  },
  {
   "cell_type": "code",
   "execution_count": 223,
   "id": "a27eb826",
   "metadata": {},
   "outputs": [],
   "source": [
    "sample = np.zeros([11,57])\n",
    "#low cost high stats, should have an high PR\n",
    "sample[0,0] = 0 #cost\n",
    "sample[0,1] = 10 #attack\n",
    "sample[0,2] = 10 #health\n",
    "sample[0,36] = 1 #rarity = rare\n",
    "#high cost high stats, should have a middling PR\n",
    "sample[1,0] = 10\n",
    "sample[1,1] = 10\n",
    "sample[1,2] = 10\n",
    "sample[1,36] = 1\n",
    "#high cost low stats, should have a low PR\n",
    "sample[2,0] = 10\n",
    "sample[2,1] = 1\n",
    "sample[2,2] = 1\n",
    "sample[2,36] = 1"
   ]
  },
  {
   "cell_type": "code",
   "execution_count": 224,
   "id": "55336af7",
   "metadata": {},
   "outputs": [
    {
     "name": "stdout",
     "output_type": "stream",
     "text": [
      "1/1 [==============================] - 0s 383ms/step\n"
     ]
    },
    {
     "data": {
      "text/plain": [
       "array([[0.00587534],\n",
       "       [0.00605444],\n",
       "       [0.00722372],\n",
       "       [0.00731411],\n",
       "       [0.00731411],\n",
       "       [0.00731411],\n",
       "       [0.00731411],\n",
       "       [0.00731411],\n",
       "       [0.00731411],\n",
       "       [0.00731411],\n",
       "       [0.00731411]], dtype=float32)"
      ]
     },
     "execution_count": 224,
     "metadata": {},
     "output_type": "execute_result"
    }
   ],
   "source": [
    "s_linear_model_final.predict(sample)"
   ]
  },
  {
   "cell_type": "markdown",
   "id": "02dfeb4c",
   "metadata": {},
   "source": [
    "Looking at the first three rows we can see that this model is not working as expected. It is making the opposite predictions about PR based on stats. The logical explination I can see for this is that most cards in Hearthstone aren't played for their raw stats, they are usually played because of the effects they have. Cards that are just stats with no effects exist, but they usually see very little play. So a model that has more information might correctly discern that cards that are over-statted see less play than under-statted cards with a powerful effect. Let's try contrasting it with our underfit model to see if it also makes incorrect predictions."
   ]
  },
  {
   "cell_type": "code",
   "execution_count": 225,
   "id": "5cff3ba3",
   "metadata": {},
   "outputs": [
    {
     "name": "stdout",
     "output_type": "stream",
     "text": [
      "1/1 [==============================] - 0s 361ms/step\n"
     ]
    },
    {
     "data": {
      "text/plain": [
       "array([[0.01021937],\n",
       "       [0.00843859],\n",
       "       [0.00509482]], dtype=float32)"
      ]
     },
     "execution_count": 225,
     "metadata": {},
     "output_type": "execute_result"
    }
   ],
   "source": [
    "underfit_sample = np.zeros([3,3])\n",
    "#low cost high stats, should have an high PR\n",
    "underfit_sample[0,0] = 0\n",
    "underfit_sample[0,1] = 10\n",
    "underfit_sample[0,2] = 10\n",
    "#high cost high stats, should have a middling PR\n",
    "underfit_sample[1,0] = 10\n",
    "underfit_sample[1,1] = 10\n",
    "underfit_sample[1,2] = 10\n",
    "#high cost low stats, should have a low PR\n",
    "underfit_sample[2,0] = 10\n",
    "underfit_sample[2,1] = 1\n",
    "underfit_sample[2,2] = 1\n",
    "\n",
    "linear_model_underfit.predict(underfit_sample)"
   ]
  },
  {
   "cell_type": "markdown",
   "id": "a6600eb2",
   "metadata": {},
   "source": [
    "So the model that only can access the information on stats and mana-cost does make the correct predictions here. If my previous hypothesis was true this woulnd't be the case. If higher statted cards had a lower PR this model should have the same results. Our first model must be minimizing the importance of stats and mana cost in favor of looking at key-words, and therefore makes incorrect predictions about stats when that is the only information it has. This tells us that a card's keywords are much more important than it's stats and mana-cost."
   ]
  },
  {
   "cell_type": "markdown",
   "id": "cf5420fb",
   "metadata": {},
   "source": [
    "Since key words are important let's look at some types of keywords. One kind of keyword is a tribe. Tribes are strictly upgrades since it allows for synergy with other minions of the same tribe. Let's add two minions, one from the pirate tribe and one from the quilboar tribe. We expect both tribal minions to be higher than their non-tribal counterparts. In the current metagame pirates are better than quilboars, so we expect to see a higher PR for the pirate card."
   ]
  },
  {
   "cell_type": "code",
   "execution_count": 226,
   "id": "5a9001d5",
   "metadata": {},
   "outputs": [
    {
     "name": "stdout",
     "output_type": "stream",
     "text": [
      "1/1 [==============================] - 0s 329ms/step\n"
     ]
    },
    {
     "data": {
      "text/plain": [
       "array([[0.00587534],\n",
       "       [0.00605444],\n",
       "       [0.00722372],\n",
       "       [0.00786533],\n",
       "       [0.01084048],\n",
       "       [0.00731411],\n",
       "       [0.00731411],\n",
       "       [0.00731411],\n",
       "       [0.00731411],\n",
       "       [0.00731411],\n",
       "       [0.00731411]], dtype=float32)"
      ]
     },
     "execution_count": 226,
     "metadata": {},
     "output_type": "execute_result"
    }
   ],
   "source": [
    "#middle stats but let's make this minion a pirate\n",
    "sample[3,0] = 10\n",
    "sample[3,1] = 10\n",
    "sample[3,2] = 10\n",
    "sample[3,36] = 1\n",
    "sample[3,49] = 10\n",
    "#lets make another minion a quilboar\n",
    "sample[4,0] = 10\n",
    "sample[4,1] = 10\n",
    "sample[4,2] = 10\n",
    "sample[4,36] = 1\n",
    "sample[4,50] = 10\n",
    "s_linear_model_final.predict(sample)"
   ]
  },
  {
   "cell_type": "markdown",
   "id": "86b1c6a5",
   "metadata": {},
   "source": [
    "Looking ar rows 4 and 5 we see that our model predicts what we expect to see, both minions have a higher PR than the baseline and the pirate has a higher PR than the quillboar. "
   ]
  },
  {
   "cell_type": "markdown",
   "id": "096f3d5d",
   "metadata": {},
   "source": [
    "Next let's look at keywords. Keywords are more complicated than tribes because they can be good or bad. However, they are generally good. The two keywords I want to look at are rush and deathrattle. Rush is a more powerful keyword, so we expect to see a rush minion to have a higher PR than a deathrattle minion."
   ]
  },
  {
   "cell_type": "code",
   "execution_count": 227,
   "id": "d76bb2f7",
   "metadata": {},
   "outputs": [
    {
     "name": "stdout",
     "output_type": "stream",
     "text": [
      "1/1 [==============================] - 0s 311ms/step\n"
     ]
    },
    {
     "data": {
      "text/plain": [
       "array([[0.00587534],\n",
       "       [0.00605444],\n",
       "       [0.00722372],\n",
       "       [0.00786533],\n",
       "       [0.01084048],\n",
       "       [0.00859874],\n",
       "       [0.00596065],\n",
       "       [0.00731411],\n",
       "       [0.00731411],\n",
       "       [0.00731411],\n",
       "       [0.00731411]], dtype=float32)"
      ]
     },
     "execution_count": 227,
     "metadata": {},
     "output_type": "execute_result"
    }
   ],
   "source": [
    "#rush\n",
    "sample[5,0] = 10\n",
    "sample[5,1] = 10\n",
    "sample[5,2] = 10\n",
    "sample[5,36] = 1\n",
    "sample[5,24] = 11\n",
    "# deathrattle\n",
    "sample[6,0] = 10\n",
    "sample[6,1] = 10\n",
    "sample[6,2] = 10\n",
    "sample[6,36] = 1\n",
    "sample[6,9] = 1\n",
    "s_linear_model_final.predict(sample)"
   ]
  },
  {
   "cell_type": "markdown",
   "id": "42713590",
   "metadata": {},
   "source": [
    "Looking at rows 6 and 7 we see our model predicts what we expect to see, with a fairly large difference between the two. Another difference between rush and deathrattle is that rush is stronger when the minion that posesses it is large. So a 10 mana rush minion with 10 attack and 10 health should be stronger than a 1 mana rush minion with 1 attack and 1 health. Deathrattle has nothing to do with stats so we shouldn't expect there to be any major interaction between having deathrattle and stats. So if our model is good a 1 mana minion with rush and a 1 mana minion with deathrattle should have much closer PRs than their 10 mana counterparts."
   ]
  },
  {
   "cell_type": "code",
   "execution_count": 230,
   "id": "350c90e2",
   "metadata": {},
   "outputs": [
    {
     "name": "stdout",
     "output_type": "stream",
     "text": [
      "1/1 [==============================] - 0s 287ms/step\n"
     ]
    },
    {
     "data": {
      "text/plain": [
       "array([[0.00587534],\n",
       "       [0.00605444],\n",
       "       [0.00722372],\n",
       "       [0.00786533],\n",
       "       [0.01084048],\n",
       "       [0.00859874],\n",
       "       [0.00596065],\n",
       "       [0.00697309],\n",
       "       [0.00696867],\n",
       "       [0.00437512],\n",
       "       [0.00444164]], dtype=float32)"
      ]
     },
     "execution_count": 230,
     "metadata": {},
     "output_type": "execute_result"
    }
   ],
   "source": [
    "#rush\n",
    "sample[7,0] = 1\n",
    "sample[7,1] = 1\n",
    "sample[7,2] = 1\n",
    "sample[7,36] = 1\n",
    "sample[7,24] = 1\n",
    "# deathrattle\n",
    "sample[8,0] = 1\n",
    "sample[8,1] = 1\n",
    "sample[8,2] = 1\n",
    "sample[8,36] = 1\n",
    "sample[8,9] = 1\n",
    "s_linear_model_final.predict(sample)"
   ]
  },
  {
   "cell_type": "markdown",
   "id": "bb73e687",
   "metadata": {},
   "source": [
    "Again our model predicts what I expected to see in rows eight and nine. I think this is the most impressive prediction since it shows an underlying connection between certain mechanics and stats. This relation would not exist in a simple regression and justifies the use of a neural network."
   ]
  },
  {
   "cell_type": "markdown",
   "id": "536f7a46",
   "metadata": {},
   "source": [
    "The last thing I want to investigate is what the model predicts about rarity. Legendary cards are more expensive than common cards, and generally more powerful. I cannot predict which will be more common. On one hand, legendary cards are more expensive so we should expet the cheaper cards to be more accessible and have a higher PR. On the other hand, there are lots of common cards that see zero play, so that might outweigh the cost factor. "
   ]
  },
  {
   "cell_type": "code",
   "execution_count": 229,
   "id": "cd9ae064",
   "metadata": {},
   "outputs": [
    {
     "name": "stdout",
     "output_type": "stream",
     "text": [
      "1/1 [==============================] - 0s 286ms/step\n"
     ]
    },
    {
     "data": {
      "text/plain": [
       "array([[0.00587534],\n",
       "       [0.00605444],\n",
       "       [0.00722372],\n",
       "       [0.00786533],\n",
       "       [0.01084048],\n",
       "       [0.00859874],\n",
       "       [0.00596065],\n",
       "       [0.00711262],\n",
       "       [0.00696867],\n",
       "       [0.00437512],\n",
       "       [0.00444164]], dtype=float32)"
      ]
     },
     "execution_count": 229,
     "metadata": {},
     "output_type": "execute_result"
    }
   ],
   "source": [
    "#common\n",
    "sample[9,0] = 10\n",
    "sample[9,1] = 10\n",
    "sample[9,2] = 10\n",
    "sample[9,33] = 1\n",
    "#legendary\n",
    "sample[10,0] = 10\n",
    "sample[10,1] = 10\n",
    "sample[10,2] = 10\n",
    "sample[10,35] = 1\n",
    "s_linear_model_final.predict(sample)"
   ]
  },
  {
   "cell_type": "markdown",
   "id": "e3e371ce",
   "metadata": {},
   "source": [
    "Looking at rows ten and eleven we can see that the PR is close for legendary and common cards. I think this is likely because of a balance between the factors I mentioned above. I think an analysis with less domain knowledge might assume that there is not a major difference in raw power between common and legendary cards, ignoring the importance of cost. This is a good example of how important domain knowledge is in analysis of data."
   ]
  },
  {
   "cell_type": "markdown",
   "id": "7af0d202",
   "metadata": {},
   "source": [
    "Overall I am satisfied with this project. I think other than raw statistics this model generally made intuitive predictions about card PR, and even gave some insight into a novel question (stength vs cost in a cards PR). Ultimately though, this model is still limited by two major factors. The first is that it does not take into account any of the card-specific text. Most cards have unique effects that go beyond just the keywords. Hypothetically this text could be analyzed with natural language processing. This brings us to our second issue, the size of our dataset. 2500 items is likely not large enough to enable us to use nlp to analyze card specific text. I am surprised that our model performed as well as it did considering the relivtively small size of the dataset. \n",
    "Although the majority of this notebook is dedicated to model construction, the most time-consuming portion was actually scraping the card PR data from hsreplay.net. I think this project shows that I am competent using TensorFlow, but I think it should really highlight my skill in data collection and processing. \n",
    "This project could be extended by including other types of cards(spells, weapons, heros) in my analysis. The reason they were not included in the current interation of this project is that they would introduce a significant number of new features without dramatically increasing the size of the dataset (there are many more minions than any other type of card). There is nothing that makes this analysis impossible, just like likely to be productive. I may extend this project in the future."
   ]
  }
 ],
 "metadata": {
  "kernelspec": {
   "display_name": "Python 3 (ipykernel)",
   "language": "python",
   "name": "python3"
  },
  "language_info": {
   "codemirror_mode": {
    "name": "ipython",
    "version": 3
   },
   "file_extension": ".py",
   "mimetype": "text/x-python",
   "name": "python",
   "nbconvert_exporter": "python",
   "pygments_lexer": "ipython3",
   "version": "3.9.6"
  }
 },
 "nbformat": 4,
 "nbformat_minor": 5
}
